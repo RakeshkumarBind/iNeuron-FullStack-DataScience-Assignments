{
 "cells": [
  {
   "cell_type": "markdown",
   "id": "cdc0a6fa",
   "metadata": {},
   "source": [
    "# Q1.\n",
    "What is the concept of a metaclass?"
   ]
  },
  {
   "cell_type": "markdown",
   "id": "075a1baa",
   "metadata": {},
   "source": [
    "<b>Answer:</b><br>Metaclass in Python is a class of a class that defines how a class behaves. A class is itself a instance of Metaclass, and any Instance of Class in Python is an Instance of type metaclass. E.g. Type of of int, str, float, list, tuple and many more is of metaclass type."
   ]
  },
  {
   "cell_type": "code",
   "execution_count": 5,
   "id": "f4f903c4",
   "metadata": {},
   "outputs": [],
   "source": [
    "# metaclass\n",
    "class MultiBases(type):\n",
    "    # overriding __new__ method\n",
    "    def __new__(cls, clsname, bases, clsdict):\n",
    "        # if no of base classes is greater than 1\n",
    "        # raise error\n",
    "        if len(bases)>1:\n",
    "            raise TypeError(\"Inherited multiple base classes!!!\")\n",
    "            # else execute __new__ method of super class, ie.\n",
    "            # call __init__ of type class\n",
    "            return super().__new__(cls, clsname, bases, clsdict)\n",
    "        # metaclass can be specified by 'metaclass' keyword argument\n",
    "        # now MultiBase class is used for creating classes\n",
    "        # this will be propagated to all subclasses of Base\n",
    "        class Base(metaclass=MultiBases):\n",
    "            pass\n",
    "        # no error is raised\n",
    "        class A(Base):\n",
    "            pass\n",
    "        # no error is raised\n",
    "        class B(Base):\n",
    "            pass\n",
    "        \n",
    "        # This will raise an error!\n",
    "        class C(A, B):\n",
    "            pass"
   ]
  },
  {
   "cell_type": "markdown",
   "id": "ad290cde",
   "metadata": {},
   "source": [
    "# Q2.\n",
    "What is the best way to declare a class&#39;s metaclass?"
   ]
  },
  {
   "cell_type": "markdown",
   "id": "9995aed9",
   "metadata": {},
   "source": [
    "<b>Answer:</b><br>The best way to declare a class's metaclass in Python is to explicitly specify the metaclass when defining the class using the metaclass keyword argument. "
   ]
  },
  {
   "cell_type": "code",
   "execution_count": 6,
   "id": "05c41658",
   "metadata": {},
   "outputs": [
    {
     "name": "stdout",
     "output_type": "stream",
     "text": [
      "<class 'type'>\n",
      "<class '__main__.meta'>\n"
     ]
    }
   ],
   "source": [
    "class meta(type):\n",
    "    pass\n",
    "class class_meta(metaclass=meta):\n",
    "    pass\n",
    "print(type(meta))\n",
    "print(type(class_meta))"
   ]
  },
  {
   "cell_type": "markdown",
   "id": "336623e9",
   "metadata": {},
   "source": [
    "# Q3.\n",
    "How do class decorators overlap with metaclasses for handling classes?"
   ]
  },
  {
   "cell_type": "markdown",
   "id": "b5f202fe",
   "metadata": {},
   "source": [
    "<b>Answer:</b><br>Class decorators and metaclasses are both advanced Python features that can be used to customize and modify the behavior of classes. While they serve similar purposes, they operate at different levels and have distinct use cases.<br>\n",
    "\n",
    "Overlap: <br>\n",
    "-While class decorators and metaclasses serve similar purposes of modifying classes, their primary overlap is in adding class-level attributes, methods, or behaviors.<br>\n",
    "-Both can be used to enhance or modify the structure and behavior of classes.<br>\n",
    "-Class decorators are typically simpler to use and are more suitable for making specific changes to individual classes.<br>\n",
    "-Metaclasses provide a higher level of control and are more suitable for enforcing a consistent structure or behavior across multiple classes in a hierarchy.<br>\n",
    "-In some cases, you may use both class decorators and metaclasses within the same project to achieve different levels of customization.<br>\n",
    "\n",
    "In summary, class decorators and metaclasses are two advanced Python features that allow you to customize and modify classes. While they can overlap in some aspects, they differ in their level of control and scope. The choice between them depends on the specific needs of your project and the level of customization required for your classes.<br>\n",
    "\n",
    "`Anything you  do with a class decorator, you can also do with a custom metaclasses (just apply the functionality of the \"decorator function\", i.e., the one that takes a class object and modifies it, in the course of the metaclass's __new__ or __init__ that make the class object!).`"
   ]
  },
  {
   "cell_type": "markdown",
   "id": "3367017c",
   "metadata": {},
   "source": [
    "# Q4. \n",
    "How do class decorators overlap with metaclasses for handling instances?"
   ]
  },
  {
   "cell_type": "markdown",
   "id": "3b1f4ed9",
   "metadata": {},
   "source": [
    "<b>Answer:</b><br>Class decorators and metaclasses primarily focus on handling classes, not instances. They are mechanisms for customizing and modifying class-level behavior and structure. While they can indirectly influence instances by adding or modifying class-level attributes or methods, their primary role is in shaping classes.<br>\n",
    "\n",
    "To handle instances directly, you typically use instance methods, class constructors (__init__ method), or other object-oriented techniques within the class definition. Instances are created from classes, and their behavior is determined by the class's structure and the methods defined within it.<br>\n",
    "\n",
    "`Class Decorators and Metaclasses`: These mechanisms customize the blueprint (class) itself, affecting how classes are constructed. Any influence on instances is indirect, typically through class-level attributes or methods.<br>\n",
    "\n",
    "`Instance Methods`: These methods are defined within the class and directly handle instances. They specify how instances behave and interact with their attributes.<br>\n",
    "\n",
    "\n",
    "\n"
   ]
  },
  {
   "cell_type": "code",
   "execution_count": null,
   "id": "382279e4",
   "metadata": {},
   "outputs": [],
   "source": []
  },
  {
   "cell_type": "code",
   "execution_count": null,
   "id": "fc1c0481",
   "metadata": {},
   "outputs": [],
   "source": []
  }
 ],
 "metadata": {
  "kernelspec": {
   "display_name": "Python 3 (ipykernel)",
   "language": "python",
   "name": "python3"
  },
  "language_info": {
   "codemirror_mode": {
    "name": "ipython",
    "version": 3
   },
   "file_extension": ".py",
   "mimetype": "text/x-python",
   "name": "python",
   "nbconvert_exporter": "python",
   "pygments_lexer": "ipython3",
   "version": "3.9.12"
  }
 },
 "nbformat": 4,
 "nbformat_minor": 5
}
