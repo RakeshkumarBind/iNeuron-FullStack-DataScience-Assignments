{
 "cells": [
  {
   "cell_type": "markdown",
   "id": "8ce2e3e5",
   "metadata": {},
   "source": [
    "# Q1.\n",
    "Define the relationship between a class and its instances. Is it a one-to-one or a one-to-many\n",
    "partnership, for example?"
   ]
  },
  {
   "cell_type": "markdown",
   "id": "4279f1d2",
   "metadata": {},
   "source": [
    "<b>Answer:</b><br>Relationship between a class and its instances is a one to many partnership. Object is a physical entity or real word entity. An object occupies space in memory. Example:-banana,chair,pen etc are objects. Class is a logical entity which does not exist in real world. Or we can say that class is a blueprint to create objects of similiar types. A class does not take space in memory. Examples:-fruits,furniture,vehicles etc."
   ]
  },
  {
   "cell_type": "markdown",
   "id": "7d367d5a",
   "metadata": {},
   "source": [
    "# Q2.\n",
    "What kind of data is held only in an instance?"
   ]
  },
  {
   "cell_type": "markdown",
   "id": "e7c3e511",
   "metadata": {},
   "source": [
    "<b>Answer:</b><br>Data that is held only in an instance is typically data that is specific to that particular instance of the class, and is not shared with other instances of the same class. This could include data that is created and managed by the instance itself, such as its own attributes and variables, as well as data that is stored in temporary memory or cache.<br>\n",
    "\n",
    "Here are some examples of data that might be held only in an instance:<br>\n",
    "\n",
    "*Instance variables: These are variables that are defined within a class and are unique to each instance of the class. They are not shared with other instances, and are therefore specific to each individual instance.<br>\n",
    "*Local variables: These are variables that are defined within a function or method and are only accessible within that function or method. They are not shared with other parts of the program, and are therefore specific to each individual instance.<br>\n",
    "*Temporary data: This is data that is generated and used temporarily during the execution of a program. It might include things like intermediate calculation results, temporary files, or cached data that is specific to a particular instance.<br>\n",
    "*Cache data: Some programs use caching to speed up access to frequently used data. This data is typically stored in memory, and is specific to each instance of the program.<br>\n",
    "*Session data: In web applications, session data is used to store information about a user's interactions with the application. This data is typically stored on the server side, and is specific to each individual user session.<br>"
   ]
  },
  {
   "cell_type": "markdown",
   "id": "c5875c3d",
   "metadata": {},
   "source": [
    "# Q3.\n",
    "What kind of knowledge is stored in a class?"
   ]
  },
  {
   "cell_type": "markdown",
   "id": "67bd9e4a",
   "metadata": {},
   "source": [
    "<b>Answer:</b><br>A class stores several types of knowledge, including:<br>\n",
    "\n",
    "1.`Attributes`: Classes define attributes (also known as data members) that describe the properties or characteristics of objects that belong to the class. Attributes represent the state of an object and are used to store information about the object. For example, a Car class might have attributes like color, make, model, and year.<br>\n",
    "2.`Methods`: Classes define methods (also known as functions) that describe the behavior of objects that belong to the class. Methods represent actions or operations that can be performed on an object. For example, a Car class might have methods like start_engine(), accelerate(), and brake().<br>\n",
    "3.`Properties`: Classes can also define properties, which are read-only attributes that provide additional information about an object. Properties are typically used to provide a concise way to access and manipulate attribute values. For example, a Car class might have a property called speed that returns the current speed of the car.<br>\n",
    "4.`Events`: Classes can define events, which are notifications that occur when something significant happens to an object. Events allow objects to communicate with each other and respond to changes in the environment. For example, a Car class might have an event called horn_honked that is triggered when the horn is honked.<br>\n",
    "5.`Static variables and methods`: Classes can also define static variables and methods, which are shared among all instances of the class. Static variables and methods are useful when you need to store or manipulate data that is common to all instances of a class. For example, a Math class might have a static method called sqrt() that calculates the square root of a number.<br>\n",
    "6.`Inner classes and interfaces`: Classes can contain inner classes and interfaces, which are nested classes that provide additional functionality. Inner classes and interfaces are useful when you need to group related classes together or define a contract for a class to implement.<br>\n",
    "7.`Enums`: Classes can also define enums, which are special classes that represent a set of named constants. Enums are useful when you need to define a set of named values that can be used in different parts of your program."
   ]
  },
  {
   "cell_type": "markdown",
   "id": "53aa7fed",
   "metadata": {},
   "source": [
    "# Q4. \n",
    "What exactly is a method, and how is it different from a regular function?"
   ]
  },
  {
   "cell_type": "markdown",
   "id": "8113788c",
   "metadata": {},
   "source": [
    "<b>Answer:</b><br>A method is a block of code that is associated with a class or object. It is similar to a regular function in that it performs a specific task, but there are some key differences. Here are the main differences between a method and a regular function:<br>\n",
    "\n",
    "1.`Association with a class or object`: A method is associated with a class or object, whereas a regular function is not. This means that a method has access to the data and properties of the class or object it belongs to, and can modify them if necessary.<br>\n",
    "2.`Access to private data`: Because a method is associated with a class or object, it has access to the private data and properties of that class or object. Regular functions do not have access to private data unless they are passed as arguments.<br>\n",
    "3.`Ability to modify the class or object`: Since a method has access to the private data and properties of the class or object it belongs to, it can modify them if necessary. Regular functions cannot modify the data they are given as input.<br>\n",
    "4.`Scope`: The scope of a method is limited to the class or object it belongs to, whereas the scope of a regular function is global. This means that a method can only be accessed within the context of the class or object it belongs to, while a regular function can be accessed from anywhere in the program.<br>\n",
    "5.`Calling conventions`: Methods are typically called using the dot notation (e.g., obj.method()), while regular functions are called using the function name (e.g., func()).<br>\n",
    "6.`Return value`: Methods can return a value to the caller, just like regular functions. However, methods can also return a value to the class or object they belong to, which can be used to update the state of the class or object.<br>\n",
    "7.`Parameters`: Both methods and regular functions can take parameters, but methods can also take \"self\" as a parameter, which refers to the class or object the method belongs to.<br>\n",
    "8.`Overloading`: Methods can be overloaded, meaning that multiple methods with the same name can be defined for different purposes. Regular functions cannot be overloaded in this way.<br>\n",
    "9.`Polymorphism`: Methods can exhibit polymorphism, meaning that they can behave differently depending on the type of object they are called on. Regular functions do not support polymorphism.<br>"
   ]
  },
  {
   "cell_type": "markdown",
   "id": "ff58c961",
   "metadata": {},
   "source": [
    "# Q5.\n",
    "Is inheritance supported in Python, and if so, what is the syntax?"
   ]
  },
  {
   "cell_type": "markdown",
   "id": "0349476a",
   "metadata": {},
   "source": [
    "<b>Answer:</b><br>Yes, inheritance is supported in Python. Inheritance is a mechanism in which one class can inherit the properties and behavior of another class. The inheriting class is called the subclass or derived class, while the class being inherited from is called the superclass or base class.<br>\n",
    "\n",
    "The Types of Inheritence Supported by Python are:<br>\n",
    "\n",
    "1.Simple Inheritence<br>\n",
    "2.Multiple Inheritence<br>\n",
    "3.Multilevel lInheritence<br>\n",
    "4.Hybrid Inheritence<br>\n",
    "5.Hierracial Inheritence<br>\n",
    "\n",
    "`Syntax : class SubClass(SuperClass):`"
   ]
  },
  {
   "cell_type": "code",
   "execution_count": 1,
   "id": "91cda377",
   "metadata": {},
   "outputs": [],
   "source": [
    "class Person:\n",
    "    def __init__(self, fname, lname):\n",
    "        self.first_name = fname\n",
    "        self.last_name = lname\n",
    "class Student(Person):\n",
    "    pass"
   ]
  },
  {
   "cell_type": "markdown",
   "id": "d3a3e863",
   "metadata": {},
   "source": [
    "# Q6. \n",
    "How much encapsulation (making instance or class variables private) does Python support?"
   ]
  },
  {
   "cell_type": "markdown",
   "id": "13b28a03",
   "metadata": {},
   "source": [
    "<b>Answer:</b><br>Encapsulation describes the idea of wrapping data and the methods that work on data within one unit. This puts restrictions on accessing variables and methods directly and can prevent the accidental modification of data. To prevent accidental change, an objects variable can only be changed by an objects method."
   ]
  },
  {
   "cell_type": "markdown",
   "id": "8288eabf",
   "metadata": {},
   "source": [
    "# Q7. \n",
    "How do you distinguish between a class variable and an instance variable?"
   ]
  },
  {
   "cell_type": "markdown",
   "id": "6b0c0f21",
   "metadata": {},
   "source": [
    "<b>Answer:</b><br>In Python, class variables and instance variables are distinguished based on their scope and usage. Here are some ways to differentiate between the two:<br>\n",
    "\n",
    "1.`Scope`: Class variables are defined inside a class definition and have a wider scope, meaning they can be accessed from within any part of the class, including within methods and nested classes. Instance variables, on the other hand, are defined inside an instance of a class and have a narrower scope, meaning they can only be accessed from within the instance itself.<br>\n",
    "2.`Lifespan`: Class variables exist as long as the class exists, whereas instance variables are created when an instance of the class is created and destroyed when the instance is garbage collected.<br>\n",
    "3.`Access modifiers`: Class variables are typically defined without any access modifiers, which means they can be accessed from anywhere within the class. Instance variables, on the other hand, may have access modifiers such as public, private, or protected to control their visibility and accessibility.<br>\n",
    "4.`Purpose`: Class variables are often used to store static data or constants that are shared among all instances of a class, while instance variables are used to store dynamic data that varies across different instances of a class.<br>\n",
    "5.`Syntax`: When defining a class variable, you don't need to specify a reference to the class explicitly. However, when accessing a class variable from within an instance method, you need to qualify it with the class name, e.g., MyClass.variable. On the other hand, instance variables are defined within an instance method using the self parameter, e.g., self.variable.<br>\n",
    "6.`Usage`: Class variables are useful when you want to share data or functionality among multiple instances of a class. Instance variables, on the other hand, are useful when you want to store unique data or behavior specific to each individual instance of a class."
   ]
  },
  {
   "cell_type": "markdown",
   "id": "eb307ba8",
   "metadata": {},
   "source": [
    "# Q8.\n",
    "When, if ever, can self be included in a class&#39;s method definitions?"
   ]
  },
  {
   "cell_type": "markdown",
   "id": "64d07369",
   "metadata": {},
   "source": [
    "<b>Answer:</b><br>Yes, self can be included in class method definitions to access the instance variables inside class methods."
   ]
  },
  {
   "cell_type": "markdown",
   "id": "a6b36783",
   "metadata": {},
   "source": [
    "# Q9.\n",
    "What is the difference between the `_ _add_ _` and the `_ _radd_ _` methods?"
   ]
  },
  {
   "cell_type": "markdown",
   "id": "a2d21e3f",
   "metadata": {},
   "source": [
    "<b>Answer:</b><br>The main difference between the `__add__ `and `__radd__` methods is that the` __add__ `method is used for adding two objects of the same type, while the` __radd__` method is used for adding an object to another object of a different type."
   ]
  },
  {
   "cell_type": "markdown",
   "id": "7200169c",
   "metadata": {},
   "source": [
    "# Q10.\n",
    "When is it necessary to use a reflection method? When do you not need it, even though you\n",
    "support the operation in question?"
   ]
  },
  {
   "cell_type": "markdown",
   "id": "a7de1970",
   "metadata": {},
   "source": [
    "<b>Answer:</b><br>Reflection refers to the ability for code to be able to examine attributes about objects that might be passed as parameters to a function. For example, if we write type(obj) then Python will return an object which represents the type of obj. Using reflection, we can write one recursive reverse function that will work for strings, lists, and any other sequence that supports slicing and concatenation. If an obj is a reference to a string, then Python will return the str type object. Further, if we write str() we get a string which is the empty string. In other words, writing str() is the same thing as writing “”. Likewise, writing list() is the same thing as writing []."
   ]
  },
  {
   "cell_type": "code",
   "execution_count": 5,
   "id": "5cdc8653",
   "metadata": {},
   "outputs": [
    {
     "name": "stdout",
     "output_type": "stream",
     "text": [
      "x is not callable\n",
      "y is callable\n"
     ]
    }
   ],
   "source": [
    "x = 5\n",
    "\n",
    "def testFunction():\n",
    "  print(\"Test\")\n",
    "   \n",
    "y = testFunction\n",
    "\n",
    "if (callable(x)):\n",
    "    print(\"x is callable\")\n",
    "else:\n",
    "    print(\"x is not callable\")\n",
    "\n",
    "if (callable(y)):\n",
    "    print(\"y is callable\")\n",
    "else:\n",
    "    print(\"y is not callable\")"
   ]
  },
  {
   "cell_type": "markdown",
   "id": "61c9689d",
   "metadata": {},
   "source": [
    "# Q11.\n",
    "What is the` _ _iadd_ _` method called?"
   ]
  },
  {
   "cell_type": "markdown",
   "id": "f203d54a",
   "metadata": {},
   "source": [
    "<b>Answer:</b><br>`__iadd__` method is called when we use implementation like `a+=b` which is `a.__iadd__(b)`"
   ]
  },
  {
   "cell_type": "markdown",
   "id": "bce57240",
   "metadata": {},
   "source": [
    "# Q12.\n",
    "Is the _ _init_ _ method inherited by subclasses? What do you do if you need to customize its\n",
    "behavior within a subclass?"
   ]
  },
  {
   "cell_type": "markdown",
   "id": "cce3635b",
   "metadata": {},
   "source": [
    "<b>Answer:</b><br>Yes, `__init__` method will be inherited by subclasses. If we want to customize its behaviour within a subclass, we can use super() method."
   ]
  },
  {
   "cell_type": "code",
   "execution_count": null,
   "id": "f0ee333d",
   "metadata": {},
   "outputs": [],
   "source": []
  }
 ],
 "metadata": {
  "kernelspec": {
   "display_name": "Python 3 (ipykernel)",
   "language": "python",
   "name": "python3"
  },
  "language_info": {
   "codemirror_mode": {
    "name": "ipython",
    "version": 3
   },
   "file_extension": ".py",
   "mimetype": "text/x-python",
   "name": "python",
   "nbconvert_exporter": "python",
   "pygments_lexer": "ipython3",
   "version": "3.9.12"
  }
 },
 "nbformat": 4,
 "nbformat_minor": 5
}
