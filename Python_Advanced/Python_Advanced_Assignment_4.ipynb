{
 "cells": [
  {
   "cell_type": "markdown",
   "id": "6cb2c5e6",
   "metadata": {},
   "source": [
    "# Q1.\n",
    "Which two operator overloading methods can you use in your classes to support iteration?"
   ]
  },
  {
   "cell_type": "markdown",
   "id": "ffe48b33",
   "metadata": {},
   "source": [
    "<b>Answer:</b><br>\n",
    "`__iter__ `and `__next__`are the operator overloading methods in python that support iteration and are collectively called iterator protocol.<br>\n",
    "<br>\n",
    "`__iter__` returns the iterator object and is called at the start of loop in our respective class.<br>\n",
    "`__next__ `is called at each loop increment, it returns the incremented value. <br>\n",
    "Also Stopiteration is raised when there is no value to return.<br>"
   ]
  },
  {
   "cell_type": "code",
   "execution_count": 9,
   "id": "8fc7cb77",
   "metadata": {},
   "outputs": [
    {
     "name": "stdout",
     "output_type": "stream",
     "text": [
      "5 6 7 8 9 10 11 12 13 14 15 16 17 18 19 20 21 22 23 24 25 26 27 28 29 30 31 32 33 34 35 36 37 38 39 40 "
     ]
    }
   ],
   "source": [
    "class Counter:\n",
    "    def __init__(self,low,high):\n",
    "        self.current = low\n",
    "        self.high = high\n",
    "    def __iter__(self):\n",
    "        return self\n",
    "    def __next__(self):\n",
    "        if self.current > self.high:\n",
    "            raise StopIteration\n",
    "        else:\n",
    "            self.current += 1\n",
    "            return self.current - 1\n",
    "for ele in Counter(5,40):\n",
    "    print(ele, end=\" \")"
   ]
  },
  {
   "cell_type": "markdown",
   "id": "1310fa1e",
   "metadata": {},
   "source": [
    "# Q2.\n",
    "In what contexts do the two operator overloading methods manage printing?"
   ]
  },
  {
   "cell_type": "markdown",
   "id": "9d374ba4",
   "metadata": {},
   "source": [
    "<b>Answer:</b><br>\n",
    "`__str__ `and `__repr__ `are two operator overloading methods that manage printing.<br>\n",
    "\n",
    "The difference between both of these operators is: The goal of` __repr__` is to be unambiguous and` __str__ `is to be readable.<br>\n",
    "Whenever we are printing any object reference internally,` __str__ `method will be called by default.<br>\n",
    "The main purpose of` __str__` is for readability. It prints the informal string representation of an object, one that is useful for printing the object. It may not be possible to convert result string to original object.<br>\n",
    "`__repr__ `is used to print official string representation of an object, so it includes all information and development.<br>"
   ]
  },
  {
   "cell_type": "markdown",
   "id": "cccf5b74",
   "metadata": {},
   "source": [
    "<b>`__str__ method` :</b><br>\n",
    "This method is used to define a human-readable string representation of an object.<br>\n",
    "It is intended for displaying the object's value in a clear and user-friendly manner.<br>\n",
    "When you use functions like print() or when you perform string interpolation, the __str__ method is typically called to obtain the string representation of the object.<br>"
   ]
  },
  {
   "cell_type": "code",
   "execution_count": 10,
   "id": "5d26bdff",
   "metadata": {},
   "outputs": [
    {
     "name": "stdout",
     "output_type": "stream",
     "text": [
      "MyClass with value: 42\n"
     ]
    }
   ],
   "source": [
    "class MyClass:\n",
    "    def __init__(self, value):\n",
    "        self.value = value\n",
    "\n",
    "    def __str__(self):\n",
    "        return f\"MyClass with value: {self.value}\"\n",
    "\n",
    "obj = MyClass(42)\n",
    "print(obj)  # Calls obj.__str__() to obtain the string representation\n",
    "\n"
   ]
  },
  {
   "cell_type": "markdown",
   "id": "20ed8a4b",
   "metadata": {},
   "source": [
    "<b>`__repr__ method` :</b><br>\n",
    "This method is used to define a more detailed and unambiguous string representation of an object. <br>\n",
    "It is intended for developers and is often used for debugging purposes. <br>\n",
    "The` __repr__ `method should ideally return a string that, when evaluated, would create an object with the same state. <br>\n",
    "This method is typically used when you inspect an object in an interactive environment, like the Python REPL.<br>"
   ]
  },
  {
   "cell_type": "code",
   "execution_count": 11,
   "id": "8eb84f46",
   "metadata": {},
   "outputs": [
    {
     "name": "stdout",
     "output_type": "stream",
     "text": [
      "MyClass(42)\n"
     ]
    }
   ],
   "source": [
    "class MyClass:\n",
    "    def __init__(self, value):\n",
    "        self.value = value\n",
    "\n",
    "    def __repr__(self):\n",
    "        return f\"MyClass({self.value})\"\n",
    "\n",
    "obj = MyClass(42)\n",
    "print(repr(obj))  # Calls obj.__repr__() to obtain the detailed string representation\n"
   ]
  },
  {
   "cell_type": "markdown",
   "id": "4af75833",
   "metadata": {},
   "source": [
    "# Q3.\n",
    "In a class, how do you intercept slice operations?"
   ]
  },
  {
   "cell_type": "markdown",
   "id": "3fb76118",
   "metadata": {},
   "source": [
    "<b>Answer:</b><br> In a class use of slice() in `__getitem__ method` is used for `intercept slice operation`. <br>\n",
    "This slice method is provided with start integer number, stop integer number and step integer number.<br>\n",
    "\n",
    "<b>Example:</b><br>\n",
    "`__getitem__(slice(start,stop,step))`"
   ]
  },
  {
   "cell_type": "markdown",
   "id": "c3720cf1",
   "metadata": {},
   "source": [
    "# Q4.\n",
    "In a class, how do you capture in-place addition?"
   ]
  },
  {
   "cell_type": "markdown",
   "id": "3754da26",
   "metadata": {},
   "source": [
    "<b>Answer:</b><br>\n",
    "    a+b is normal addition. Whereas `a+=b` is `inplace addition operation`. In this in-place addition a itself will store the value of addition. In a class `__iadd__ method` is used for this in-place operation"
   ]
  },
  {
   "cell_type": "code",
   "execution_count": 12,
   "id": "54a6a2fe",
   "metadata": {},
   "outputs": [
    {
     "name": "stdout",
     "output_type": "stream",
     "text": [
      "454\n"
     ]
    }
   ],
   "source": [
    "class Book:\n",
    "    def __init__(self,pages):\n",
    "        self.pages = pages\n",
    "    def __iadd__(self,other):\n",
    "        self.pages += other.pages\n",
    "        return self.pages\n",
    "        \n",
    "b1 = Book(254)\n",
    "b2 = Book(200)\n",
    "b1+=b2\n",
    "print(b1)"
   ]
  },
  {
   "cell_type": "markdown",
   "id": "59bb409a",
   "metadata": {},
   "source": [
    "# Q5.\n",
    "When is it appropriate to use operator overloading?"
   ]
  },
  {
   "cell_type": "markdown",
   "id": "ec06af63",
   "metadata": {},
   "source": [
    "<b>Answer:</b><br>\n",
    "Operator overloading is used when we want to use an operator other than its normal operation to have different meaning according to the context required in user defined function."
   ]
  },
  {
   "cell_type": "code",
   "execution_count": 13,
   "id": "b09e3ec4",
   "metadata": {},
   "outputs": [
    {
     "name": "stdout",
     "output_type": "stream",
     "text": [
      "Total Number of Pages  : 699\n"
     ]
    }
   ],
   "source": [
    "class Book:\n",
    "    def __init__(self,pages):\n",
    "        self.pages = pages\n",
    "    def __add__(self,other):\n",
    "        return self.pages+other.pages\n",
    "b1 = Book(455)\n",
    "b2 = Book(244)\n",
    "print(f'Total Number of Pages  : {b1+b2}')"
   ]
  },
  {
   "cell_type": "code",
   "execution_count": null,
   "id": "f4cad6b1",
   "metadata": {},
   "outputs": [],
   "source": []
  },
  {
   "cell_type": "code",
   "execution_count": null,
   "id": "a3f877d9",
   "metadata": {},
   "outputs": [],
   "source": []
  }
 ],
 "metadata": {
  "kernelspec": {
   "display_name": "Python 3 (ipykernel)",
   "language": "python",
   "name": "python3"
  },
  "language_info": {
   "codemirror_mode": {
    "name": "ipython",
    "version": 3
   },
   "file_extension": ".py",
   "mimetype": "text/x-python",
   "name": "python",
   "nbconvert_exporter": "python",
   "pygments_lexer": "ipython3",
   "version": "3.9.12"
  }
 },
 "nbformat": 4,
 "nbformat_minor": 5
}
