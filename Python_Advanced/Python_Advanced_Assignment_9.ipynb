{
 "cells": [
  {
   "cell_type": "markdown",
   "id": "d025477c",
   "metadata": {},
   "source": [
    "# Q1.\n",
    "In Python 3.X, what are the names and functions of string object types?"
   ]
  },
  {
   "cell_type": "markdown",
   "id": "d153b1ea",
   "metadata": {},
   "source": [
    "<b>Answer:</b><br>The following are the names and functions of string object types in Python 3.X<br>\n",
    "\n",
    "`<stirng>.isdecimal()` -> Returns True if all characters in a string are decimal.<br>\n",
    "    \n",
    "`<string>.isalnum()` -> Returns True if all characters in the string are AlphaNumeric.<br>\n",
    "    \n",
    "`<string>.istitle()` -> Returns True if first character in a string is in Uppercase.<br>\n",
    "    \n",
    "`<string>.partition(<sub_string>)` -> Splits string at first occurance of sub string and returns a tuple of 3 elements.<br>\n",
    "    \n",
    "`<string>.rpartition(<sub_string>)` -> Splits string at last occurance of sub string and returns a tuple of 3 elements.<br>\n",
    "    \n",
    "`<string>.isidentifier()` -> Returns True if give string is a valid identifier name.<br>\n",
    "    \n",
    "`len(<string>)` -> Returns the length of the given string.<br>\n",
    "    \n",
    "`<string>.index(<sub_string>)` -> Returns the lowest index of substring if substring is found in the string.<br>\n",
    "    \n",
    "`<string>.rindex(<sub_string>)` -> Returns the highest index of substring if substring is found in the string.<br>\n",
    "    \n",
    "`max(<string>)` -> Returns the highest Alphabetical Character in the string as per ASCII.<br>\n",
    "    \n",
    "`min(<string>)` -> Returns the lowest Alphabetical Character in the string as per ASCII.<br>\n",
    "    \n",
    "`<string>.splitlines()` -> Returns a list of lines in the string.<br>\n",
    "    \n",
    "`<string>.capitalize()` -> Returns the string with first character capitalized.<br>\n",
    "    \n",
    "`<string>.upper()` -> Returns the string with all characters in uppercase.<br>\n",
    "    \n",
    "`<string>.lower()` -> Returns the string with all characters in lowercase<br>\n",
    "    \n",
    "`<string>.casefold()` -> Returns the string in lowercase which can be used for caseless comparisions.<br>\n",
    "    \n",
    "`<string>.expandtabs(no_of_spaces)` -> Replaces tabs in a string with specified no of spaces default is 8<br>\n",
    "    \n",
    "`<string>.find(<sub_string>)` -> Returns lowest index of substring if substring is found in the string else returns -1.<br>\n",
    "    \n",
    "`<string>.rfind(<sub_string>)` -> Returns highest index of substring if substring is found in the string else returns -1.<br>\n",
    "    \n",
    "`<string>.count(<char>)` -> Returns the no of occurances of the char in the given string.<br>\n",
    "    \n",
    "`<string>.split(<sep>)` -> Returns list of words seperated by given sep else seperated by whitespace.<br>\n",
    "    \n",
    "`<string>.rsplit(<sep>)` -> Returns list of words seperated by given sep else seperated by whitespace scanning from end.<br>\n",
    "    \n",
    "`<string>.lstrip()` -> Returns a copy of where leading whitespaces are removed.<br>\n",
    "    \n",
    "`<string>.rstrip()` -> Returns a copy of where trailed whitespaces are removed.<br>\n",
    "    \n",
    "`<string>.strip()` -> Returns a copy of where both leading and trailing whitespaces are removed.<br>\n",
    "    \n",
    "`<string>.swapcase()` -> Swaps lowercase characters with uppercase and vice versa.<br>\n",
    "    \n",
    "`<sep>.join(<list>)` -> Concatenates a list or tuple of words with intervening occuernces of sep.<br>\n",
    "    \n",
    "`<string>.translate(<mapping_table>)` -> translates the characters using table.<br>\n",
    "    \n",
    "`<string>.maketrans(<dict>)` -> Creating a mapping translation tbale usable for <string>.translate(<mapping_table>)<br>\n",
    "    \n",
    "`<string>.replace(<char_1>,<char_2>)` -> Replace all occurances of char_1 with char_2 in string.<br>\n",
    "    \n",
    "`<string>.encode()` -> Encodes string into any encoding supported by python. Default encoding is UTF-8.<br>\n",
    "    \n",
    "`<string>.ljust(<no_of_spaces>)` -> Left-justify in a field of given width.<br>\n",
    "    \n",
    "`<string>.rjust(<no_of_spaces>)` -> Right-justify in a field of given width.<br>\n",
    "    \n",
    "`<string>.center(<no_of_spaces>)` -> Center-justify in a field of given width.<br>\n",
    "    \n",
    "`<stirng>.zfill(<length>)` -> Zfill adds zeros to the begining of string until the specified length is reached.<br>"
   ]
  },
  {
   "cell_type": "code",
   "execution_count": 12,
   "id": "0b1c56f8",
   "metadata": {},
   "outputs": [
    {
     "name": "stdout",
     "output_type": "stream",
     "text": [
      "True\n",
      "False\n",
      "False\n",
      "('Its a wonderful ', ',', ' and a sunny day')\n",
      "('\"I could eat bananas all day, ', 'bananas', ' are my favorite fruit\"')\n",
      "True\n",
      "26\n",
      "2\n",
      "9\n",
      "r\n",
      "B\n",
      "['Ineuron ', ' Full Stack ', ' Data Science ', ' Course ']\n",
      "Youtube\n",
      "DRAGONBALLZ\n",
      "goku\n",
      "captain america benn\n",
      "Data science    Data Analyst\n",
      "1\n",
      "6\n",
      "3\n",
      "['i', 'am', 'joki', 'g']\n",
      "['iam', 'otlooki', 'ggood']\n",
      "Successfull \n",
      "        Hard\n",
      "SonGohan\n",
      "tHE WORLD SHALL KNOW THE pAIN\n",
      "Rakesh_kumar_Bind\n",
      "Hello Pam!\n",
      "Hello Pam!\n",
      "InEuron\n",
      "b'Deep Learning'\n",
      "Vegeta    \n",
      "      Goku\n",
      "  Gohan   \n",
      "00000Goten\n"
     ]
    }
   ],
   "source": [
    "print('1234567890'.isdecimal())\n",
    "print('hello how are you'.isalnum())\n",
    "print('The thousand miles away'.istitle())\n",
    "print('Its a wonderful , and a sunny day'.partition(','))\n",
    "print('\"I could eat bananas all day, bananas are my favorite fruit\"'.rpartition('bananas'))\n",
    "print('NotSure'.isidentifier())\n",
    "print(len('Rakeshkumar Prabhuram bind'))\n",
    "print('Wonderful'.index('n'))\n",
    "print('Innovation'.rindex('n'))\n",
    "print(max('Zebra'))\n",
    "print(min('Bacon'))\n",
    "print('Ineuron \\n Full Stack \\n Data Science \\n Course '.splitlines())\n",
    "print('youtube'.capitalize())\n",
    "print('dragonballz'.upper())\n",
    "print('GOKU'.lower())\n",
    "print('Captain America Benn'.casefold())\n",
    "print('Data science\\tData Analyst'.expandtabs(8))\n",
    "print('Ineuron'.find('n'))\n",
    "print('Ineuron'.rfind('n'))\n",
    "print('subscribers'.count('s'))\n",
    "print('inamnjoking'.split('n'))\n",
    "print('iamnotlookinggood'.rsplit('n'))\n",
    "print('                                   Successfull '.lstrip())\n",
    "print('        Hard                                  '.rstrip())\n",
    "print('                    SonGohan                            '.strip())\n",
    "print('The world shall know the Pain'.swapcase())\n",
    "print('_'.join(['Rakesh','kumar','Bind']))\n",
    "\n",
    "dict = {83 :  80}\n",
    "print(\"Hello Sam!\".translate(dict))\n",
    "\n",
    "txt = \"Hello Sam!\"\n",
    "mytable = txt.maketrans(\"S\", \"P\")\n",
    "print(txt.translate(mytable))\n",
    "\n",
    "print('Ineuron'.replace('e','E'))\n",
    "print('Deep Learning'.encode())\n",
    "print('Vegeta'.ljust(10))\n",
    "print('Goku'.rjust(10))\n",
    "print('Gohan'.center(10))\n",
    "print('Goten'.zfill(10))"
   ]
  },
  {
   "cell_type": "markdown",
   "id": "e0622d82",
   "metadata": {},
   "source": [
    "# Q2.\n",
    "How do the string forms in Python 3.X vary in terms of operations?"
   ]
  },
  {
   "cell_type": "markdown",
   "id": "dc8f45a7",
   "metadata": {},
   "source": [
    "<b>Answer:</b><br>In Python3 default format of strings is Unicode Whereas in Pyton2 we need to explicitly mention Unicode value using u."
   ]
  },
  {
   "cell_type": "markdown",
   "id": "000f8cfd",
   "metadata": {},
   "source": [
    "# Q3.\n",
    "In 3.X, how do you put non-ASCII Unicode characters in a string?"
   ]
  },
  {
   "cell_type": "markdown",
   "id": "a75ba923",
   "metadata": {},
   "source": [
    "<b>Answer:</b><br>In Python 3.x unidecode() method from unidecode library can be used to put non-ASCII Unicode Characters in a string."
   ]
  },
  {
   "cell_type": "code",
   "execution_count": 1,
   "id": "4c4301c0",
   "metadata": {},
   "outputs": [
    {
     "name": "stdout",
     "output_type": "stream",
     "text": [
      "kozuscek\n",
      "aap niice apnii bhaassaa aur inputt upkrnn cuneN aur likhnaa aarNbh kreN\n",
      "Xie Xie Ni \n",
      "arigatou. \n",
      "ulybat'sia Vladimir Putin\n"
     ]
    }
   ],
   "source": [
    "# Import unidecode module from unidecode \n",
    "from unidecode import unidecode \n",
    "  \n",
    "# Get transliteration for following \n",
    "# non-ASCII text (Unicode string) \n",
    "print(unidecode(u'ko\\u017eu\\u0161\\u010dek')) \n",
    "  \n",
    "# Get transliteration for following \n",
    "# non-ASCII text (Devanagari) \n",
    "print(unidecode(\"आप नीचे अपनी भाषा और इनपुट उपकरण चुनें और लिखना आरंभ करें\")) \n",
    "  \n",
    "# Get transliteration for following \n",
    "# non-ASCII text (Chinese) \n",
    "print(unidecode(\"谢谢你\")) \n",
    "  \n",
    "# Get transliteration for following \n",
    "# non-ASCII text (Japanese) \n",
    "print(unidecode(\"ありがとう。\")) \n",
    "  \n",
    "# Get transliteration for following \n",
    "# non-ASCII text (Russian) \n",
    "print(unidecode(\"улыбаться Владимир Путин\")) \n"
   ]
  },
  {
   "cell_type": "markdown",
   "id": "c7a6c2b5",
   "metadata": {},
   "source": [
    "# Q4.\n",
    "In Python 3.X, what are the key differences between text-mode and binary-mode files?"
   ]
  },
  {
   "cell_type": "markdown",
   "id": "d494dc53",
   "metadata": {},
   "source": [
    "<b>Answer:</b><br>The major difference between these two is that a text file contains textual information in the form of alphabets, digits and special characters or symbols. On the other hand, a binary file contains bytes or a compiled version of a text file.<br>\n",
    "\n",
    "When a file is opened in text mode, reading its data automatically decodes its content (as per the platform default or as per provided encoding), and returns it as a str; writing operation takes a str, and automatically encodes it before transferring to the file. Text mode files also support universal end-of-line translation, and encoding specification arguments.<br>\n",
    "\n",
    "When a file is opened in binary mode by adding a b to the mode string argument in the open() call, reading its data does not decode it in any way, and simply returns its content raw and unchanged, as a bytes object; writing takes a bytes object and transfers it to the file unchanged. Binary-mode files also accept a bytearray object for the content to be written to the file."
   ]
  },
  {
   "cell_type": "markdown",
   "id": "1ff98bd7",
   "metadata": {},
   "source": [
    "# Q5.\n",
    "How can you interpret a Unicode text file containing text encoded in a different encoding than\n",
    "your platform&#39;s default?"
   ]
  },
  {
   "cell_type": "markdown",
   "id": "f5ae01a5",
   "metadata": {},
   "source": [
    "<b>Answer:</b><br>Use of encode() and decode() method can be used to you interpret a Unicode text file containing text encoded in a different encoding than your platform's default, by default encoding parameter is UTF-8"
   ]
  },
  {
   "cell_type": "markdown",
   "id": "0d026daf",
   "metadata": {},
   "source": [
    "# Q6.\n",
    "What is the best way to make a Unicode text file in a particular encoding format?"
   ]
  },
  {
   "cell_type": "markdown",
   "id": "616a7302",
   "metadata": {},
   "source": [
    "<b>Answer:</b><br> Use `str.encode()` and `file.write()` to make a Unicode text file in a particular encoding format, default encoding format is UTF-18.<br>\n",
    "\n",
    "Call str.encode(encoding) with encoding set to utf8 to encode str.<br>\n",
    "Call open(file, mode) to open a file with mode set to wb . wb writes to files in binary mode & preserves UTF-8format.<br>\n",
    "Call file.write(data) to write data to the file."
   ]
  },
  {
   "cell_type": "code",
   "execution_count": 4,
   "id": "fb7e9d1a",
   "metadata": {},
   "outputs": [
    {
     "name": "stdout",
     "output_type": "stream",
     "text": [
      "b'\\xe3\\x81\\x82\\xe3\\x82\\x8a\\xe3\\x81\\x8c\\xe3\\x81\\xa8\\xe3\\x81\\x86\\xe3\\x80\\x82'\n",
      "\n",
      "b'\\xe3\\x81\\x82\\xe3\\x82\\x8a\\xe3\\x81\\x8c\\xe3\\x81\\xa8\\xe3\\x81\\x86\\xe3\\x80\\x82'\n"
     ]
    }
   ],
   "source": [
    "unicode_text = \"ありがとう。\"\n",
    "encoded_unicode_text = unicode_text.encode(\"utf-8\")\n",
    "print(encoded_unicode_text,end=\"\\n\\n\")\n",
    "\n",
    "w_file = open(\"w_file.txt\",\"wb\")\n",
    "w_file.write(encoded_unicode_text)\n",
    "w_file.close()\n",
    "\n",
    "r_file = open(\"w_file.txt\",\"rb\")\n",
    "data = r_file.read()\n",
    "print(data)"
   ]
  },
  {
   "cell_type": "markdown",
   "id": "425a3fdc",
   "metadata": {},
   "source": [
    "# Q7.\n",
    "What qualifies ASCII text as a form of Unicode text?"
   ]
  },
  {
   "cell_type": "markdown",
   "id": "e72a1b5f",
   "metadata": {},
   "source": [
    "<b>Answer:</b><br> Unicode represents most written languages in the world. ASCII has its equivalent in Unicode. The difference between ASCII and Unicode is that ASCII represents lowercase letters (a-z), uppercase letters (A-Z), digits (0–9) and symbols such as punctuation marks while Unicode represents letters of English, Arabic, Greek etc. mathematical symbols, historical scripts, emoji covering a wide range of characters than ASCII."
   ]
  },
  {
   "cell_type": "markdown",
   "id": "fa72b678",
   "metadata": {},
   "source": [
    "# Q8. \n",
    "How much of an effect does the change in string types in Python 3.X have on your code?"
   ]
  },
  {
   "cell_type": "markdown",
   "id": "ebe5b4be",
   "metadata": {},
   "source": [
    "<b>Answer:</b><br>Python 3 stores strings as Unicode by default whereas Python 2 requires you to mark a string with a u if we want to store it as Unicode. Unicode strings are more versatile than ASCII strings, which are the Python 3.X default, as they can store letters from foreign languages as well as emoji and the standard Roman letters and numerals."
   ]
  },
  {
   "cell_type": "code",
   "execution_count": null,
   "id": "ce343bcc",
   "metadata": {},
   "outputs": [],
   "source": []
  },
  {
   "cell_type": "code",
   "execution_count": null,
   "id": "f09efb04",
   "metadata": {},
   "outputs": [],
   "source": []
  },
  {
   "cell_type": "code",
   "execution_count": null,
   "id": "c112bce8",
   "metadata": {},
   "outputs": [],
   "source": []
  }
 ],
 "metadata": {
  "kernelspec": {
   "display_name": "Python 3 (ipykernel)",
   "language": "python",
   "name": "python3"
  },
  "language_info": {
   "codemirror_mode": {
    "name": "ipython",
    "version": 3
   },
   "file_extension": ".py",
   "mimetype": "text/x-python",
   "name": "python",
   "nbconvert_exporter": "python",
   "pygments_lexer": "ipython3",
   "version": "3.9.12"
  }
 },
 "nbformat": 4,
 "nbformat_minor": 5
}
