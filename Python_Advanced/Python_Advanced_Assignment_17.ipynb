{
 "cells": [
  {
   "cell_type": "markdown",
   "id": "ad026cbe",
   "metadata": {},
   "source": [
    "# Q1.\n",
    "Explain the difference between greedy and non-greedy syntax with visual terms in as few words\n",
    "as possible. What is the bare minimum effort required to transform a greedy pattern into a non-greedy\n",
    "one? What characters or characters can you introduce or change?"
   ]
  },
  {
   "cell_type": "markdown",
   "id": "da1a3b09",
   "metadata": {},
   "source": [
    "<b>Answer:</b><br> The Main difference between Greedy and Non Greedy Match Syntax is that the Greedy Match will try to match as many repetitions of the quantified pattern as possible Whereas the Non Greedy Match will try to match as few repetitions of the quantified pattern as possible so that it still can match the pattern in the given string"
   ]
  },
  {
   "cell_type": "code",
   "execution_count": 10,
   "id": "67534a9c",
   "metadata": {},
   "outputs": [
    {
     "name": "stdout",
     "output_type": "stream",
     "text": [
      "['aaaaaa', '']\n",
      "['', 'a', '', 'a', '', 'a', '', 'a', '', 'a', '', 'a', '']\n"
     ]
    }
   ],
   "source": [
    "import re\n",
    "print(re.findall(\"a*\", \"aaaaaa\")) # Greedy Match Synatx\n",
    "print(re.findall(\"a*?\", \"aaaaaa\")) # Non Greddy Syntax"
   ]
  },
  {
   "cell_type": "markdown",
   "id": "dbaea31a",
   "metadata": {},
   "source": [
    "# Q2.\n",
    "When exactly does greedy versus non-greedy make a difference?  What if you&#39;re looking for a\n",
    "non-greedy match but the only one available is greedy?"
   ]
  },
  {
   "cell_type": "markdown",
   "id": "b4176544",
   "metadata": {},
   "source": [
    "<b>Answer:</b><br> The Greedy Match will try to match as many repetitions of the quantified pattern as possible. The Non Greedy Match will try to match as few repetitions of the quantified pattern as possible. If only Non Greedy Match is available, we can use other filtering or pattern matching methods of regex and further identify the required pattern."
   ]
  },
  {
   "cell_type": "markdown",
   "id": "a07b78b1",
   "metadata": {},
   "source": [
    "# Q3.\n",
    "In a simple match of a string, which looks only for one match and does not do any replacement, is\n",
    "the use of a nontagged group likely to make any practical difference?"
   ]
  },
  {
   "cell_type": "markdown",
   "id": "76349abd",
   "metadata": {},
   "source": [
    "<b>Answer:</b><br> The `Greedy Match` will try to match as many repetitions of the quantified pattern as possible. The Non Greedy Match will try to match as few repetitions of the quantified pattern as possible. If only Non Greedy Match is available, we can use other filtering or pattern matching methods of regex and further identify the required pattern."
   ]
  },
  {
   "cell_type": "code",
   "execution_count": 11,
   "id": "24e3e97c",
   "metadata": {},
   "outputs": [
    {
     "name": "stdout",
     "output_type": "stream",
     "text": [
      "Phone number found -> 123\n",
      "Phone number found -> 123\n"
     ]
    }
   ],
   "source": [
    "import re\n",
    "phoneNumRegex = re.compile(r'\\d\\d\\d')\n",
    "num = phoneNumRegex.search('My number is 123-456-7891.')\n",
    "print(f'Phone number found -> {num.group()}') # Non Tagged group\n",
    "print(f'Phone number found -> {num.group(0)}') # Tagged Group"
   ]
  },
  {
   "cell_type": "markdown",
   "id": "c72371e8",
   "metadata": {},
   "source": [
    "# Q4.\n",
    "Describe a scenario in which using a nontagged category would have a significant impact on the\n",
    "program&#39;s outcomes."
   ]
  },
  {
   "cell_type": "markdown",
   "id": "0a2e61b9",
   "metadata": {},
   "source": [
    "<b>Answer:</b><br>Here in the below Code Snippet . decimal is not tagged or captured. Hence, it will be useful in scenarios where the separator of value in a string is of no use and we need to capture only the values."
   ]
  },
  {
   "cell_type": "code",
   "execution_count": 12,
   "id": "783fce4b",
   "metadata": {},
   "outputs": [
    {
     "data": {
      "text/plain": [
       "('123', '456')"
      ]
     },
     "execution_count": 12,
     "metadata": {},
     "output_type": "execute_result"
    }
   ],
   "source": [
    "import re\n",
    "text='123.456'\n",
    "pattern=r'(\\d+)(?:.)(\\d+)'\n",
    "regobj=re.compile(pattern)\n",
    "matobj=regobj.search(text)\n",
    "matobj.groups()"
   ]
  },
  {
   "cell_type": "markdown",
   "id": "5a428915",
   "metadata": {},
   "source": [
    "# Q5.\n",
    "Unlike a normal regex pattern, a look-ahead condition does not consume the characters it\n",
    "examines. Describe a situation in which this could make a difference in the results of your\n",
    "programme."
   ]
  },
  {
   "cell_type": "markdown",
   "id": "b304ade6",
   "metadata": {},
   "source": [
    "<b>Answer:</b><br>While counting the number of multiple lines or mutiple sentences in a string, the positive look ahead makes a difference, without which we will not be able to get the correct count of lines or sentences in a string."
   ]
  },
  {
   "cell_type": "markdown",
   "id": "09ff58c5",
   "metadata": {},
   "source": [
    "# Q6.\n",
    "In standard expressions, what is the difference between positive look-ahead and negative look-\n",
    "ahead?"
   ]
  },
  {
   "cell_type": "markdown",
   "id": "06542bee",
   "metadata": {},
   "source": [
    "<b>Answer:</b><br>`Positive Look-ahead` allows to add a condition for what follows. Negative Lookahead is similar, but it looks behind. That is, it allows to match a pattern only if there’s something before it.\n",
    "\n",
    "`Syntax Positive Look-Ahead: X(?=Y) Syntax Negative Look-Ahead: X(?!Y)`"
   ]
  },
  {
   "cell_type": "code",
   "execution_count": 13,
   "id": "097a0177",
   "metadata": {},
   "outputs": [
    {
     "name": "stdout",
     "output_type": "stream",
     "text": [
      "4\n"
     ]
    }
   ],
   "source": [
    "#Positive Look Ahead\n",
    "import re\n",
    "\n",
    "s = '1 Python is about 4 feet long'\n",
    "pattern = '\\d+(?=\\s*feet)'\n",
    "\n",
    "matches = re.finditer(pattern,s)\n",
    "for match in matches:\n",
    "    print(match.group())"
   ]
  },
  {
   "cell_type": "code",
   "execution_count": 14,
   "id": "88eb382a",
   "metadata": {},
   "outputs": [
    {
     "name": "stdout",
     "output_type": "stream",
     "text": [
      "1\n"
     ]
    }
   ],
   "source": [
    "#Negative Look Ahead\n",
    "import re\n",
    "\n",
    "s = '1 Python is about 4 feet long'\n",
    "pattern = '\\d+(?!\\s*feet)'\n",
    "\n",
    "matches = re.finditer(pattern,s)\n",
    "for match in matches:\n",
    "    print(match.group())"
   ]
  },
  {
   "cell_type": "markdown",
   "id": "5ff41ca6",
   "metadata": {},
   "source": [
    "# Q7.\n",
    "What is the benefit of referring to groups by name rather than by number in a standard\n",
    "expression?"
   ]
  },
  {
   "cell_type": "markdown",
   "id": "6c8c15c8",
   "metadata": {},
   "source": [
    "<b>Answer:</b><br>: Referring to groups by name rather than by number in a standard expression helps to keep the code clear and easy to understand."
   ]
  },
  {
   "cell_type": "markdown",
   "id": "3b2d4e75",
   "metadata": {},
   "source": [
    "# Q8.\n",
    "Can you identify repeated items within a target string using named groups, as in &quot;The cow\n",
    "jumped over the moon&quot;?"
   ]
  },
  {
   "cell_type": "code",
   "execution_count": 15,
   "id": "73b76510",
   "metadata": {},
   "outputs": [
    {
     "data": {
      "text/plain": [
       "['The', 'the']"
      ]
     },
     "execution_count": 15,
     "metadata": {},
     "output_type": "execute_result"
    }
   ],
   "source": [
    "import re\n",
    "text = \"The cow jumped over the moon\"\n",
    "regobj=re.compile(r'(?P<w1>The)',re.I)\n",
    "regobj.findall(text)"
   ]
  },
  {
   "cell_type": "markdown",
   "id": "93ba146a",
   "metadata": {},
   "source": [
    "# Q9.\n",
    "When parsing a string, what is at least one thing that the Scanner interface does for you that the\n",
    "re.findall feature does not?"
   ]
  },
  {
   "cell_type": "markdown",
   "id": "5240d9f9",
   "metadata": {},
   "source": [
    "<b>Answer:</b><br>: `re.findall()` module is used to search for all occurrences that match a given pattern. In contrast, re.search() will only return the first occurrence that matches the specified pattern. `re.findall()` will iterate over all the lines of the file and will return all non-overlapping matches of pattern in a single step."
   ]
  },
  {
   "cell_type": "markdown",
   "id": "8e361bb6",
   "metadata": {},
   "source": [
    "# Q10.\n",
    "Does a scanner object have to be named scanner?"
   ]
  },
  {
   "cell_type": "markdown",
   "id": "5cd56ce8",
   "metadata": {},
   "source": [
    "<b>Answer:</b><br>No, It may have any name. For example instead of naming Scanner object as scanner, we can name as sc"
   ]
  },
  {
   "cell_type": "code",
   "execution_count": null,
   "id": "368ecb3d",
   "metadata": {},
   "outputs": [],
   "source": []
  },
  {
   "cell_type": "code",
   "execution_count": null,
   "id": "04a82235",
   "metadata": {},
   "outputs": [],
   "source": []
  }
 ],
 "metadata": {
  "kernelspec": {
   "display_name": "Python 3 (ipykernel)",
   "language": "python",
   "name": "python3"
  },
  "language_info": {
   "codemirror_mode": {
    "name": "ipython",
    "version": 3
   },
   "file_extension": ".py",
   "mimetype": "text/x-python",
   "name": "python",
   "nbconvert_exporter": "python",
   "pygments_lexer": "ipython3",
   "version": "3.9.12"
  }
 },
 "nbformat": 4,
 "nbformat_minor": 5
}
