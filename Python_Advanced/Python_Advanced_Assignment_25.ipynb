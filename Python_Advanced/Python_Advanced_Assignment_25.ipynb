{
 "cells": [
  {
   "cell_type": "markdown",
   "id": "ddabd367",
   "metadata": {},
   "source": [
    "# Q1.\n",
    "What is the distinction between a numpy array and a pandas data frame? Is there a way to\n",
    "convert between the two if there is?"
   ]
  },
  {
   "cell_type": "markdown",
   "id": "e5aa8fdb",
   "metadata": {},
   "source": [
    "<b>Answer:</b><br>Numpy Ndarray provides a lot of convenient and optimized methods for performing several mathematical operations on vectors.<br>\n",
    "\n",
    "Pandas Dataframe is an in-memory 2-dimensional tabular representation of data. In simpler words, it can be seen as a spreadsheet having rows and columns.<br>\n",
    "\n",
    "`Conversion : Dataframe=pandas.DataFrame(array)`<br>"
   ]
  },
  {
   "cell_type": "markdown",
   "id": "2662f4f3",
   "metadata": {},
   "source": [
    "# Q2.\n",
    "What can go wrong when an user enters in a stock-ticker symbol, and how do you handle it?"
   ]
  },
  {
   "cell_type": "markdown",
   "id": "07968e3e",
   "metadata": {},
   "source": [
    "<b>Answer:</b><br>When a user enters a stock ticker symbol, there are several potential issues or challenges that can arise, and it's important to handle them gracefully to provide a good user experience. Here are some common problems that can occur and how to handle them:<br>\n",
    "\n",
    "1.Invalid or Nonexistent Ticker Symbol:<br>\n",
    "Problem: Users might enter an invalid or nonexistent stock ticker symbol.<br>\n",
    "Handling: Check the entered symbol against a trusted data source (e.g., a financial data API or database). If the symbol is invalid, provide an error message or suggest possible valid alternatives. Ensure that the user is notified that the symbol they entered is not recognized.<br>\n",
    "\n",
    "2.Multiple Matches:<br>\n",
    "Problem: Some ticker symbols are associated with multiple companies or financial instruments.<br>\n",
    "Handling: In cases of ambiguity, provide a list of possible matches and ask the user to select the correct one. Be clear and specific about the choices to avoid confusion.<br>\n",
    "\n",
    "3.Case Sensitivity:<br>\n",
    "Problem: Stock ticker symbols are often case-sensitive, and users might enter them in the wrong case.<br>\n",
    "Handling: Normalize the case of the entered symbol to ensure it matches the expected case format. For example, you can convert the symbol to uppercase before validation.<br>\n",
    "\n",
    "4.Whitespace and Formatting:<br>\n",
    "Problem: Users might inadvertently include extra spaces, punctuation, or formatting in the symbol.<br>\n",
    "Handling: Strip any leading or trailing whitespace and remove non-alphanumeric characters before validation to ensure accurate symbol recognition.<br>\n",
    "\n",
    "5.Network Errors:<br>\n",
    "Problem: When fetching stock data from an external source (e.g., an API), network errors can occur, leading to data retrieval failures.<br>\n",
    "Handling: Implement error handling and retries for network-related issues. Provide informative error messages to the user and offer options to try again.<br>\n",
    "\n",
    "6.Rate Limiting and API Usage:<br>\n",
    "Problem: Some financial data APIs have rate limits on the number of requests a user can make.<br>\n",
    "Handling: Monitor and respect rate limits imposed by the API provider. Inform the user if they have reached their rate limit and suggest waiting before making additional requests.<br>\n",
    "\n",
    "7.Data Quality Issues:<br>\n",
    "Problem: Data quality issues, such as missing or incomplete data, can affect the accuracy of stock information.<br>\n",
    "Handling: Implement data validation checks and provide users with a clear message if the data is incomplete or unavailable. Consider fallback mechanisms or data from alternative sources.<br>\n",
    "\n",
    "8.Privacy and Security:<br>\n",
    "Problem: When handling financial data, it's important to protect user privacy and data security.<br>\n",
    "Handling: Follow best practices for data security, including encryption, secure connections, and privacy policies. Inform users about data handling practices and obtain their consent when necessary.<br>\n",
    "\n"
   ]
  },
  {
   "cell_type": "markdown",
   "id": "f9193451",
   "metadata": {},
   "source": [
    "# Q3.\n",
    "Identify some of the plotting techniques that are used to produce a stock-market chart."
   ]
  },
  {
   "cell_type": "markdown",
   "id": "6965c9a0",
   "metadata": {},
   "source": [
    "<b>Answer:</b><br>Some of the plotting techniques used to produce stock market chart are:<br>\n",
    "1.Line charts<br>\n",
    "2.Candelstick charts<br>\n",
    "3.Bar charts<br>\n",
    "4.OHLC charts<br>\n",
    "5.Moving Averages<br>\n",
    "6.Bollinger Bands<br>\n",
    "7.Volume cHARTS<br>\n",
    "8.Fibbonaci retracement<br>"
   ]
  },
  {
   "cell_type": "markdown",
   "id": "93cc4ab1",
   "metadata": {},
   "source": [
    "# Q4.\n",
    "Why is it essential to print a legend on a stock market chart?"
   ]
  },
  {
   "cell_type": "markdown",
   "id": "303ee9bd",
   "metadata": {},
   "source": [
    "<b>Answer:</b><br>It is essential to print a legend on a stock market chart because it helps in :<br>\n",
    "1.Data Interpretation<br>\n",
    "2.Indentification of data series<br>\n",
    "3.Contextual information<br>\n",
    "4.Avoid misinterpretation<br>\n",
    "5.More clarity<br>\n",
    "6.Contextual Information<br>"
   ]
  },
  {
   "cell_type": "markdown",
   "id": "f7363d0c",
   "metadata": {},
   "source": [
    "# Q5.\n",
    "What is the best way to limit the length of a pandas data frame to less than a year?"
   ]
  },
  {
   "cell_type": "markdown",
   "id": "47064af3",
   "metadata": {},
   "source": [
    "<b>Answer:</b><br>We can use `start` and `end` parameters for that. In start, we write the date from where we are starting and at the end, we write the end date ,so within this span we can restrict the duration. Also, we can use the parameters like periods i.e for how much times we need the duration and we can also use the frequency parameter for that."
   ]
  },
  {
   "cell_type": "markdown",
   "id": "e1e7ebc5",
   "metadata": {},
   "source": [
    "# Q6. \n",
    "What is the definition of a 180-day moving average?"
   ]
  },
  {
   "cell_type": "markdown",
   "id": "597d4ecf",
   "metadata": {},
   "source": [
    "<b>Answer:</b><br> The 180-day moving average is represented as a line on charts and represents the average price over the past 180 days. The moving average can give traders a sense regarding whether the trend is up or down, while also identifying potential support or resistance areas. A moving average (MA) is a stock indicator that is commonly used in technical analysis. The reason for calculating the moving average of a stock is to help smooth out the price data over a specified period of time by creating a constantly updated average price. A simple moving average (SMA) is a calculation that takes the arithmetic mean of a given set of prices over the specific number of days in the past; for example, in this case over 180 days."
   ]
  },
  {
   "cell_type": "markdown",
   "id": "8951ebf5",
   "metadata": {},
   "source": [
    "# Q7.\n",
    "Did the chapter&#39;s final example use &quot;indirect&quot; importing? "
   ]
  },
  {
   "cell_type": "markdown",
   "id": "e3cc4f94",
   "metadata": {},
   "source": [
    "<b>Answer:</b><br>Indirect importing is a way to import a module without directly referencing its name. Instead,we reference another module that itself imports the desired module."
   ]
  },
  {
   "cell_type": "code",
   "execution_count": null,
   "id": "7f54bc26",
   "metadata": {},
   "outputs": [],
   "source": []
  }
 ],
 "metadata": {
  "kernelspec": {
   "display_name": "Python 3 (ipykernel)",
   "language": "python",
   "name": "python3"
  },
  "language_info": {
   "codemirror_mode": {
    "name": "ipython",
    "version": 3
   },
   "file_extension": ".py",
   "mimetype": "text/x-python",
   "name": "python",
   "nbconvert_exporter": "python",
   "pygments_lexer": "ipython3",
   "version": "3.9.12"
  }
 },
 "nbformat": 4,
 "nbformat_minor": 5
}
