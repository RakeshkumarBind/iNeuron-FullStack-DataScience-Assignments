{
 "cells": [
  {
   "cell_type": "markdown",
   "id": "e269360a",
   "metadata": {},
   "source": [
    "# Q1. \n",
    "Is an assignment operator like += only for show? Is it possible that it would lead to faster results\n",
    "at the runtime?"
   ]
  },
  {
   "cell_type": "markdown",
   "id": "113afd24",
   "metadata": {},
   "source": [
    "<b>Answer:</b><br>\n",
    "    A=A+1 evaluates to finding A, adding 1 to it. Then storing the value again in variable A. This expression makes Python to look for memory holder of 'a' twice. But A+=1 simply means value of A is to incremented by 1. As memory address has to be identified once, += leads to faster operation."
   ]
  },
  {
   "cell_type": "markdown",
   "id": "56d7fb30",
   "metadata": {},
   "source": [
    "# Q2. \n",
    "What is the smallest number of statements you&#39;d have to write in most programming languages to\n",
    "replace the Python expression a, b = a + b, a?"
   ]
  },
  {
   "cell_type": "markdown",
   "id": "cb172187",
   "metadata": {},
   "source": [
    "<b>Answer:</b><br>Minimum number of lines required to write above code in languages other than Python will be 4, two for assigning initial values for variables a and b, and two for reassignment i.e. a=a+b and b=a."
   ]
  },
  {
   "cell_type": "markdown",
   "id": "afac409c",
   "metadata": {},
   "source": [
    "# Q3.\n",
    "In Python, what is the most effective way to set a list of 100 integers to 0?"
   ]
  },
  {
   "cell_type": "markdown",
   "id": "79cfead5",
   "metadata": {},
   "source": [
    "<b>Answer:</b><br>The Most effective way to set a list of 100 integers to 0 in python is by using repetition operator(*) or by using list comprehension."
   ]
  },
  {
   "cell_type": "code",
   "execution_count": null,
   "id": "6855dcf6",
   "metadata": {},
   "outputs": [],
   "source": [
    "# Method 1\n",
    "zero=[0]*100\n",
    "print(zero)\n",
    "# Method 2\n",
    "zero_list = [0 for x in range(100)]\n",
    "print(zero_list)"
   ]
  },
  {
   "cell_type": "markdown",
   "id": "82db7970",
   "metadata": {},
   "source": [
    "# Q4.\n",
    "What is the most effective way to initialise a list of 99 integers that repeats the sequence 1, 2, 3?\n",
    "S If necessary, show step-by-step instructions on how to accomplish this."
   ]
  },
  {
   "cell_type": "code",
   "execution_count": null,
   "id": "2173984a",
   "metadata": {},
   "outputs": [],
   "source": [
    "list = [1,2,3]*33\n",
    "print(list)"
   ]
  },
  {
   "cell_type": "markdown",
   "id": "0077039b",
   "metadata": {},
   "source": [
    "# Q5.\n",
    "If you&#39;re using IDLE to run a Python application, explain how to print a multidimensional list as\n",
    "efficiently?"
   ]
  },
  {
   "cell_type": "code",
   "execution_count": null,
   "id": "1e336f7b",
   "metadata": {},
   "outputs": [],
   "source": [
    "my_list = [[1,1],[2,2],[3,3],[4,4],[5,5]] # 2 dimensional List\n",
    "for x in range(len(my_list)):\n",
    "    for y in range(len(my_list[x])):\n",
    "        print(my_list[x][y],end=\" \")"
   ]
  },
  {
   "cell_type": "markdown",
   "id": "4f66e3f9",
   "metadata": {},
   "source": [
    "# Q6.\n",
    "Is it possible to use list comprehension with a string? If so, how can you go about doing it?"
   ]
  },
  {
   "cell_type": "markdown",
   "id": "5fb537bb",
   "metadata": {},
   "source": [
    "<b>Answer:</b><br>Yes definitely , we can use list comprehension with a string."
   ]
  },
  {
   "cell_type": "code",
   "execution_count": null,
   "id": "4158e58b",
   "metadata": {},
   "outputs": [],
   "source": [
    "[i for i in 'monkey d luffy']"
   ]
  },
  {
   "cell_type": "markdown",
   "id": "31ec8b81",
   "metadata": {},
   "source": [
    "# Q7.\n",
    "From the command line, how do you get support with a user-written Python programme? Is this\n",
    "possible from inside IDLE?"
   ]
  },
  {
   "cell_type": "markdown",
   "id": "35d88fee",
   "metadata": {},
   "source": [
    "<b>Answer:</b><br>`Get support with a user-written Python Programme`: Start a command prompt (Windows) or terminal window (Linux/Mac). If the current working directory is the same as the location in which you saved the file, you can simply specify the filename as a command-line argument to the Python interpreter.<br>\n",
    "\n",
    "`Get support with a User-written Python Program from IDLE`: You can also create script files and run them in IDLE. From the Shell window menu, select File → New File. That should open an additional editing window. Type in the code to be executed. From the menu in that window, select File → Save or File → Save As… and save the file to disk. Then select Run → Run Module. The output should appear back in the interpreter<br>"
   ]
  },
  {
   "cell_type": "markdown",
   "id": "ac4a2230",
   "metadata": {},
   "source": [
    "# Q8.\n",
    "Functions are said to be “first-class objects” in Python but not in most other languages, such as\n",
    "C++ or Java. What can you do in Python with a function (callable object) that you can&#39;t do in C or\n",
    "C++?"
   ]
  },
  {
   "cell_type": "markdown",
   "id": "b7b944d0",
   "metadata": {},
   "source": [
    "<b>Answer:</b><br>The tasks which can be performed with the functions in python are:<br>\n",
    "<br>\n",
    "1.A function is an instance of the Object type.<br>\n",
    "2.You can store the function in a variable.<br>\n",
    "3.You can pass the function as a parameter to another function.<br>\n",
    "4.You can return the function from a function.<br>\n",
    "5.You can store them in data structures such as hash tables, lists.<br>"
   ]
  },
  {
   "cell_type": "markdown",
   "id": "6638ffc2",
   "metadata": {},
   "source": [
    "# Q9.\n",
    "How do you distinguish between a wrapper, a wrapped feature, and a decorator?"
   ]
  },
  {
   "cell_type": "markdown",
   "id": "435b4320",
   "metadata": {},
   "source": [
    "<b>Answer:</b><br>\n",
    "`Wrapper`:<br>\n",
    "<br>\n",
    "-A wrapper is a function, class, or code segment that encapsulates or \"wraps around\" another function, method, or object.<br>\n",
    "-Its purpose is to add functionality or modify the behavior of the wrapped feature.<br>\n",
    "-Wrappers are used to implement various aspects of code such as error handling, logging, authentication, or pre- and post-processing logic.<br>\n",
    "\n",
    "`Wrapped Feature`:<br>\n",
    "<br>\n",
    "-The wrapped feature refers to the original function, method, or object that is encapsulated or modified by a wrapper.<br>\n",
    "-It represents the core functionality that you want to enhance or extend.<br>\n",
    "-The wrapped feature itself remains unchanged; it can be enhanced or altered by one or more wrapper functions.<br>\n",
    "<br>\n",
    "`Decorator`:<br>\n",
    "<br>\n",
    "-A decorator is a specific design pattern in Python where a function takes another function as input, adds functionality to it, and returns a new function.<br>\n",
    "-Decorators are used to modify or enhance the behavior of functions or methods in a clean and reusable way.<br>\n",
    "-They are applied using the @decorator_name syntax in Python and are a common way to implement wrappers in Python.<br>\n",
    "-In summary, a wrapper is code that surrounds and modifies another piece of code, the wrapped feature is the original code being modified, and a decorator is a specific type of wrapper used in Python that follows a particular pattern and syntax. Decorators are a way to implement wrappers in a structured and readable manner."
   ]
  },
  {
   "cell_type": "markdown",
   "id": "edf2b8fb",
   "metadata": {},
   "source": [
    "# Q10.\n",
    "If a function is a generator function, what does it return?"
   ]
  },
  {
   "cell_type": "markdown",
   "id": "b62a8877",
   "metadata": {},
   "source": [
    "<b>Answer:</b><br>If a function is a generator function, it returns a generator object. <br>\n",
    "A generator object is a special type of iterator that can be used to iterate over a sequence of values one at a time, generating values on-the-fly as needed rather than storing them all in memory.<br>"
   ]
  },
  {
   "cell_type": "markdown",
   "id": "d5aafc39",
   "metadata": {},
   "source": [
    "# Q11.\n",
    "What is the one improvement that must be made to a function in order for it to become a\n",
    "generator function in the Python language?"
   ]
  },
  {
   "cell_type": "markdown",
   "id": "2e406a5d",
   "metadata": {},
   "source": [
    "<b>Answer:</b><br>-To turn a regular function into a generator function in Python, you need to make one key improvement: replace the return statements with yield statements within the function.<br>\n",
    "-Here's the primary difference:<br>\n",
    "-In a regular function, the return statement is used to return a value, and the function exits when a return statement is encountered.<br>\n",
    "-In a generator function, you use the `yield` statement to yield a value, which temporarily suspends the function's state, allowing it to be resumed later from where it left off. The function doesn't exit when yield is encountered; instead, it becomes a generator that can be iterated over, producing values one at a time.<br>"
   ]
  },
  {
   "cell_type": "markdown",
   "id": "bd3eb279",
   "metadata": {},
   "source": [
    "# Q12. \n",
    "Identify at least one benefit of generators."
   ]
  },
  {
   "cell_type": "markdown",
   "id": "fc48c42b",
   "metadata": {},
   "source": [
    "<b>Answer:</b><br>`return` statement sends a specified value back to its caller whereas `yield` statment can produce a sequence of values. We should use generator when we want to iterate over a sequence, but don’t want to store the entire sequence in memory.<br>\n",
    "\n",
    "`Benefits:`<br>\n",
    "\n",
    "1.Large Datasets: Generators enable you to process large datasets that don't fit entirely into memory. Since they generate data on-the-fly as you iterate over it, you only need to hold a single data item in memory at a time. This can significantly reduce memory usage and prevent memory-related issues like crashes or slowdowns.<br>\n",
    "\n",
    "2.Infinite Sequences: Generators can represent infinite sequences, such as an infinite stream of numbers or an infinite stream of data from an external source. With a generator, you can consume data as it becomes available, making it possible to work with sequences that cannot be fully generated in advance.<br>"
   ]
  },
  {
   "cell_type": "code",
   "execution_count": null,
   "id": "ed812af6",
   "metadata": {},
   "outputs": [],
   "source": []
  }
 ],
 "metadata": {
  "kernelspec": {
   "display_name": "Python 3 (ipykernel)",
   "language": "python",
   "name": "python3"
  },
  "language_info": {
   "codemirror_mode": {
    "name": "ipython",
    "version": 3
   },
   "file_extension": ".py",
   "mimetype": "text/x-python",
   "name": "python",
   "nbconvert_exporter": "python",
   "pygments_lexer": "ipython3",
   "version": "3.9.12"
  }
 },
 "nbformat": 4,
 "nbformat_minor": 5
}
