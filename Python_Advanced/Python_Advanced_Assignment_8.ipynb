{
 "cells": [
  {
   "cell_type": "markdown",
   "id": "a4ee7fe1",
   "metadata": {},
   "source": [
    "# Q1. \n",
    "What are the two latest user-defined exception constraints in Python 3.X?"
   ]
  },
  {
   "cell_type": "markdown",
   "id": "8a06acfb",
   "metadata": {},
   "source": [
    "<b>Answer:</b><br>raise and assert are the two latest user-defined exception constraints in Python 3.X"
   ]
  },
  {
   "cell_type": "markdown",
   "id": "5234dd86",
   "metadata": {},
   "source": [
    "# Q2.\n",
    "How are class-based exceptions that have been raised matched to handlers?"
   ]
  },
  {
   "cell_type": "markdown",
   "id": "9533d0fa",
   "metadata": {},
   "source": [
    "<b>Answer:</b><br>In python, Users can define custom exceptions by creating a new class. This exception class has to be derived, either directly or indirectly from built-in Exception class. This new exception class like other exceptions can be raised using the raise statement with an optional error message."
   ]
  },
  {
   "cell_type": "code",
   "execution_count": 1,
   "id": "693461cb",
   "metadata": {},
   "outputs": [
    {
     "ename": "ToYoungException",
     "evalue": "To Young For Voting",
     "output_type": "error",
     "traceback": [
      "\u001b[1;31m---------------------------------------------------------------------------\u001b[0m",
      "\u001b[1;31mToYoungException\u001b[0m                          Traceback (most recent call last)",
      "Input \u001b[1;32mIn [1]\u001b[0m, in \u001b[0;36m<cell line: 5>\u001b[1;34m()\u001b[0m\n\u001b[0;32m      3\u001b[0m         \u001b[38;5;28mself\u001b[39m\u001b[38;5;241m.\u001b[39mmsg \u001b[38;5;241m=\u001b[39m msg\n\u001b[0;32m      4\u001b[0m age \u001b[38;5;241m=\u001b[39m \u001b[38;5;241m16\u001b[39m\n\u001b[1;32m----> 5\u001b[0m \u001b[38;5;28;01mif\u001b[39;00m age \u001b[38;5;241m<\u001b[39m\u001b[38;5;241m=\u001b[39m \u001b[38;5;241m18\u001b[39m: \u001b[38;5;28;01mraise\u001b[39;00m ToYoungException(\u001b[38;5;124m'\u001b[39m\u001b[38;5;124mTo Young For Voting\u001b[39m\u001b[38;5;124m'\u001b[39m)\n",
      "\u001b[1;31mToYoungException\u001b[0m: To Young For Voting"
     ]
    }
   ],
   "source": [
    "class ToYoungException(Exception):\n",
    "    def __init__(self,msg):\n",
    "        self.msg = msg\n",
    "age = 16\n",
    "if age <= 18: raise ToYoungException('To Young For Voting')"
   ]
  },
  {
   "cell_type": "markdown",
   "id": "3de2b6d6",
   "metadata": {},
   "source": [
    "# Q3.\n",
    "Describe two methods for attaching context information to exception artefacts."
   ]
  },
  {
   "cell_type": "markdown",
   "id": "9b266718",
   "metadata": {},
   "source": [
    "<b>Answer:</b><br> The `process() method` of `LoggerAdapter` is where the contextual information is added to the logging output. its passes the message and keyword arguments of the logging call, and it passes back modified versions of these to use in the call to the underlying logger.<br>\n",
    "\n",
    "Other method that can be used is `exception()`, Logs a messgae with level ERROR on this logger. The arguments are interpreted as for debug(). Exception info is added to the logging message."
   ]
  },
  {
   "cell_type": "markdown",
   "id": "b3985d99",
   "metadata": {},
   "source": [
    "# Q4.\n",
    "Describe two methods for specifying the text of an exception object&#39;s error message."
   ]
  },
  {
   "cell_type": "markdown",
   "id": "f3f44f55",
   "metadata": {},
   "source": [
    "<b>Answer:</b><br>`raise and assert` are two methods for specifying the text of an exception object's error message.raise statement is used to trigger explicit exception, if certain condition is not as per requirement of programmer. it helps in triggering exception as per need of programmer and logic.<br>\n",
    "\n",
    "There are few assertions that programmer always want to be True to avoid code failure. This type of requirment is fullfilled by assert statement. This statement takes a Boolean Condition output of which if True, further program executes. if output of assert statement is False it raises an Assertion Error."
   ]
  },
  {
   "cell_type": "markdown",
   "id": "00ba1858",
   "metadata": {},
   "source": [
    "# Q5.\n",
    "Why do you no longer use string-based exceptions?"
   ]
  },
  {
   "cell_type": "markdown",
   "id": "08b317e7",
   "metadata": {},
   "source": [
    "<b>Answer:</b><br>\n",
    "`String-based exceptions` are not encouraged in modern Python programming and no longer use because of some reason that are:<br>\n",
    "\n",
    "1.`Lack of Structure`: String-based exceptions provide little structure or organization for handling errors. They are essentially unstructured strings, making it harder to categorize and handle different types of errors systematically.<br>\n",
    "\n",
    "2.`Limited Error Information`: String-based exceptions only convey the error message as a text string. They do not carry additional information, such as the error type, traceback, or context. This can make it more challenging to diagnose and debug issues.<br>\n",
    "\n",
    "3.`No Exception Hierarchy`: Python's exception system is based on a hierarchy of exception classes. This hierarchy allows you to handle errors at different levels and provide more specialized error handling for specific situations. String-based exceptions do not fit into this hierarchy, making it difficult to perform fine-grained error handling.<br>\n",
    "\n",
    "4.`Difficulty in Localization`: If you need to translate error messages for internationalization or localization, working with string-based exceptions can be cumbersome. Exception classes can be designed with localization in mind, making it easier to manage translated error messages.<br>\n",
    "\n",
    "5.`Limited Tooling Support`: Development tools like debuggers and profilers are designed to work with exception classes. When you use string-based exceptions, you may miss out on the benefits these tools provide for debugging and diagnosing issues.<br>\n",
    "\n",
    "6.`Readability and Maintainability`: Code that raises and catches exceptions using string-based messages may be less readable and maintainable. It can be harder for developers to understand the nature of errors without proper exception classes and structured error handling.<br>\n",
    "\n",
    "7.`Inconsistent Error Handling`: String-based exceptions do not encourage consistent error handling practices across different parts of your codebase. In contrast, exception classes promote a standardized and structured approach to error handling.<br>\n",
    "\n",
    "For all these reasons, Python's design philosophy favors the use of exception classes over string-based exceptions.<br>\n",
    "Exception classes provide a more organized, informative, and structured way to handle errors, which ultimately leads to more robust and maintainable code. <br>\n",
    "Therefore, it is generally recommended to use exception classes for error handling in Python.<br>"
   ]
  },
  {
   "cell_type": "code",
   "execution_count": null,
   "id": "d6cc5139",
   "metadata": {},
   "outputs": [],
   "source": []
  }
 ],
 "metadata": {
  "kernelspec": {
   "display_name": "Python 3 (ipykernel)",
   "language": "python",
   "name": "python3"
  },
  "language_info": {
   "codemirror_mode": {
    "name": "ipython",
    "version": 3
   },
   "file_extension": ".py",
   "mimetype": "text/x-python",
   "name": "python",
   "nbconvert_exporter": "python",
   "pygments_lexer": "ipython3",
   "version": "3.9.12"
  }
 },
 "nbformat": 4,
 "nbformat_minor": 5
}
