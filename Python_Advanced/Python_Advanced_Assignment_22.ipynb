{
 "cells": [
  {
   "cell_type": "markdown",
   "id": "737bc2f4",
   "metadata": {},
   "source": [
    "# Q1. \n",
    "What are the benefits of the built-in array package, if any?"
   ]
  },
  {
   "cell_type": "markdown",
   "id": "f2eaab24",
   "metadata": {},
   "source": [
    "<b>Answer:</b><br>\n",
    "The built-in array package in Python has several benefits, including:<br>\n",
    "\n",
    "1.`Efficient memory management`: Python's array module manages memory efficiently, allowing you to work with large arrays without worrying about memory allocation issues.<br>\n",
    "2.`Vectorized operations`: Many mathematical operations in NumPy are vectorized, meaning they can operate on entire arrays at once, rather than having to iterate over each element individually. This leads to significant performance improvements for many tasks.<br>\n",
    "3.`High-performance computing`: NumPy arrays are optimized for high-performance computing and are often faster than lists or other data structures for certain tasks.<br>\n",
    "4.`Integration with other libraries`: NumPy arrays can be easily integrated with other popular scientific computing libraries, such as Pandas, Scipy, and Matplotlib, making it easy to perform advanced data analysis and visualization tasks.<br>\n",
    "5.`Homogeneous data structure`: All elements in an NumPy array must be of the same data type, which makes it easier to perform operations on the data since you don't have to worry about handling different data types.<br>\n",
    "6.`Support for multi-dimensional arrays`: NumPy supports multi-dimensional arrays, which can be useful for representing data with multiple variables or dimensions.<br>\n",
    "7.`Broadcasting`: NumPy arrays support broadcasting, which allows you to perform operations on arrays with different shapes and sizes.<br>\n",
    "8.`Random number generation`: NumPy provides functions for generating random numbers, which can be useful for simulations, modeling, and statistical analysis.<br>\n",
    "9.`Sorting and indexing`: NumPy arrays can be sorted and indexed quickly and efficiently, making it easy to find specific values or reorder the data.<br>\n",
    "10.`Data manipulation`: NumPy provides a range of functions for manipulating data, such as reshaping, transposing, flattening, and more.<br>"
   ]
  },
  {
   "cell_type": "markdown",
   "id": "9c297887",
   "metadata": {},
   "source": [
    "# Q2.\n",
    "What are some of the array package&#39;s limitations?"
   ]
  },
  {
   "cell_type": "markdown",
   "id": "2f3d6688",
   "metadata": {},
   "source": [
    "<b>Answer:</b><br>\n",
    "1.The number of elements to be stored in an array should be known in advance. An array is a static structure (which means the array is of fixed size). Once declared the size of the array cannot be modified. The memory which is allocated to it cannot be increased or decreased.<br>\n",
    "2.Insertion and deletion are quite difficult in an array as the elements are stored in consecutive memory locations and the shifting operation is costly.<br>\n",
    "3.Allocating more memory than the requirement leads to wastage of memory space and less allocation of memory also leads to a problem<br>"
   ]
  },
  {
   "cell_type": "markdown",
   "id": "120f2856",
   "metadata": {},
   "source": [
    "# Q3.\n",
    "Describe the main differences between the array and numpy packages."
   ]
  },
  {
   "cell_type": "markdown",
   "id": "56050ba9",
   "metadata": {},
   "source": [
    "<b>Answer:</b><br>\n",
    "1.The array package doesn't provide any help with numerical calculation with the items insdie it in number form while NumPy give you a wide variety of numerical operations.<br>\n",
    "2.An array is a single dimensional entity which hold the numerical data, while numpy can have more than 1 dimension.<br>\n",
    "3.In case of array, item can be accessed by its index position and it is easy task while in numpy item is accessed by its column and row index, which makes it slightly time taking. Same goes with appending operation.<br>\n",
    "4.In case of array we do not form a tabular structure, while in numpy it forms a tabular structure<br>"
   ]
  },
  {
   "cell_type": "markdown",
   "id": "3a399a9f",
   "metadata": {},
   "source": [
    "# Q4.\n",
    "Explain the distinctions between the empty, ones, and zeros functions."
   ]
  },
  {
   "cell_type": "markdown",
   "id": "a58ac92c",
   "metadata": {},
   "source": [
    "<b>Answer:</b><br>\n",
    "The distinctions between the empty, ones, and zero functions are as follows :<br>\n",
    "\n",
    "1.Empty function: An empty function is a function that does not contain any statement within its body. If you try to write a function definition without any statement in python ,it will return an error. To avoid this, we use pass statement. pass is a special statement in Python that does nothing. It only works as a dummy statement.<br>\n",
    "2.Ones: This function returns a new array of given shape and data type, where the element’s value is 1.<br>\n",
    "3.Zeros: This function returns a new array of given shape and data type, where the element’s value is 0.<br>"
   ]
  },
  {
   "cell_type": "markdown",
   "id": "130e424e",
   "metadata": {},
   "source": [
    "# Q5. \n",
    "In the fromfunction function, which is used to construct new arrays, what is the role of the callable\n",
    "argument?"
   ]
  },
  {
   "cell_type": "markdown",
   "id": "7e515799",
   "metadata": {},
   "source": [
    "<b>Answer:</b><br>In the `fromfunction function`, the `callable argument` is used to generate the values for the new array. The callable is a function that takes in a single argument, which is the index of the element in the new array, and returns the value that should be assigned to that element."
   ]
  },
  {
   "cell_type": "markdown",
   "id": "2d420acc",
   "metadata": {},
   "source": [
    "# Q6.\n",
    "What happens when a numpy array is combined with a single-value operand (a scalar, such as\n",
    "an int or a floating-point value) through addition, as in the expression A + n?"
   ]
  },
  {
   "cell_type": "markdown",
   "id": "4571b52f",
   "metadata": {},
   "source": [
    "<b>Answer:</b><br>When a NumPy array is combined with a single-value operand (a scalar, such as an integer or a floating-point value) through addition, the result is a new NumPy array with the same shape as the original array, but with its elements updated by adding the scalar value to each element of the original array."
   ]
  },
  {
   "cell_type": "code",
   "execution_count": 6,
   "id": "bafadb0c",
   "metadata": {},
   "outputs": [
    {
     "data": {
      "text/plain": [
       "array([[ 4,  5,  6,  7],\n",
       "       [ 8,  9, 10, 11],\n",
       "       [12, 13, 14, 15]])"
      ]
     },
     "execution_count": 6,
     "metadata": {},
     "output_type": "execute_result"
    }
   ],
   "source": [
    "import numpy as np\n",
    "\n",
    "A = np.array([[1, 2, 3, 4], [5, 6, 7, 8], [9, 10, 11, 12]])\n",
    "B = A + 3\n",
    "B"
   ]
  },
  {
   "cell_type": "markdown",
   "id": "1f0c9cef",
   "metadata": {},
   "source": [
    "# Q7.\n",
    "Can array-to-scalar operations use combined operation-assign operators (such as += or *=)?\n",
    "What is the outcome?"
   ]
  },
  {
   "cell_type": "markdown",
   "id": "55b2657d",
   "metadata": {},
   "source": [
    "<b>Answer:</b><br>Yes, array-to-scalar operations can use combined operation-assign operators  `(such as += or *=)` in NumPy. These operators perform the desired operation and assign the result to the original array."
   ]
  },
  {
   "cell_type": "code",
   "execution_count": 7,
   "id": "c38618b4",
   "metadata": {},
   "outputs": [
    {
     "name": "stdout",
     "output_type": "stream",
     "text": [
      "[3 4 5 6 7]\n",
      "[ 9 12 15 18 21]\n"
     ]
    }
   ],
   "source": [
    "import numpy as np\n",
    "\n",
    "# Create an example array\n",
    "arr = np.array([1, 2, 3, 4, 5])\n",
    "\n",
    "# Use combined operation-assign operators\n",
    "arr += 2\n",
    "print(arr)  # Output: [3, 4, 5, 6, 7]\n",
    "\n",
    "arr *= 3\n",
    "print(arr)  # Output: [9, 12, 15, 18, 21]\n",
    "\n"
   ]
  },
  {
   "cell_type": "markdown",
   "id": "d6c28c96",
   "metadata": {},
   "source": [
    "# Q8.\n",
    "Does a numpy array contain fixed-length strings? What happens if you allocate a longer string to\n",
    "one of these arrays?"
   ]
  },
  {
   "cell_type": "markdown",
   "id": "530f49ca",
   "metadata": {},
   "source": [
    "<b>Answer:</b><br>Yes, it is possible that we can include a string of fixed length in numpy array. The dtype of any numpy array containing string values is the maximum length of any string present in the array.Once set, it will only be able to store new string having length not more than the maximum length at the time of the creation. If we try to reassign some another string value having length greater than the maximum length of the existing elements, it simply discards all the values beyond the maximum length accept upto those values which are under the limit."
   ]
  },
  {
   "cell_type": "markdown",
   "id": "c6c963f2",
   "metadata": {},
   "source": [
    "# Q9.\n",
    "What happens when you combine two numpy arrays using an operation like addition (+) or\n",
    "multiplication (*)? What are the conditions for combining two numpy arrays?"
   ]
  },
  {
   "cell_type": "markdown",
   "id": "c6bed3cf",
   "metadata": {},
   "source": [
    "<b>Answer:</b><br>\n",
    "It will simply add or multiply element to element at same position.<br>\n",
    "The conditions for combining two NumPy arrays using + or * are:<br>\n",
    "1.The arrays must have compatible shapes for element-wise operations.<br>\n",
    "2.If the shapes are not compatible, a ValueError will be raised.<br>"
   ]
  },
  {
   "cell_type": "markdown",
   "id": "5427670a",
   "metadata": {},
   "source": [
    "# Q10.\n",
    "What is the best way to use a Boolean array to mask another array?"
   ]
  },
  {
   "cell_type": "markdown",
   "id": "4a0580fd",
   "metadata": {},
   "source": [
    "<b>Answer:</b><br>\n",
    "The best way to use a Boolean array to mask another array in NumPy is by using Boolean indexing. Boolean indexing allows you to select elements from one array based on the corresponding Boolean values in another array. "
   ]
  },
  {
   "cell_type": "code",
   "execution_count": 8,
   "id": "a1a7ff36",
   "metadata": {},
   "outputs": [
    {
     "name": "stdout",
     "output_type": "stream",
     "text": [
      "[3 4 5]\n"
     ]
    }
   ],
   "source": [
    "import numpy as np\n",
    "\n",
    "# Create a NumPy array\n",
    "data = np.array([1, 2, 3, 4, 5])\n",
    "\n",
    "# Create a Boolean mask based on a condition\n",
    "mask = (data > 2)  # This creates a Boolean array where each element indicates whether the condition is True\n",
    "\n",
    "# Use the Boolean mask to select elements from the original array\n",
    "result = data[mask]\n",
    "\n",
    "print(result)"
   ]
  },
  {
   "cell_type": "markdown",
   "id": "2b4149f8",
   "metadata": {},
   "source": [
    "# Q11.\n",
    "What are three different ways to get the standard deviation of a wide collection of data using\n",
    "both standard Python and its packages? Sort the three of them by how quickly they execute."
   ]
  },
  {
   "cell_type": "markdown",
   "id": "ac635a52",
   "metadata": {},
   "source": [
    "<b>Answer:</b><br>\n",
    "1.NumPy's numpy.std() Function (Fastest):<br>\n",
    "NumPy is optimized for numerical operations and is typically the fastest way to calculate the standard deviation of an array.<br>"
   ]
  },
  {
   "cell_type": "code",
   "execution_count": 9,
   "id": "1b7f41b5",
   "metadata": {},
   "outputs": [],
   "source": [
    "import numpy as np\n",
    "\n",
    "data = np.array([1, 2, 3, 4, 5])\n",
    "std_dev = np.std(data)"
   ]
  },
  {
   "cell_type": "markdown",
   "id": "5d5bfc11",
   "metadata": {},
   "source": [
    "2.Statistics Module (Standard Library):<br>\n",
    "\n",
    "Python's standard library includes the statistics module, which provides a stdev() function for calculating the standard deviation.<br>\n",
    "While not as fast as NumPy for large datasets, it's still a reliable option for standard deviation calculation."
   ]
  },
  {
   "cell_type": "code",
   "execution_count": 10,
   "id": "7e0643ac",
   "metadata": {},
   "outputs": [],
   "source": [
    "import statistics\n",
    "\n",
    "data = [1, 2, 3, 4, 5]\n",
    "std_dev = statistics.stdev(data)"
   ]
  },
  {
   "cell_type": "markdown",
   "id": "cc16addd",
   "metadata": {},
   "source": [
    "3.Manual Calculation (Slower):<br>\n",
    "You can calculate the standard deviation manually by following the mathematical formula"
   ]
  },
  {
   "cell_type": "code",
   "execution_count": 11,
   "id": "bc36ff8f",
   "metadata": {},
   "outputs": [],
   "source": [
    "data = [1, 2, 3, 4, 5]\n",
    "mean = sum(data) / len(data)\n",
    "squared_diff = [(x - mean) ** 2 for x in data]\n",
    "std_dev = (sum(squared_diff) / len(data)) ** 0.5"
   ]
  },
  {
   "cell_type": "markdown",
   "id": "84d89f9c",
   "metadata": {},
   "source": [
    "# 12.\n",
    "What is the dimensionality of a Boolean mask-generated array?"
   ]
  },
  {
   "cell_type": "markdown",
   "id": "8c2be396",
   "metadata": {},
   "source": [
    "<b>Answer:</b><br>: It will have same dimensionality as input array"
   ]
  },
  {
   "cell_type": "code",
   "execution_count": null,
   "id": "5fd90a08",
   "metadata": {},
   "outputs": [],
   "source": []
  }
 ],
 "metadata": {
  "kernelspec": {
   "display_name": "Python 3 (ipykernel)",
   "language": "python",
   "name": "python3"
  },
  "language_info": {
   "codemirror_mode": {
    "name": "ipython",
    "version": 3
   },
   "file_extension": ".py",
   "mimetype": "text/x-python",
   "name": "python",
   "nbconvert_exporter": "python",
   "pygments_lexer": "ipython3",
   "version": "3.9.12"
  }
 },
 "nbformat": 4,
 "nbformat_minor": 5
}
