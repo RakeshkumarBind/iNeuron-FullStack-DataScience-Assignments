{
 "cells": [
  {
   "cell_type": "markdown",
   "id": "ed8a087a",
   "metadata": {},
   "source": [
    "# Q1. \n",
    "What is the purpose of the try statement?"
   ]
  },
  {
   "cell_type": "markdown",
   "id": "da9b5cc4",
   "metadata": {},
   "source": [
    "<b>Answer:</b><br>\n",
    "`try` statement is used for exception handling in python. <br>\n",
    "It consists of a block of risky statements which might cause an exception during runtime.<br> \n",
    "If code within try block raises exception, then the exception will be reverted to the corresponding except block when multiple except blocks are present, else it will be reverted to the default except block. <br>\n",
    "In short, try and except in union avoid programs from crashing during runtime due to exceptions.<br>"
   ]
  },
  {
   "cell_type": "code",
   "execution_count": 1,
   "id": "d6237c83",
   "metadata": {},
   "outputs": [
    {
     "name": "stdout",
     "output_type": "stream",
     "text": [
      "Division by Zero is Not Possible\n"
     ]
    }
   ],
   "source": [
    "try:\n",
    "    print(10/0)\n",
    "except ZeroDivisionError:\n",
    "    print('Division by Zero is Not Possible')"
   ]
  },
  {
   "cell_type": "markdown",
   "id": "739f58df",
   "metadata": {},
   "source": [
    "# Q2.\n",
    "What are the two most popular try statement variations?"
   ]
  },
  {
   "cell_type": "markdown",
   "id": "234dd40d",
   "metadata": {},
   "source": [
    "<b>Answer:</b><br>\n",
    "The Popular try statement variations are:<br>\n",
    "1.try,except<br>\n",
    "2.try,except,finally<br>\n",
    "3.try,except,finally,else<br>\n",
    "\n",
    "The try block is used to check code for exceptions during runtime. i.e. code inside try block will execute completely when there is no error in the program where as the code inside except block will execute whenever the program encounters some error in the preceeding try block.<br>\n",
    "\n",
    "Where as the code enters the else block if and only if the try clause does not raise an exception. The code in the finally block will execute irrespective of exception.<br>"
   ]
  },
  {
   "cell_type": "markdown",
   "id": "2534e192",
   "metadata": {},
   "source": [
    "# Q3.\n",
    "What is the purpose of the raise statement?"
   ]
  },
  {
   "cell_type": "markdown",
   "id": "105ffcc8",
   "metadata": {},
   "source": [
    "<b>Answer:</b><br>`raise statement` :<br>\n",
    "The raise statement in Python is used to explicitly raise exceptions or errors in your code. It is a way to signal that something unexpected or erroneous has occurred during the execution of your program. The primary purpose of the raise statement is to allow you to handle exceptional situations gracefully by propagating an exception to a higher level in your code or by handling it in an appropriate way.<br>\n",
    "\n",
    "main purpose of raise statement is to :<br>\n",
    "1.Raising Exceptions<br>\n",
    "2.Custom Exceptions<br>\n",
    "3.Propagation of Errors<br>\n",
    "\n",
    "The raise statement is an essential tool for error handling and exceptional situation management in Python. It allows you to respond to unexpected conditions gracefully, provide meaningful error messages, and ensure that your program doesn't terminate abruptly when errors occur.<br>"
   ]
  },
  {
   "cell_type": "markdown",
   "id": "95e00d41",
   "metadata": {},
   "source": [
    "# Q4.\n",
    "What does the `assert statement` do, and what other statement is it like?"
   ]
  },
  {
   "cell_type": "markdown",
   "id": "16c34ac2",
   "metadata": {},
   "source": [
    "<b>Answer:</b><br>There are few assertions that programmer always want to be true to avoid code failure. This type of requirement is fulfilled by `assert` statement. This statement takes a boolean condition output of which is True which in turn helps Further Program Execute. If output of assert statement is False, it raises an `Assertion Error.`"
   ]
  },
  {
   "cell_type": "code",
   "execution_count": 3,
   "id": "d587f7a4",
   "metadata": {},
   "outputs": [
    {
     "ename": "AssertionError",
     "evalue": "this is not a valid statement",
     "output_type": "error",
     "traceback": [
      "\u001b[1;31m---------------------------------------------------------------------------\u001b[0m",
      "\u001b[1;31mAssertionError\u001b[0m                            Traceback (most recent call last)",
      "Input \u001b[1;32mIn [3]\u001b[0m, in \u001b[0;36m<cell line: 1>\u001b[1;34m()\u001b[0m\n\u001b[1;32m----> 1\u001b[0m \u001b[38;5;28;01massert\u001b[39;00m(\u001b[38;5;241m2\u001b[39m \u001b[38;5;241m==\u001b[39m \u001b[38;5;241m10\u001b[39m), \u001b[38;5;124mf\u001b[39m\u001b[38;5;124m'\u001b[39m\u001b[38;5;124mthis is not a valid statement\u001b[39m\u001b[38;5;124m'\u001b[39m\n",
      "\u001b[1;31mAssertionError\u001b[0m: this is not a valid statement"
     ]
    }
   ],
   "source": [
    "assert(2 == 10), f'this is not a valid statement'"
   ]
  },
  {
   "cell_type": "markdown",
   "id": "49a4d0df",
   "metadata": {},
   "source": [
    "# Q5.\n",
    "What is the purpose of the `with/as argument`, and what other statement is it like?"
   ]
  },
  {
   "cell_type": "markdown",
   "id": "963e6e33",
   "metadata": {},
   "source": [
    "<b>Answer:</b><br>`with/as statement` simplifies use of file handling in python. When we use a with statement for file reading, there is no need for programmer to explicitly take care of activities like resource deallocation and file closing by using file.close() method. with statement itself ensures proper acquisition and release of resources. This avoids triggering of exceptions if the file closing is unknowingly forgotten in the code execution.\n",
    "\n",
    "`with open('sample_file.txt','w') as file: file.write('Hello World')`"
   ]
  },
  {
   "cell_type": "code",
   "execution_count": null,
   "id": "0e3c6676",
   "metadata": {},
   "outputs": [],
   "source": []
  },
  {
   "cell_type": "code",
   "execution_count": null,
   "id": "67c72784",
   "metadata": {},
   "outputs": [],
   "source": []
  }
 ],
 "metadata": {
  "kernelspec": {
   "display_name": "Python 3 (ipykernel)",
   "language": "python",
   "name": "python3"
  },
  "language_info": {
   "codemirror_mode": {
    "name": "ipython",
    "version": 3
   },
   "file_extension": ".py",
   "mimetype": "text/x-python",
   "name": "python",
   "nbconvert_exporter": "python",
   "pygments_lexer": "ipython3",
   "version": "3.9.12"
  }
 },
 "nbformat": 4,
 "nbformat_minor": 5
}
