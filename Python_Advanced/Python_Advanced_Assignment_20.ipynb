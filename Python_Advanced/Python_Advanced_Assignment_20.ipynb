{
 "cells": [
  {
   "cell_type": "markdown",
   "id": "e543620e",
   "metadata": {},
   "source": [
    "# 1. \n",
    "Compare and contrast the float and Decimal classes&#39; benefits and drawbacks."
   ]
  },
  {
   "cell_type": "markdown",
   "id": "5397d2e2",
   "metadata": {},
   "source": [
    "<b>Answer:</b><br>Both the float and decimal types store numerical values in Python.<br>\n",
    "\n",
    "We use floats when convenience and speed matter. A float gives us an approximation of the number we declare.<br>\n",
    "\n",
    "We use decimals when precision matters. Decimals can suffer from their own precision issues, but generally, decimals are more precise than floats. The performance difference between float and decimal, with Python 3, is not outlandish, and in my experience, the precision benefits of a decimal outweigh the performance benefits of a float.<br>"
   ]
  },
  {
   "cell_type": "markdown",
   "id": "79027c06",
   "metadata": {},
   "source": [
    "# 2.\n",
    "Decimal(&#39;1.200&#39;) and Decimal(&#39;1.2&#39;) are two objects to consider. In what sense are these the same\n",
    "object? Are these just two ways of representing the exact same value, or do they correspond to\n",
    "different internal states?"
   ]
  },
  {
   "cell_type": "markdown",
   "id": "da9c79b5",
   "metadata": {},
   "source": [
    "<b>Answer:</b><br>Both values are same but internal representation at storage Is different. Precsion differs, `Decimal('1.200')` gives internally `1.200` and `Decimal('1.2')` gives 1.2."
   ]
  },
  {
   "cell_type": "markdown",
   "id": "0de4bb02",
   "metadata": {},
   "source": [
    "# 3.\n",
    "What happens if the equality of Decimal(&#39;1.200&#39;) and Decimal(&#39;1.2&#39;) is checked?"
   ]
  },
  {
   "cell_type": "markdown",
   "id": "fb0a095b",
   "metadata": {},
   "source": [
    "<b>Answer:</b><br>Both values are checked to be equal since they only differ in precision."
   ]
  },
  {
   "cell_type": "markdown",
   "id": "2f46b0f6",
   "metadata": {},
   "source": [
    "# 4.\n",
    "Why is it preferable to start a Decimal object with a string rather than a floating-point value?"
   ]
  },
  {
   "cell_type": "markdown",
   "id": "20a15bac",
   "metadata": {},
   "source": [
    "<b>Answer:</b><br> Floating-point value is converted to Decimal format. Decimal can store float value with absolute precision. But when float value is given as Decimal object,it first has to be converted from floating point value which might already have rounding error.<br>\n",
    "\n",
    "Hence it is preferable to start a Decimal object with a string."
   ]
  },
  {
   "cell_type": "markdown",
   "id": "03c3f6b9",
   "metadata": {},
   "source": [
    "# 5. \n",
    "In an arithmetic phrase, how simple is it to combine Decimal objects with integers?"
   ]
  },
  {
   "cell_type": "markdown",
   "id": "87cacde0",
   "metadata": {},
   "source": [
    "<b>Answer:</b><br> We can do it with use of `Decimal()`."
   ]
  },
  {
   "cell_type": "markdown",
   "id": "47fda9d0",
   "metadata": {},
   "source": [
    "# 6.\n",
    "Can Decimal objects and floating-point values be combined easily?"
   ]
  },
  {
   "cell_type": "markdown",
   "id": "0bf221b0",
   "metadata": {},
   "source": [
    "<b>Answer:</b><br> Arithmetic operfations like Adding,subtracting or multiplying a Decimal object by a floating-point value generates an error.<br>\n",
    "To do these operations, the floating point has to be converted to a Decimal."
   ]
  },
  {
   "cell_type": "markdown",
   "id": "d3aa1165",
   "metadata": {},
   "source": [
    "# 7. \n",
    "Using the Fraction class but not the Decimal class, give an example of a quantity that can be\n",
    "expressed with absolute precision."
   ]
  },
  {
   "cell_type": "markdown",
   "id": "74284455",
   "metadata": {},
   "source": [
    "<b>Answer:</b><br>Value of `0.5` will be represented as `½`."
   ]
  },
  {
   "cell_type": "markdown",
   "id": "82de694c",
   "metadata": {},
   "source": [
    "# 8.\n",
    "Describe a quantity that can be accurately expressed by the Decimal or Fraction classes but not by\n",
    "a floating-point value."
   ]
  },
  {
   "cell_type": "markdown",
   "id": "0d46c192",
   "metadata": {},
   "source": [
    "<b>Answer:</b><br>For example, consider the quantity 1/7. In decimal form, this quantity repeats indefinitely: 0.142857142857... . Because of this repetition, 1/7 cannot be accurately represented by a floating-point value, which has a finite number of significant figures and would eventually round off the repeated digits."
   ]
  },
  {
   "cell_type": "code",
   "execution_count": 10,
   "id": "540f1405",
   "metadata": {},
   "outputs": [
    {
     "name": "stdout",
     "output_type": "stream",
     "text": [
      "0.142857\n"
     ]
    }
   ],
   "source": [
    "from decimal import Decimal\n",
    "\n",
    "q = Decimal('0.142857')\n",
    "print(q)"
   ]
  },
  {
   "cell_type": "code",
   "execution_count": 8,
   "id": "447fcdb6",
   "metadata": {},
   "outputs": [
    {
     "name": "stdout",
     "output_type": "stream",
     "text": [
      "1/7\n"
     ]
    }
   ],
   "source": [
    "from fractions import Fraction\n",
    "f = Fraction(1, 7)\n",
    "print(f)"
   ]
  },
  {
   "cell_type": "markdown",
   "id": "4366fc08",
   "metadata": {},
   "source": [
    "# Q9.\n",
    "Consider the following two fraction objects: Fraction(1, 2) and Fraction(1, 2). (5, 10). Is the internal\n",
    "state of these two objects the same? Why do you think that is?"
   ]
  },
  {
   "cell_type": "markdown",
   "id": "fb2ce380",
   "metadata": {},
   "source": [
    "<b>Answer:</b><br>No, the internal state of these two fraction objects is not the same.<br>\n",
    "    \n",
    "Although both fraction objects have the same numerical value (i.e., 0.5), they have different internal states because they were constructed with different numerators and denominators.<br>\n",
    "\n",
    "In Python's fractions module, the internal state of a Fraction object is stored as a tuple containing the numerator and denominator. When you create a new Fraction object with the same numerical value but different numerator and denominator, Python creates a new tuple with the updated values. Therefore, the internal state of the two fraction objects is different."
   ]
  },
  {
   "cell_type": "markdown",
   "id": "b740373e",
   "metadata": {},
   "source": [
    "# Q10. \n",
    "How do the Fraction class and the integer type (int) relate to each other? Containment or\n",
    "inheritance?"
   ]
  },
  {
   "cell_type": "markdown",
   "id": "db00dc73",
   "metadata": {},
   "source": [
    "<b>Answer:</b><br>The Fraction class and the int type are related through inheritance. Specifically, the Fraction class inherits from the int type.<br>\n",
    "\n",
    "In Python, when a class inherits from another class, it automatically includes all the attributes and methods of the parent class. The child class can then add its own attributes and methods, or override those of the parent class.<br>\n",
    "\n",
    "Since Fraction inherits from int, it automatically has all the attributes and methods of int, such as `__add__()`,` __sub__()`, `__mul__()`, etc. However, Fraction also adds its own attributes and methods that are specific to fractions, such as `__frac_part__()` and `__simplify__()`.<br>\n",
    "\n",
    "So, while a Fraction object contains an int object as its numerator and denominator, the relationship between Fraction and int is one of inheritance rather than containment.<br>"
   ]
  },
  {
   "cell_type": "code",
   "execution_count": null,
   "id": "d5cf720a",
   "metadata": {},
   "outputs": [],
   "source": []
  }
 ],
 "metadata": {
  "kernelspec": {
   "display_name": "Python 3 (ipykernel)",
   "language": "python",
   "name": "python3"
  },
  "language_info": {
   "codemirror_mode": {
    "name": "ipython",
    "version": 3
   },
   "file_extension": ".py",
   "mimetype": "text/x-python",
   "name": "python",
   "nbconvert_exporter": "python",
   "pygments_lexer": "ipython3",
   "version": "3.9.12"
  }
 },
 "nbformat": 4,
 "nbformat_minor": 5
}
