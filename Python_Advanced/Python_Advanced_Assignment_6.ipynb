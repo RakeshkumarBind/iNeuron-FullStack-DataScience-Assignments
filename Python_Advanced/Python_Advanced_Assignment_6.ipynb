{
 "cells": [
  {
   "cell_type": "markdown",
   "id": "98b81b9e",
   "metadata": {},
   "source": [
    "# Q1.\n",
    "Describe three applications for exception processing."
   ]
  },
  {
   "cell_type": "markdown",
   "id": "3f35aebe",
   "metadata": {},
   "source": [
    "<b>Answer:</b><br>\n",
    "Exception Processing is important to find exceptions that causes the runtime error as runtime errors halt the program execution when exception occurs.<br>\n",
    "Exception Processing is used in Various Applications. Few examples are:<br>\n",
    "<br>\n",
    "-Checking Appropriate use of input in an application<br>\n",
    "-Checking for Arithmetic exceptions in mathematical executions<br>\n",
    "-Checking File I/O exceptions during File handling<br>"
   ]
  },
  {
   "cell_type": "markdown",
   "id": "73f48118",
   "metadata": {},
   "source": [
    "# Q2. \n",
    "What happens if you don&#39;t do something extra to treat an exception?"
   ]
  },
  {
   "cell_type": "markdown",
   "id": "af9b7984",
   "metadata": {},
   "source": [
    "<b>Answer:</b><br>\n",
    " If Exceptions are not handled, flow of program will be broken during the run time which might lead to an abnormal termination of the program. Inshort inability of program to handle exceptions will result in crashing of program and we will not be able to get the desired result."
   ]
  },
  {
   "cell_type": "markdown",
   "id": "58a34553",
   "metadata": {},
   "source": [
    "# Q3.\n",
    "What are your options for recovering from an exception in your script?"
   ]
  },
  {
   "cell_type": "markdown",
   "id": "ae47004b",
   "metadata": {},
   "source": [
    "<b>Answer:</b><br>\n",
    "Python provides try and except statements for recovering from an exception in our script."
   ]
  },
  {
   "cell_type": "code",
   "execution_count": 5,
   "id": "1f67cd36",
   "metadata": {},
   "outputs": [
    {
     "name": "stdout",
     "output_type": "stream",
     "text": [
      "40\n"
     ]
    }
   ],
   "source": [
    "try:\n",
    "  print(x)\n",
    "except:\n",
    "  print(\"An exception occurred\") "
   ]
  },
  {
   "cell_type": "markdown",
   "id": "ba169961",
   "metadata": {},
   "source": [
    "# Q4.\n",
    "Describe two methods for triggering exceptions in your script."
   ]
  },
  {
   "cell_type": "markdown",
   "id": "4b0b55c3",
   "metadata": {},
   "source": [
    "<b>Answer:</b><br>\n",
    "raise and assert are two methods that can be used to trigger manual exceptions in our script.<br>\n",
    "<br>\n",
    "raise method triggers an exception if condition provided to it turns out to be True.<br>\n",
    "assert will let the program to continue execution if condition provided to it turns out to be True else exception will be raised<br>"
   ]
  },
  {
   "cell_type": "code",
   "execution_count": 6,
   "id": "01206063",
   "metadata": {},
   "outputs": [
    {
     "ename": "Exception",
     "evalue": "X Value Should not exceed 5 The Provided Value of X is 40",
     "output_type": "error",
     "traceback": [
      "\u001b[1;31m---------------------------------------------------------------------------\u001b[0m",
      "\u001b[1;31mException\u001b[0m                                 Traceback (most recent call last)",
      "Input \u001b[1;32mIn [6]\u001b[0m, in \u001b[0;36m<cell line: 3>\u001b[1;34m()\u001b[0m\n\u001b[0;32m      1\u001b[0m \u001b[38;5;66;03m# Example of raise\u001b[39;00m\n\u001b[0;32m      2\u001b[0m x \u001b[38;5;241m=\u001b[39m \u001b[38;5;241m40\u001b[39m\n\u001b[1;32m----> 3\u001b[0m \u001b[38;5;28;01mraise\u001b[39;00m \u001b[38;5;167;01mException\u001b[39;00m(\u001b[38;5;124mf\u001b[39m\u001b[38;5;124m'\u001b[39m\u001b[38;5;124mX Value Should not exceed 5 The Provided Value of X is \u001b[39m\u001b[38;5;132;01m{\u001b[39;00mx\u001b[38;5;132;01m}\u001b[39;00m\u001b[38;5;124m'\u001b[39m)\n",
      "\u001b[1;31mException\u001b[0m: X Value Should not exceed 5 The Provided Value of X is 40"
     ]
    }
   ],
   "source": [
    "# Example of raise\n",
    "x = 40\n",
    "raise Exception(f'X Value Should not exceed 5 The Provided Value of X is {x}')"
   ]
  },
  {
   "cell_type": "code",
   "execution_count": 7,
   "id": "bba86f2b",
   "metadata": {},
   "outputs": [
    {
     "ename": "AssertionError",
     "evalue": "2 is not equal to 10",
     "output_type": "error",
     "traceback": [
      "\u001b[1;31m---------------------------------------------------------------------------\u001b[0m",
      "\u001b[1;31mAssertionError\u001b[0m                            Traceback (most recent call last)",
      "Input \u001b[1;32mIn [7]\u001b[0m, in \u001b[0;36m<cell line: 2>\u001b[1;34m()\u001b[0m\n\u001b[0;32m      1\u001b[0m \u001b[38;5;66;03m# Example of assert\u001b[39;00m\n\u001b[1;32m----> 2\u001b[0m \u001b[38;5;28;01massert\u001b[39;00m(\u001b[38;5;241m2\u001b[39m\u001b[38;5;241m==\u001b[39m\u001b[38;5;241m10\u001b[39m), \u001b[38;5;124m\"\u001b[39m\u001b[38;5;124m2 is not equal to 10\u001b[39m\u001b[38;5;124m\"\u001b[39m\n",
      "\u001b[1;31mAssertionError\u001b[0m: 2 is not equal to 10"
     ]
    }
   ],
   "source": [
    "# Example of assert\n",
    "assert(2==10), \"2 is not equal to 10\""
   ]
  },
  {
   "cell_type": "markdown",
   "id": "90f93d40",
   "metadata": {},
   "source": [
    "# Q5.\n",
    "Identify two methods for specifying actions to be executed at termination time, regardless of\n",
    "whether or not an exception exists."
   ]
  },
  {
   "cell_type": "markdown",
   "id": "3f98a68b",
   "metadata": {},
   "source": [
    "<b>Answer:</b><br>\n",
    "Python Provides else and finally blocks for specifying actions to be executed at termination time, regardless of whether an exceptions exists or not."
   ]
  },
  {
   "cell_type": "code",
   "execution_count": null,
   "id": "4174a47c",
   "metadata": {},
   "outputs": [],
   "source": []
  },
  {
   "cell_type": "code",
   "execution_count": null,
   "id": "4fcde5c0",
   "metadata": {},
   "outputs": [],
   "source": []
  }
 ],
 "metadata": {
  "kernelspec": {
   "display_name": "Python 3 (ipykernel)",
   "language": "python",
   "name": "python3"
  },
  "language_info": {
   "codemirror_mode": {
    "name": "ipython",
    "version": 3
   },
   "file_extension": ".py",
   "mimetype": "text/x-python",
   "name": "python",
   "nbconvert_exporter": "python",
   "pygments_lexer": "ipython3",
   "version": "3.9.12"
  }
 },
 "nbformat": 4,
 "nbformat_minor": 5
}
