{
 "cells": [
  {
   "cell_type": "markdown",
   "id": "7b59308b",
   "metadata": {},
   "source": [
    "# Q1.\n",
    "What is the purpose of Python&#39;s OOP?"
   ]
  },
  {
   "cell_type": "markdown",
   "id": "3346dd15",
   "metadata": {},
   "source": [
    "<b>Answer:</b><br>\n",
    "Object-oriented programming is a programming paradigm that provides a means of structuring programs so that properties and behaviors are bundled into individual objects<br>\n",
    "<br>\n",
    "-In Python, object-oriented Programming (OOPs) uses objects and classes in programming.<br>\n",
    "-It aims to implement real-world entities like inheritance, polymorphisms, encapsulation, etc. in the programming.<br>\n",
    "-The main concept of OOPs is to bind the data and the functions that work on that together as a single unit so that no other part of the code can access this data.<br>\n",
    "<br>\n",
    "Some Advantages are mentioned below:<br>\n",
    "<br>\n",
    "-It helps to divide our over all program into different small segments and thus making problem solving easy through the use of objects<br>\n",
    "-Helps in easy maintenance and modification of existing program<br>\n",
    "-Multiple instances of an object can be made and explored.<br>"
   ]
  },
  {
   "cell_type": "markdown",
   "id": "2ecf3832",
   "metadata": {},
   "source": [
    "# Q2.\n",
    "Where does an inheritance search look for an attribute?"
   ]
  },
  {
   "cell_type": "markdown",
   "id": "e2fe1199",
   "metadata": {},
   "source": [
    "<b>Answer:</b><br>\n",
    "    Python searches for an attribute in an upward tree of attributes. it first searches for the attribute in its instance and then looks in the class it is generated from, to all super classes listed in its class header"
   ]
  },
  {
   "cell_type": "markdown",
   "id": "0b24ea6e",
   "metadata": {},
   "source": [
    "# Q3.\n",
    "How do you distinguish between a class object and an instance object?"
   ]
  },
  {
   "cell_type": "markdown",
   "id": "2efdd102",
   "metadata": {},
   "source": [
    "<b>Answer:</b><br>\n",
    "The differences between a class object and an instance object are:<br>\n",
    "\n",
    "---->Class is a template for creating objects whereas object is an instance of class<br>\n",
    "---->Seperate memory is allocated for each object whenever an object is created. but for a class this does not happens.<br>\n",
    "---->A Class is created once. Many objects are created using a class.<br>\n",
    "---->As Classes have no allocated memory. they can't be manipulated. but objects can be manipulated."
   ]
  },
  {
   "cell_type": "markdown",
   "id": "ec015304",
   "metadata": {},
   "source": [
    "# Q4.\n",
    "What makes the first argument in a class’s method function special?"
   ]
  },
  {
   "cell_type": "markdown",
   "id": "e4cc4a1b",
   "metadata": {},
   "source": [
    "<b>Answer:</b><br>\n",
    "Python Classes usually have three types of methods which are:<br>\n",
    "\n",
    "----Instance Methods (object level methods)<br>\n",
    "----Class Methods (class level methods)<br>\n",
    "----Static Methods (general utility methods)<br>\n",
    "----self is the first argument for instance methods. which refers to the object itself<br>\n",
    "----cls is the first argument for class methods which refers to the class itself<br>"
   ]
  },
  {
   "cell_type": "markdown",
   "id": "8faef034",
   "metadata": {},
   "source": [
    "# Q5.\n",
    "What is the purpose of the __init__ method?"
   ]
  },
  {
   "cell_type": "markdown",
   "id": "417f2491",
   "metadata": {},
   "source": [
    "<b>Answer:</b><br>\n",
    "    __init__ is a reseved method in python classes. It serves the role of a constructor in object oriented terminology. This method is called when an object is created from a class and it allows the class to initialize the attributes of the class"
   ]
  },
  {
   "cell_type": "markdown",
   "id": "e533f4cc",
   "metadata": {},
   "source": [
    "# Q6.\n",
    "What is the process for creating a class instance?"
   ]
  },
  {
   "cell_type": "markdown",
   "id": "68f52250",
   "metadata": {},
   "source": [
    "<b>Answer:</b><br>\n",
    "    To create a class instance, we need to call the class by its name and pass the arguments to the class, which its init method accepts."
   ]
  },
  {
   "cell_type": "markdown",
   "id": "e12f63ad",
   "metadata": {},
   "source": [
    "Example: my_name = my_class(\"Rakeshkumar\",\"Bind\") Here my_name is an instance of class my_class with attributes \"Rakeshkumar\" and \"Bind\""
   ]
  },
  {
   "cell_type": "markdown",
   "id": "20a48fe4",
   "metadata": {},
   "source": [
    "# Q7.\n",
    "What is the process for creating a class?"
   ]
  },
  {
   "cell_type": "markdown",
   "id": "1f4bfc31",
   "metadata": {},
   "source": [
    "<b>Answer:</b><br>\n",
    "class keyword is used to created a class in python. The syntax to create a class in python is class <classname>:\n",
    "\n",
    "Example: class Person: ➞ this creates a class called Person"
   ]
  },
  {
   "cell_type": "markdown",
   "id": "b447b30a",
   "metadata": {},
   "source": [
    "# Q8.\n",
    "How would you define the superclasses of a class?"
   ]
  },
  {
   "cell_type": "markdown",
   "id": "e260b986",
   "metadata": {},
   "source": [
    "<b>Answer:</b><br>\n",
    "Superclass/Parent class is given as a arugment to the child class.<br>\n",
    "\n",
    "Example: class Employee(Person): Here child class Employee inherits attributes and methods from Superclass/Parent Person."
   ]
  },
  {
   "cell_type": "code",
   "execution_count": null,
   "id": "63fa0a85",
   "metadata": {},
   "outputs": [],
   "source": []
  }
 ],
 "metadata": {
  "kernelspec": {
   "display_name": "Python 3 (ipykernel)",
   "language": "python",
   "name": "python3"
  },
  "language_info": {
   "codemirror_mode": {
    "name": "ipython",
    "version": 3
   },
   "file_extension": ".py",
   "mimetype": "text/x-python",
   "name": "python",
   "nbconvert_exporter": "python",
   "pygments_lexer": "ipython3",
   "version": "3.9.12"
  }
 },
 "nbformat": 4,
 "nbformat_minor": 5
}
