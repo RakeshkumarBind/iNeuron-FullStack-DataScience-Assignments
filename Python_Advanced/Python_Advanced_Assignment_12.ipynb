{
 "cells": [
  {
   "cell_type": "markdown",
   "id": "6fb237c2",
   "metadata": {},
   "source": [
    "# Q1.\n",
    "Does assigning a value to a string&#39;s indexed character violate Python&#39;s string immutability?"
   ]
  },
  {
   "cell_type": "markdown",
   "id": "178fe8e8",
   "metadata": {},
   "source": [
    "<b>Answer:</b><br>Assignment operation is not possible in string as strings are immutable."
   ]
  },
  {
   "cell_type": "code",
   "execution_count": 1,
   "id": "c468d015",
   "metadata": {},
   "outputs": [],
   "source": [
    "s=\"rakeshkumarbind\""
   ]
  },
  {
   "cell_type": "code",
   "execution_count": 2,
   "id": "0e434941",
   "metadata": {},
   "outputs": [
    {
     "ename": "TypeError",
     "evalue": "'str' object does not support item assignment",
     "output_type": "error",
     "traceback": [
      "\u001b[1;31m---------------------------------------------------------------------------\u001b[0m",
      "\u001b[1;31mTypeError\u001b[0m                                 Traceback (most recent call last)",
      "Input \u001b[1;32mIn [2]\u001b[0m, in \u001b[0;36m<cell line: 1>\u001b[1;34m()\u001b[0m\n\u001b[1;32m----> 1\u001b[0m s[\u001b[38;5;241m0\u001b[39m]\u001b[38;5;241m=\u001b[39m\u001b[38;5;124m'\u001b[39m\u001b[38;5;124mp\u001b[39m\u001b[38;5;124m'\u001b[39m\n",
      "\u001b[1;31mTypeError\u001b[0m: 'str' object does not support item assignment"
     ]
    }
   ],
   "source": [
    "s[0]='p'"
   ]
  },
  {
   "cell_type": "markdown",
   "id": "5f88d707",
   "metadata": {},
   "source": [
    "`We can clearly see that we are not able to assign new values to indexed character of string`"
   ]
  },
  {
   "cell_type": "markdown",
   "id": "e8506701",
   "metadata": {},
   "source": [
    "# Q2.\n",
    "Does using the += operator to concatenate strings violate Python&#39;s string immutability? Why or\n",
    "why not?"
   ]
  },
  {
   "cell_type": "markdown",
   "id": "0f533360",
   "metadata": {},
   "source": [
    "<b>Answer:</b><br>No, using the += operator to concatenate strings in Python does not violate Python's string immutability. Python strings are indeed immutable, which means their contents cannot be changed after creation. However, when you use the += operator to concatenate strings, you are not actually modifying the original string. Instead, you are creating a new string that contains the concatenated result."
   ]
  },
  {
   "cell_type": "code",
   "execution_count": 7,
   "id": "4b890ed3",
   "metadata": {},
   "outputs": [
    {
     "name": "stdout",
     "output_type": "stream",
     "text": [
      "Hello World\n",
      "False\n"
     ]
    }
   ],
   "source": [
    "original_string = \"Hello\"\n",
    "original_id = id(original_string)\n",
    "\n",
    "original_string += \" World\"\n",
    "new_id = id(original_string)\n",
    "\n",
    "print(original_string)  # Outputs: \"Hello World\"\n",
    "print(original_id == new_id)  # Outputs: False (new string was created)"
   ]
  },
  {
   "cell_type": "markdown",
   "id": "f69c75ac",
   "metadata": {},
   "source": [
    "# Q3.\n",
    "In Python, how many different ways are there to index a character?"
   ]
  },
  {
   "cell_type": "markdown",
   "id": "f36453fe",
   "metadata": {},
   "source": [
    "<b>Answer:</b><br>There are two ways : <br>\n",
    "1.`Positive Indexing `<br>\n",
    "2.`Negative Indexing`<br> \n",
    "A Character in string can be indexed using string name followed by index number of character in `square bracket`.<br>\n",
    "Positive Indexing i.e. first index is `0` an so on, or Negative Indexing i.e. last letter is `-1` and so on can be used to index a character<br>"
   ]
  },
  {
   "cell_type": "code",
   "execution_count": 8,
   "id": "66fb9f69",
   "metadata": {},
   "outputs": [],
   "source": [
    "a=\"luffy defeats kaido and frees everyone\""
   ]
  },
  {
   "cell_type": "code",
   "execution_count": 10,
   "id": "95461b54",
   "metadata": {},
   "outputs": [
    {
     "data": {
      "text/plain": [
       "'y'"
      ]
     },
     "execution_count": 10,
     "metadata": {},
     "output_type": "execute_result"
    }
   ],
   "source": [
    "a[4]   #Positive indexing"
   ]
  },
  {
   "cell_type": "code",
   "execution_count": 12,
   "id": "66dd8751",
   "metadata": {},
   "outputs": [
    {
     "data": {
      "text/plain": [
       "'y'"
      ]
     },
     "execution_count": 12,
     "metadata": {},
     "output_type": "execute_result"
    }
   ],
   "source": [
    "a[-34]   #Negative Indexing"
   ]
  },
  {
   "cell_type": "markdown",
   "id": "a4552eff",
   "metadata": {},
   "source": [
    "# Q4.\n",
    "What is the relationship between indexing and slicing?"
   ]
  },
  {
   "cell_type": "markdown",
   "id": "288f9264",
   "metadata": {},
   "source": [
    "<b>Answer:</b><br>We can access elements of sequence datatypes by using slicing and indexing.<br>\n",
    "Indexing is used to obtaining individual element while slicing for sequence of elements."
   ]
  },
  {
   "cell_type": "code",
   "execution_count": 13,
   "id": "b6702627",
   "metadata": {},
   "outputs": [
    {
     "data": {
      "text/plain": [
       "'luffy defeats kaido and frees everyone'"
      ]
     },
     "execution_count": 13,
     "metadata": {},
     "output_type": "execute_result"
    }
   ],
   "source": [
    "a"
   ]
  },
  {
   "cell_type": "code",
   "execution_count": 14,
   "id": "e997065e",
   "metadata": {},
   "outputs": [
    {
     "data": {
      "text/plain": [
       "'e'"
      ]
     },
     "execution_count": 14,
     "metadata": {},
     "output_type": "execute_result"
    }
   ],
   "source": [
    "#Indexing operation\n",
    "a[7]"
   ]
  },
  {
   "cell_type": "code",
   "execution_count": 15,
   "id": "57f0117c",
   "metadata": {},
   "outputs": [
    {
     "data": {
      "text/plain": [
       "'luffy'"
      ]
     },
     "execution_count": 15,
     "metadata": {},
     "output_type": "execute_result"
    }
   ],
   "source": [
    "#Slicing Operation\n",
    "a[0:5]"
   ]
  },
  {
   "cell_type": "markdown",
   "id": "d7d755eb",
   "metadata": {},
   "source": [
    "# Q5.\n",
    "What is an indexed character&#39;s exact data type? What is the data form of a slicing-generated\n",
    "substring?"
   ]
  },
  {
   "cell_type": "markdown",
   "id": "2e741b07",
   "metadata": {},
   "source": [
    "<b>Answer:</b><br>Indexed characters and sliced substrings have datatype String."
   ]
  },
  {
   "cell_type": "code",
   "execution_count": 20,
   "id": "3d25a1fb",
   "metadata": {},
   "outputs": [
    {
     "name": "stdout",
     "output_type": "stream",
     "text": [
      "<class 'str'>\n"
     ]
    }
   ],
   "source": [
    "#indexd character datatypes\n",
    "print(type(a[7]))"
   ]
  },
  {
   "cell_type": "code",
   "execution_count": 21,
   "id": "a5648caf",
   "metadata": {},
   "outputs": [
    {
     "name": "stdout",
     "output_type": "stream",
     "text": [
      "<class 'str'>\n"
     ]
    }
   ],
   "source": [
    "#Slicing generated sunstring datatype\n",
    "print(type(a[0:5]))"
   ]
  },
  {
   "cell_type": "markdown",
   "id": "ee6cd849",
   "metadata": {},
   "source": [
    "# Q6.\n",
    "What is the relationship between string and character &quot;types&quot; in Python?"
   ]
  },
  {
   "cell_type": "markdown",
   "id": "72379f65",
   "metadata": {},
   "source": [
    "<b>Answer:</b><br>Object that contains sequence of character datatypes are called String.<br>\n",
    "    In simple words collection of character forrms a string and is enclosed within single quote `''` or double quote`\" \"`\n",
    "    \n",
    "    "
   ]
  },
  {
   "cell_type": "markdown",
   "id": "6b6bcaad",
   "metadata": {},
   "source": [
    "# Q7.\n",
    "Identify at least two operators and one method that allow you to combine one or more smaller\n",
    "strings to create a larger string."
   ]
  },
  {
   "cell_type": "markdown",
   "id": "586ebd54",
   "metadata": {},
   "source": [
    "<b>Answer:</b><br> `+`, `+=` and `*` allow to combine one or more smaller strings to create a larger string. <br>`<string>.join(<sep>)` method joins element of iterable type like list and tuple to get a combined string."
   ]
  },
  {
   "cell_type": "code",
   "execution_count": 23,
   "id": "eb6c3e78",
   "metadata": {},
   "outputs": [
    {
     "name": "stdout",
     "output_type": "stream",
     "text": [
      "Luffy The land of Wano One piece\n",
      "Luffy Luffy Luffy \n",
      "G A R P\n",
      "g a r p\n"
     ]
    }
   ],
   "source": [
    "a1 = 'Luffy '\n",
    "a1 += 'The land of Wano'\n",
    "print(a1 + ' One piece')\n",
    "print('Luffy '*3)\n",
    "print(\" \".join(['G','A','R','P'])) # List Iterable\n",
    "print(\" \".join(('G','A','R','P')).lower()) # Tuple Iterable"
   ]
  },
  {
   "cell_type": "markdown",
   "id": "63a91340",
   "metadata": {},
   "source": [
    "# Q8.\n",
    "What is the benefit of first checking the target string with in or not in before using the index\n",
    "method to find a substring?"
   ]
  },
  {
   "cell_type": "markdown",
   "id": "282e9bba",
   "metadata": {},
   "source": [
    "<b>Answer:</b><br>Checking whether a target string contains a substring using the in or not in operator before using the index method or similar substring-searching methods has several benefits:<br>\n",
    "1.Avoiding Errors: Using in or not in before searching for a substring can help prevent errors or exceptions. If the substring is not found, the index method would raise a ValueError. By using in or not in first, you can handle cases where the substring is not present gracefully without causing your program to crash.<br>\n",
    "2.Improved Readability: Checking with in or not in before using index makes your code more readable and self-explanatory. It explicitly states your intention to search for a substring and handle both cases (found or not found).<br>\n",
    "\n",
    "`In simple words  Checking the target string with in or not Operators before using the index method to find a substring just helps confirming availability of substring and thus avoid raising of ValueError.`"
   ]
  },
  {
   "cell_type": "markdown",
   "id": "1dbc478f",
   "metadata": {},
   "source": [
    "Using in and not in "
   ]
  },
  {
   "cell_type": "code",
   "execution_count": 27,
   "id": "26d7bc41",
   "metadata": {},
   "outputs": [
    {
     "name": "stdout",
     "output_type": "stream",
     "text": [
      "Substring found at index 7\n"
     ]
    }
   ],
   "source": [
    "#Using in\n",
    "target_string = \"Hello, World!\"\n",
    "substring = \"World\"\n",
    "\n",
    "if substring in target_string:\n",
    "    index = target_string.index(substring)\n",
    "    print(f\"Substring found at index {index}\")\n",
    "else:\n",
    "    print(\"Substring not found\")"
   ]
  },
  {
   "cell_type": "code",
   "execution_count": 28,
   "id": "91d613b4",
   "metadata": {},
   "outputs": [
    {
     "name": "stdout",
     "output_type": "stream",
     "text": [
      "Substring is definitely not in the string\n"
     ]
    }
   ],
   "source": [
    "#Using not in\n",
    "target_string = \"This is a long text...\"\n",
    "substring = \"short\"\n",
    "\n",
    "if substring not in target_string:\n",
    "    print(\"Substring is definitely not in the string\")"
   ]
  },
  {
   "cell_type": "code",
   "execution_count": 30,
   "id": "eb822189",
   "metadata": {},
   "outputs": [
    {
     "ename": "ValueError",
     "evalue": "substring not found",
     "output_type": "error",
     "traceback": [
      "\u001b[1;31m---------------------------------------------------------------------------\u001b[0m",
      "\u001b[1;31mValueError\u001b[0m                                Traceback (most recent call last)",
      "Input \u001b[1;32mIn [30]\u001b[0m, in \u001b[0;36m<cell line: 3>\u001b[1;34m()\u001b[0m\n\u001b[0;32m      1\u001b[0m \u001b[38;5;66;03m#Using index\u001b[39;00m\n\u001b[0;32m      2\u001b[0m target_string1\u001b[38;5;241m=\u001b[39m\u001b[38;5;124m\"\u001b[39m\u001b[38;5;124mgoku is the strongest character in the dragon ball series\u001b[39m\u001b[38;5;124m\"\u001b[39m\n\u001b[1;32m----> 3\u001b[0m \u001b[43mtarget_string1\u001b[49m\u001b[38;5;241;43m.\u001b[39;49m\u001b[43mindex\u001b[49m\u001b[43m(\u001b[49m\u001b[38;5;124;43m'\u001b[39;49m\u001b[38;5;124;43mgohan\u001b[39;49m\u001b[38;5;124;43m'\u001b[39;49m\u001b[43m)\u001b[49m\n",
      "\u001b[1;31mValueError\u001b[0m: substring not found"
     ]
    }
   ],
   "source": [
    "#Using index\n",
    "target_string1=\"goku is the strongest character in the dragon ball series\"\n",
    "target_string1.index('gohan') #This is going to raise the Valueerror"
   ]
  },
  {
   "cell_type": "markdown",
   "id": "774a0ddc",
   "metadata": {},
   "source": [
    "# Q9.\n",
    "Which operators and built-in string methods produce simple Boolean (true/false) results?"
   ]
  },
  {
   "cell_type": "markdown",
   "id": "aa101ef1",
   "metadata": {},
   "source": [
    "<b>Answer:</b><br>\n",
    "`in`<br>\n",
    "`not`<br>\n",
    "`<string>.isalpha()`<br>\n",
    "`<string>.isalnum()`<br>\n",
    "`<string>.isdecimal()`<br>\n",
    "`<string>.isdigit()`<br>\n",
    "`<string>.islower()`<br>\n",
    "`<string>.isnumeric()`<br>\n",
    "`<string>.isprintable()`<br>\n",
    "`<string>.isspace()`<br>\n",
    "`<string>.istitle()`<br>\n",
    "`<string>.isidentifier()`<br>\n",
    "`<string>.isupper()`<br>"
   ]
  },
  {
   "cell_type": "code",
   "execution_count": 40,
   "id": "fae2e84e",
   "metadata": {},
   "outputs": [],
   "source": [
    "#Examples\n",
    "data = \"Roronoa Zoro\"\n",
    "\n"
   ]
  },
  {
   "cell_type": "code",
   "execution_count": 42,
   "id": "e0a4776f",
   "metadata": {},
   "outputs": [
    {
     "data": {
      "text/plain": [
       "True"
      ]
     },
     "execution_count": 42,
     "metadata": {},
     "output_type": "execute_result"
    }
   ],
   "source": [
    "'Zoro' in data"
   ]
  },
  {
   "cell_type": "code",
   "execution_count": 43,
   "id": "ba4a388b",
   "metadata": {},
   "outputs": [
    {
     "data": {
      "text/plain": [
       "True"
      ]
     },
     "execution_count": 43,
     "metadata": {},
     "output_type": "execute_result"
    }
   ],
   "source": [
    "'luffy' not in data\n"
   ]
  },
  {
   "cell_type": "code",
   "execution_count": 44,
   "id": "28249b24",
   "metadata": {},
   "outputs": [
    {
     "data": {
      "text/plain": [
       "False"
      ]
     },
     "execution_count": 44,
     "metadata": {},
     "output_type": "execute_result"
    }
   ],
   "source": [
    "data.isalpha()"
   ]
  },
  {
   "cell_type": "code",
   "execution_count": 45,
   "id": "e7643d29",
   "metadata": {},
   "outputs": [
    {
     "data": {
      "text/plain": [
       "False"
      ]
     },
     "execution_count": 45,
     "metadata": {},
     "output_type": "execute_result"
    }
   ],
   "source": [
    "data.isalnum()"
   ]
  },
  {
   "cell_type": "code",
   "execution_count": 46,
   "id": "3a3614d9",
   "metadata": {},
   "outputs": [
    {
     "data": {
      "text/plain": [
       "False"
      ]
     },
     "execution_count": 46,
     "metadata": {},
     "output_type": "execute_result"
    }
   ],
   "source": [
    "data.isdecimal()"
   ]
  },
  {
   "cell_type": "code",
   "execution_count": 47,
   "id": "33551bbc",
   "metadata": {},
   "outputs": [
    {
     "data": {
      "text/plain": [
       "False"
      ]
     },
     "execution_count": 47,
     "metadata": {},
     "output_type": "execute_result"
    }
   ],
   "source": [
    "data.isdigit()"
   ]
  },
  {
   "cell_type": "code",
   "execution_count": 48,
   "id": "2a9de896",
   "metadata": {},
   "outputs": [
    {
     "data": {
      "text/plain": [
       "False"
      ]
     },
     "execution_count": 48,
     "metadata": {},
     "output_type": "execute_result"
    }
   ],
   "source": [
    "data.isidentifier()"
   ]
  },
  {
   "cell_type": "code",
   "execution_count": 49,
   "id": "dd98bd6e",
   "metadata": {},
   "outputs": [
    {
     "data": {
      "text/plain": [
       "False"
      ]
     },
     "execution_count": 49,
     "metadata": {},
     "output_type": "execute_result"
    }
   ],
   "source": [
    "data.islower()"
   ]
  },
  {
   "cell_type": "code",
   "execution_count": 50,
   "id": "3ac92809",
   "metadata": {},
   "outputs": [
    {
     "data": {
      "text/plain": [
       "False"
      ]
     },
     "execution_count": 50,
     "metadata": {},
     "output_type": "execute_result"
    }
   ],
   "source": [
    "data.isnumeric()"
   ]
  },
  {
   "cell_type": "code",
   "execution_count": 51,
   "id": "0b39984c",
   "metadata": {},
   "outputs": [
    {
     "data": {
      "text/plain": [
       "True"
      ]
     },
     "execution_count": 51,
     "metadata": {},
     "output_type": "execute_result"
    }
   ],
   "source": [
    "data.isprintable()"
   ]
  },
  {
   "cell_type": "code",
   "execution_count": 52,
   "id": "5047a281",
   "metadata": {},
   "outputs": [
    {
     "data": {
      "text/plain": [
       "False"
      ]
     },
     "execution_count": 52,
     "metadata": {},
     "output_type": "execute_result"
    }
   ],
   "source": [
    "data.isspace()"
   ]
  },
  {
   "cell_type": "code",
   "execution_count": 53,
   "id": "014e50d4",
   "metadata": {},
   "outputs": [
    {
     "data": {
      "text/plain": [
       "True"
      ]
     },
     "execution_count": 53,
     "metadata": {},
     "output_type": "execute_result"
    }
   ],
   "source": [
    "data.istitle()"
   ]
  },
  {
   "cell_type": "code",
   "execution_count": 54,
   "id": "833aee35",
   "metadata": {},
   "outputs": [
    {
     "data": {
      "text/plain": [
       "False"
      ]
     },
     "execution_count": 54,
     "metadata": {},
     "output_type": "execute_result"
    }
   ],
   "source": [
    "data.isupper()"
   ]
  }
 ],
 "metadata": {
  "kernelspec": {
   "display_name": "Python 3 (ipykernel)",
   "language": "python",
   "name": "python3"
  },
  "language_info": {
   "codemirror_mode": {
    "name": "ipython",
    "version": 3
   },
   "file_extension": ".py",
   "mimetype": "text/x-python",
   "name": "python",
   "nbconvert_exporter": "python",
   "pygments_lexer": "ipython3",
   "version": "3.9.12"
  }
 },
 "nbformat": 4,
 "nbformat_minor": 5
}
