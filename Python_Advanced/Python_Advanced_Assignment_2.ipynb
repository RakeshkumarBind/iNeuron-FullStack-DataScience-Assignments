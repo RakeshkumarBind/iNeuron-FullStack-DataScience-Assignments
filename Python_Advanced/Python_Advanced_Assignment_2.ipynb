{
 "cells": [
  {
   "cell_type": "markdown",
   "id": "00269dea",
   "metadata": {},
   "source": [
    "# Q1.\n",
    "What is the relationship between classes and modules?"
   ]
  },
  {
   "cell_type": "markdown",
   "id": "85116add",
   "metadata": {},
   "source": [
    "<b>Answer:</b><br>A Python class is like an outline/blueprint/mold for creating a new object. An object is anything that you wish to manipulate or change while working through the code. Every time a class object is instantiated, which is when we declare a variable, a new object is initiated from scratch<br>\n",
    "<br>\n",
    "Whereas in Python, Modules are simply files with the . py extension containing Python code that can be imported inside another Python Program. In simple terms, we can consider a module to be the same as a code library or a file that contains a set of functions/Classes that you want to include in your application.<br>"
   ]
  },
  {
   "cell_type": "markdown",
   "id": "9580adb9",
   "metadata": {},
   "source": [
    "# Q2. \n",
    "How do you make instances and classes?"
   ]
  },
  {
   "cell_type": "markdown",
   "id": "42c432ec",
   "metadata": {},
   "source": [
    " <b>Answer:</b><br>For creating a class instance. we call a class by its name and pass the arguments which its __init__ method accepts.<br>\n",
    "\n",
    "Example: Rakesh = employee('Male',50000), Here Rakesh is an instance of class employee with attriubutes 'Male' and 50000.<br>\n"
   ]
  },
  {
   "cell_type": "markdown",
   "id": "9ed401f1",
   "metadata": {},
   "source": [
    "Whereas for creating a class, we use the class keyword. class keyword is followed by classname and semicolon.<br>\n",
    "Example: Here Employee is a class created with class keyword with arguments gender and salary.<br>\n",
    "\n",
    "class Employee:<br>\n",
    "def __init__(self, gender,salary):<br>\n",
    "self.gender = gender <br>\n",
    "self.salary = salary<br>"
   ]
  },
  {
   "cell_type": "markdown",
   "id": "ca298fe3",
   "metadata": {},
   "source": [
    "# Q3.\n",
    "Where and how should be class attributes created?"
   ]
  },
  {
   "cell_type": "markdown",
   "id": "13b449bb",
   "metadata": {},
   "source": [
    " <b>Answer:</b><br>Class attributes or Class level Attributes belong to the class itself. these attributes will be shared by all the instances of the class. Hence these attributes are usually created/defined in the top of class definiation outside all methods.<br>\n",
    "\n",
    "<b>Example:</b> In the below code we are defining a class attribute called no_of_wheels which will be shared by all the instances of the class Car<br>\n",
    "\n",
    "class Car: <br>\n",
    "no_of_wheels = 4; # this is a class attribute<br>\n",
    "def __init__(self,color,price,engine):<br> \n",
    "self.color = color # All this are instance attributes <br>\n",
    "self.price = price self.engine = engine<br>"
   ]
  },
  {
   "cell_type": "markdown",
   "id": "2c273783",
   "metadata": {},
   "source": [
    "# Q4. \n",
    "Where and how are instance attributes created?"
   ]
  },
  {
   "cell_type": "markdown",
   "id": "8dc2796f",
   "metadata": {},
   "source": [
    "<b>Answer:</b><br>Instances attributes are passed to the class when an object of the class is created. Unlike class attributes, instance attributes are not shared by all objects of the classs. instead each object maintains its own copy of instance attributes at object level. whereas incase of class attributes all instances of class refer to a single copy. Usually instance attributes are defined within the __init__ method of class<br>\n",
    "\n",
    "Example: In the below sample code we are creating a class Car with instance varaibles color, price, engine, which will be provided when an instance of class Car is created.<br>\n",
    "\n",
    "class Car:<br>\n",
    "def __init__(self,color,price,engine):<br>\n",
    "self.color = color # All this are instance attributes<br>\n",
    "self.price = price<br>\n",
    "self.engine = engine<br>\n",
    "\n",
    "mahindera_thar = Car('Blue', 1400000, 'electric')<br>\n",
    "tata_fortuner = Car('White',2100000, 'petrol')<br>\n",
    "\n",
    "mahindra_thar and tata_fortyuner are both the instances of class Car with different instance variables."
   ]
  },
  {
   "cell_type": "markdown",
   "id": "2d987170",
   "metadata": {},
   "source": [
    "# Q5.\n",
    "What does the term &quot;self&quot; in a Python class mean?"
   ]
  },
  {
   "cell_type": "markdown",
   "id": "42b05a92",
   "metadata": {},
   "source": [
    "<b>Answer:</b><br>self represents the instance of the class (it represents the object itself). By using the “self” keyword we can access the attributes and methods of the class with in the class in python. It binds the attributes with the given arguments.<br>\n",
    "\n",
    "In simle words it points the data/attributes to the particular class."
   ]
  },
  {
   "cell_type": "code",
   "execution_count": 8,
   "id": "b4596d91",
   "metadata": {},
   "outputs": [
    {
     "name": "stdout",
     "output_type": "stream",
     "text": [
      "{'color': 'Black', 'price': 1400000, 'engine': 'electric'}\n",
      "{'color': 'White', 'price': 2100000, 'engine': 'petrol'}\n"
     ]
    }
   ],
   "source": [
    "class Car:\n",
    "    def __init__(self,color,price,engine):\n",
    "        self.color = color # All this are instance attributes\n",
    "        self.price = price\n",
    "        self.engine = engine\n",
    "\n",
    "thar = Car('Black', 1400000, 'electric')\n",
    "fortuner = Car('White',2100000, 'petrol')\n",
    "\n",
    "print(thar.__dict__)\n",
    "print(fortuner.__dict__)"
   ]
  },
  {
   "cell_type": "markdown",
   "id": "f3055b97",
   "metadata": {},
   "source": [
    "# Q6.\n",
    "How does a Python class handle operator overloading?"
   ]
  },
  {
   "cell_type": "markdown",
   "id": "6be9b1a6",
   "metadata": {},
   "source": [
    "<b>Answer:</b><br> Python Classes handle operator overloading by using special methods called Magic methods. these special methods usually begin and end with __ (double underscore)<br>\n",
    "\n",
    "Example: Magic methods for basic arithmetic operators are:<br>\n",
    "\n",
    "'+'-> __add__()<br>\n",
    "'-' -> __sub__()<br>\n",
    "'*' -> __mul__()<br>\n",
    "'/' -> __div__()<br>"
   ]
  },
  {
   "cell_type": "code",
   "execution_count": 9,
   "id": "c4695dfe",
   "metadata": {},
   "outputs": [
    {
     "name": "stdout",
     "output_type": "stream",
     "text": [
      "The total number of pages in 2 books is 450\n"
     ]
    }
   ],
   "source": [
    "class Book:\n",
    "    def __init__(self,pages):\n",
    "        self.pages = pages\n",
    "    def __add__(self,other):\n",
    "        return self.pages + other.pages\n",
    "b1 = Book(300)\n",
    "b2 = Book(150)\n",
    "print(f'The total number of pages in 2 books is {b1+b2}')"
   ]
  },
  {
   "cell_type": "markdown",
   "id": "a295c08b",
   "metadata": {},
   "source": [
    "# Q7.\n",
    "When do you consider allowing operator overloading of your classes?"
   ]
  },
  {
   "cell_type": "markdown",
   "id": "6a82fc75",
   "metadata": {},
   "source": [
    "<b>Answer:</b><br>We consider allowing operator overloading when we want to have different meaning for the same operator. For example operator + is used to add two integers as well as join two strings and merge two lists. It is achievable because ‘+’ operator is overloaded by int class and str class."
   ]
  },
  {
   "cell_type": "code",
   "execution_count": 11,
   "id": "fb9b8af2",
   "metadata": {},
   "outputs": [
    {
     "name": "stdout",
     "output_type": "stream",
     "text": [
      "3\n",
      "RakeshKumarBind\n",
      "32\n",
      "Prabhuram Prabhuram Prabhuram Prabhuram \n"
     ]
    }
   ],
   "source": [
    "# Python program to show use of\n",
    "# + operator for different purposes.\n",
    " \n",
    "print(1 + 2)\n",
    " \n",
    "# concatenate two strings\n",
    "print(\"RakeshKumar\"+\"Bind\")\n",
    " \n",
    "# Product two numbers\n",
    "print(8 * 4)\n",
    " \n",
    "# Repeat the String\n",
    "print(\"Prabhuram \"*4)"
   ]
  },
  {
   "cell_type": "markdown",
   "id": "ec2d7524",
   "metadata": {},
   "source": [
    "# Q8.\n",
    "What is the most popular form of operator overloading?"
   ]
  },
  {
   "cell_type": "markdown",
   "id": "906d70e9",
   "metadata": {},
   "source": [
    "<b>Answer:</b><br>The most popular form of operator overloading in python is by special methods called Magic methods. Which usually beign and end with double underscore `__<method name>__.`"
   ]
  },
  {
   "cell_type": "code",
   "execution_count": 13,
   "id": "a6537c64",
   "metadata": {},
   "outputs": [
    {
     "name": "stdout",
     "output_type": "stream",
     "text": [
      "Sum -> 370\n",
      "String Concatenation -> Rakeshkumar Bind\n"
     ]
    }
   ],
   "source": [
    "class A:\n",
    "    def __init__(self,a):\n",
    "        self.a = a\n",
    "    def __add__(self,o):\n",
    "        return self.a+o.a\n",
    "obj1 = A(125)\n",
    "obj2 = A(245)\n",
    "obj3 = A('Rakeshkumar')\n",
    "obj4 = A(' Bind')\n",
    "print(f'Sum -> {obj1+obj2}')\n",
    "print(f'String Concatenation -> {obj3+obj4}')"
   ]
  },
  {
   "cell_type": "markdown",
   "id": "69bbb09a",
   "metadata": {},
   "source": [
    "# Q9.\n",
    "What are the two most important concepts to grasp in order to comprehend Python OOP code"
   ]
  },
  {
   "cell_type": "markdown",
   "id": "20e7c69d",
   "metadata": {},
   "source": [
    "<b>Answer:</b><br>`Classes` and `objects` are the two concepts to comprehend python OOP code as more formally objects are entities that represent instances of general abstract concept called class.<br>\n",
    "\n",
    "Along with classes and objects the important concepts to grasp are:<br>\n",
    "\n",
    "1.`Inheritence`<br>\n",
    "2.`Abstraction`<br>\n",
    "3.`Polymorphism`<br>\n",
    "4.`Encapsulation`<br>"
   ]
  },
  {
   "cell_type": "code",
   "execution_count": null,
   "id": "3c851423",
   "metadata": {},
   "outputs": [],
   "source": []
  }
 ],
 "metadata": {
  "kernelspec": {
   "display_name": "Python 3 (ipykernel)",
   "language": "python",
   "name": "python3"
  },
  "language_info": {
   "codemirror_mode": {
    "name": "ipython",
    "version": 3
   },
   "file_extension": ".py",
   "mimetype": "text/x-python",
   "name": "python",
   "nbconvert_exporter": "python",
   "pygments_lexer": "ipython3",
   "version": "3.9.12"
  }
 },
 "nbformat": 4,
 "nbformat_minor": 5
}
