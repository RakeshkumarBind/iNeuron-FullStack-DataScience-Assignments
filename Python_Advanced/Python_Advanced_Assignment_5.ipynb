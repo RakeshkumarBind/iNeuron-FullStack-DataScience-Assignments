{
 "cells": [
  {
   "cell_type": "markdown",
   "id": "c917016b",
   "metadata": {},
   "source": [
    "# Q1.\n",
    "What is the meaning of multiple inheritance?"
   ]
  },
  {
   "cell_type": "markdown",
   "id": "724b6bc7",
   "metadata": {},
   "source": [
    "<b>Answer:</b><br>\n",
    " Inheritence is nothing but reusing the code of Parent class by the child class. Similary when a child class inherits its properties from multiple Parent classes this scenario is called Multiple Inheritence. Multiple inheritance is a feature of some object-oriented computer programming languages in which an object or class can inherit features from more than one parent object or parent class. It is distinct from single inheritance, where an object or class may only inherit from one particular object or class."
   ]
  },
  {
   "cell_type": "code",
   "execution_count": 6,
   "id": "f18911e0",
   "metadata": {},
   "outputs": [],
   "source": [
    "class Parent_1:\n",
    "    pass\n",
    "class Parent_2:\n",
    "    pass\n",
    "class child(Parent_1,Parent_2):\n",
    "    pass"
   ]
  },
  {
   "cell_type": "markdown",
   "id": "7f557cf0",
   "metadata": {},
   "source": [
    "# Q2. \n",
    "What is the concept of delegation?"
   ]
  },
  {
   "cell_type": "markdown",
   "id": "0d95fec7",
   "metadata": {},
   "source": [
    "<b>Answer:</b><br>\n",
    "Delegation is a design pattern and programming concept where an object forwards or delegates some of its responsibilities or behaviors to another object. Delegation allows you to compose objects and reuse functionality in a flexible and modular way, promoting code reuse and maintainability.<br>\n",
    "<br>\n",
    "Delegation is often used in Python through composition rather than inheritance. Instead of inheriting from a class to reuse its behavior, you create instances of other classes within your class and delegate specific tasks or method calls to those instances.<br>"
   ]
  },
  {
   "cell_type": "code",
   "execution_count": 7,
   "id": "4f5d66bc",
   "metadata": {},
   "outputs": [
    {
     "name": "stdout",
     "output_type": "stream",
     "text": [
      "Car started\n",
      "Engine started\n"
     ]
    }
   ],
   "source": [
    "class Engine:\n",
    "    def start(self):\n",
    "        print(\"Engine started\")\n",
    "\n",
    "class Car:\n",
    "    def __init__(self):\n",
    "        self.engine = Engine()  # Create an Engine instance\n",
    "\n",
    "    def start(self):\n",
    "        print(\"Car started\")\n",
    "        self.engine.start()  # Delegate starting the engine to the Engine instance\n",
    "\n",
    "# Create a Car object\n",
    "my_car = Car()\n",
    "\n",
    "# Start the car, which delegates starting the engine\n",
    "my_car.start()\n"
   ]
  },
  {
   "cell_type": "markdown",
   "id": "aab35ee2",
   "metadata": {},
   "source": [
    "# Q3.\n",
    "What is the concept of composition?"
   ]
  },
  {
   "cell_type": "markdown",
   "id": "ea561694",
   "metadata": {},
   "source": [
    "<b>Answer:</b><br>\n",
    "In the concept of Composition, a class refers to one or more other classes by using instances of those classes as a instance variable. irrespective of inheritence in this approach all the parent class members are not inherited into child class, but only required methods from a class are used by using class instances."
   ]
  },
  {
   "cell_type": "code",
   "execution_count": 8,
   "id": "91b85a00",
   "metadata": {},
   "outputs": [
    {
     "name": "stdout",
     "output_type": "stream",
     "text": [
      "Total Salary : 960000\n"
     ]
    }
   ],
   "source": [
    "class Salary:\n",
    "    def __init__(self,pay):\n",
    "        self.pay = pay\n",
    "    def get_total(self):\n",
    "        return self.pay*12\n",
    "    \n",
    "class Employee:\n",
    "    def __init__(self,pay,bonus):\n",
    "        self.pay = pay\n",
    "        self.bonus = bonus\n",
    "        self.obj_salary = Salary(self.pay)\n",
    "    def annual_salary(self):\n",
    "        return f'Total Salary : {str(self.obj_salary.get_total())}'\n",
    "\n",
    "obj_emp = Employee(80000,1000)\n",
    "print(obj_emp.annual_salary())"
   ]
  },
  {
   "cell_type": "markdown",
   "id": "695c7642",
   "metadata": {},
   "source": [
    "# Q4.\n",
    "What are bound methods and how do we use them?"
   ]
  },
  {
   "cell_type": "markdown",
   "id": "f30dab76",
   "metadata": {},
   "source": [
    "<b>Answer:</b><br>\n",
    " If a function is an attribute of class and it is accessed via the instances, they are called bound methods. A bound method is one that has self as its first argument. Since these are dependent on the instance of classes, these are also known as instance methods."
   ]
  },
  {
   "cell_type": "code",
   "execution_count": 9,
   "id": "a85c6d39",
   "metadata": {},
   "outputs": [
    {
     "name": "stdout",
     "output_type": "stream",
     "text": [
      "Called method_one\n",
      "Called method_two\n",
      "Called method_two\n",
      "Called method_three\n"
     ]
    }
   ],
   "source": [
    "class Test:\n",
    "    def method_one(self): # bound method\n",
    "        print(\"Called method_one\")\n",
    "    @classmethod\n",
    "    def method_two(cls): # unbound method\n",
    "        print(\"Called method_two\")\n",
    "    @staticmethod\n",
    "    def method_three(): # static method\n",
    "        print(\"Called method_three\")\n",
    "\n",
    "test = Test()\n",
    "test.method_one() # accessing through instance object\n",
    "test.method_two() # accessing through instance object\n",
    "Test.method_two() # accessing directly through class\n",
    "Test.method_three() # accessing directly through class"
   ]
  },
  {
   "cell_type": "markdown",
   "id": "c2d90a3c",
   "metadata": {},
   "source": [
    "# Q5.\n",
    "What is the purpose of pseudoprivate attributes?"
   ]
  },
  {
   "cell_type": "markdown",
   "id": "cd5afb0c",
   "metadata": {},
   "source": [
    "<b>Answer:</b><br>\n",
    "In Python, there is no strict concept of \"private\" attributes or methods in the same way that some other programming languages have. However, Python provides a convention for making attributes or methods less accessible from outside the class by prefixing their names with a double underscore __ (underscore underscore). This is often referred to as \"name mangling.\" These attributes are sometimes informally called \"pseudoprivate\" or \"name-mangled\" attributes.<br>\n",
    "<br>\n",
    "The purpose of this name mangling is not to enforce strict privacy but to minimize accidental name clashes between attributes in a subclass and attributes in a superclass. It's a way to indicate that an attribute is intended for internal use within the class and its subclasses.<br>"
   ]
  },
  {
   "cell_type": "code",
   "execution_count": 10,
   "id": "1cec63e0",
   "metadata": {},
   "outputs": [
    {
     "name": "stdout",
     "output_type": "stream",
     "text": [
      "This is a public method.\n"
     ]
    },
    {
     "ename": "AttributeError",
     "evalue": "'MyClass' object has no attribute '__private_var'",
     "output_type": "error",
     "traceback": [
      "\u001b[1;31m---------------------------------------------------------------------------\u001b[0m",
      "\u001b[1;31mAttributeError\u001b[0m                            Traceback (most recent call last)",
      "Input \u001b[1;32mIn [10]\u001b[0m, in \u001b[0;36m<cell line: 18>\u001b[1;34m()\u001b[0m\n\u001b[0;32m     15\u001b[0m obj\u001b[38;5;241m.\u001b[39mpublic_method()  \u001b[38;5;66;03m# This works fine\u001b[39;00m\n\u001b[0;32m     17\u001b[0m \u001b[38;5;66;03m# Attempting to access pseudoprivate attribute \u001b[39;00m\n\u001b[1;32m---> 18\u001b[0m \u001b[38;5;28mprint\u001b[39m(\u001b[43mobj\u001b[49m\u001b[38;5;241;43m.\u001b[39;49m\u001b[43m__private_var\u001b[49m)  \u001b[38;5;66;03m# This is not recommended\u001b[39;00m\n\u001b[0;32m     20\u001b[0m \u001b[38;5;66;03m# Accessing pseudoprivate method (name-mangled).\u001b[39;00m\n\u001b[0;32m     21\u001b[0m obj\u001b[38;5;241m.\u001b[39m__private_method()\n",
      "\u001b[1;31mAttributeError\u001b[0m: 'MyClass' object has no attribute '__private_var'"
     ]
    }
   ],
   "source": [
    "class MyClass:\n",
    "    def __init__(self):\n",
    "        self.__private_var = 42\n",
    "\n",
    "    def public_method(self):\n",
    "        print(\"This is a public method.\")\n",
    "\n",
    "    def __private_method(self):\n",
    "        print(\"This is a pseudoprivate method.\")\n",
    "\n",
    "# Creating an instance of MyClass\n",
    "obj = MyClass()\n",
    "\n",
    "# Accessing public attributes and methods\n",
    "obj.public_method()  # This works fine\n",
    "\n",
    "# Attempting to access pseudoprivate attribute \n",
    "print(obj.__private_var)  # This is not recommended\n",
    "\n",
    "# Accessing pseudoprivate method (name-mangled).\n",
    "obj.__private_method()  # This is not recommended\n"
   ]
  },
  {
   "cell_type": "markdown",
   "id": "e9909480",
   "metadata": {},
   "source": [
    "when you attempt to access the pseudoprivate attribute __private_var or call the pseudoprivate method __private_method from outside the class, Python raises an AttributeError, indicating that these attributes and methods are not accessible directly. This is the expected behavior, and it demonstrates the use of name mangling to make pseudoprivate members less accessible from outside the class."
   ]
  },
  {
   "cell_type": "code",
   "execution_count": null,
   "id": "19681b0c",
   "metadata": {},
   "outputs": [],
   "source": []
  }
 ],
 "metadata": {
  "kernelspec": {
   "display_name": "Python 3 (ipykernel)",
   "language": "python",
   "name": "python3"
  },
  "language_info": {
   "codemirror_mode": {
    "name": "ipython",
    "version": 3
   },
   "file_extension": ".py",
   "mimetype": "text/x-python",
   "name": "python",
   "nbconvert_exporter": "python",
   "pygments_lexer": "ipython3",
   "version": "3.9.12"
  }
 },
 "nbformat": 4,
 "nbformat_minor": 5
}
