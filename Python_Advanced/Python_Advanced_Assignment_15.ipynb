{
 "cells": [
  {
   "cell_type": "markdown",
   "id": "6ac7a4c8",
   "metadata": {},
   "source": [
    "# 1. \n",
    "What are the new features added in Python 3.8 version?"
   ]
  },
  {
   "cell_type": "markdown",
   "id": "4ad553a8",
   "metadata": {},
   "source": [
    "<b>Answer:</b><br>\n",
    "1.`Assignment Expressions (The Walrus Operator)`:The assignment expression operator := allows you to assign a value to a variable as part of an expression. This is useful for assignments within conditional statements and comprehensions.\n",
    "\n",
    "2.`Positional-Only Parameters`:Python 3.8 introduced the ability to define positional-only parameters in function signatures using the / syntax. These parameters can only be passed by position, not by keyword.\n",
    "\n",
    "3.`f-strings Improvements`:f-strings (formatted string literals) gained new capabilities, such as support for the = operator to display both the expression and its value.\n",
    "\n",
    "4.`Syntax Warnings`:Python 3.8 introduced new syntax warnings for cases where the code might be misleading, such as using == to compare singletons like None.\n",
    "\n",
    "5.`Math Functions Enhancements`:The math.prod() function was introduced to compute the product of iterable elements.\n",
    "New mathematical functions like math.dist() and math.isqrt() were added.\n",
    "\n",
    "6.`New Modules`:The zoneinfo module was introduced for working with time zones.\n",
    "The typing module improvements included support for Protocol and Literal types.\n",
    "\n",
    "7.`Performance Improvements`:Python 3.8 included various performance optimizations, making certain operations faster.\n",
    "\n",
    "8.`New Syntax Features`:Python 3.8 introduced the __future__ annotations for forward compatibility, enabling features from future Python versions.\n",
    "\n",
    "9.`Other Enhancements`:Various standard library enhancements and bug fixes.\n",
    "Security improvements and updated libraries."
   ]
  },
  {
   "cell_type": "markdown",
   "id": "08c5347b",
   "metadata": {},
   "source": [
    "# 2.\n",
    "What is monkey patching in Python?"
   ]
  },
  {
   "cell_type": "markdown",
   "id": "43f18647",
   "metadata": {},
   "source": [
    "<b>Answer:</b><br> In Python, the term monkey patch refers to making dynamic (or run-time) modifications to a class or module. In Python, we can actually change the behavior of code at run-time."
   ]
  },
  {
   "cell_type": "code",
   "execution_count": 1,
   "id": "35bfa246",
   "metadata": {},
   "outputs": [
    {
     "name": "stdout",
     "output_type": "stream",
     "text": [
      "monkey_f() is being called\n"
     ]
    }
   ],
   "source": [
    "class A:\n",
    "    def func(self):\n",
    "        print(\"func() is being called\")\n",
    "\n",
    "def monkey_f(self):\n",
    "    print(\"monkey_f() is being called\")\n",
    "\n",
    "A.func = monkey_f\n",
    "some_object = A()\n",
    "some_object.func()"
   ]
  },
  {
   "cell_type": "markdown",
   "id": "c4219959",
   "metadata": {},
   "source": [
    "# 3.\n",
    "What is the difference between a shallow copy and deep copy?"
   ]
  },
  {
   "cell_type": "markdown",
   "id": "53064ec5",
   "metadata": {},
   "source": [
    "<b>Answer:</b><br>Differences between a `Shallow Copy` and `deep copy` are as follows:<br>\n",
    "\n",
    "When an object is copied using `copy()`, it is called shallow copy as changes made in copied object will also make corresponding changes in original object, because both the objects will be referencing same address location.<br>\n",
    "\n",
    "When an object is copied using `deepcopy()`, it is called deep copy as changes made in copied object will not make corresponding changes in original object, because both the objects will not be referencing same address location.<br>"
   ]
  },
  {
   "cell_type": "code",
   "execution_count": 2,
   "id": "c9695d8f",
   "metadata": {},
   "outputs": [
    {
     "name": "stdout",
     "output_type": "stream",
     "text": [
      "Original Elements of each List\n",
      "[1, 2, [3, 4], 5, 6]\n",
      "[1, 2, [3, 4], 5, 6]\n",
      "[1, 2, [3, 4], 5, 6]\n",
      "New Elements of each List\n",
      "[1, 2, [3, 4], 5, 20]\n",
      "[10, 2, [3, 4], 5, 6]\n",
      "[1, 2, [3, 4], 5, 20]\n"
     ]
    }
   ],
   "source": [
    "from copy import deepcopy, copy\n",
    "l_one = [1,2,[3,4],5,6]\n",
    "l_two = deepcopy(l_one)\n",
    "l_three = l_one\n",
    "print(f'Original Elements of each List\\n{l_one}\\n{l_two}\\n{l_three}')\n",
    "l_two[0] = 10\n",
    "l_three[-1] = 20\n",
    "print(f'New Elements of each List\\n{l_one}\\n{l_two}\\n{l_three}')"
   ]
  },
  {
   "cell_type": "markdown",
   "id": "eaee003f",
   "metadata": {},
   "source": [
    "# 4.\n",
    "What is the maximum possible length of an identifier?"
   ]
  },
  {
   "cell_type": "markdown",
   "id": "61adbe76",
   "metadata": {},
   "source": [
    "<b>Answer:</b><br> In Python, the highest possible length of an identifier is 79 characters. Python is a high level programming language. It’s also a complex form and a collector of waste.<br>\n",
    "\n",
    "--Python, particularly when combined with identifiers, is case-sensitive.<br>\n",
    "--When writing or using identifiers in Python, it has a maximum of 79 characters.<br>\n",
    "--Unlikely, Python gives the identifiers unlimited length.<br>\n",
    "--However, the layout of PEP-8 prevents the user from breaking the rules and includes a 79-character limit.<br>"
   ]
  },
  {
   "cell_type": "markdown",
   "id": "709fbc67",
   "metadata": {},
   "source": [
    "# 5.\n",
    "What is generator comprehension?"
   ]
  },
  {
   "cell_type": "markdown",
   "id": "b180bd4a",
   "metadata": {},
   "source": [
    "<b>Answer:</b><br>\n",
    "A generator comprehension is a single-line specification for defining a generator in Python.<br>\n",
    "\n",
    "---It is absolutely essential to learn this syntax in order to write simple and readable code.<br>\n",
    "---Generator comprehension uses round bracket unlike square bracket in list comprehension.<br>\n",
    "---The generator yields one item at a time and generates item only when in demand. Whereas, in a list comprehension, Python ---reserves memory for the whole list. Thus we can say that the generator expressions are memory efficient than the lists.<br>"
   ]
  },
  {
   "cell_type": "code",
   "execution_count": 3,
   "id": "b667dc63",
   "metadata": {},
   "outputs": [
    {
     "name": "stdout",
     "output_type": "stream",
     "text": [
      "[0, 1, 2, 3, 4, 5, 6, 7, 8, 9]\n",
      "<generator object <genexpr> at 0x0000020DC4EBF4A0>\n",
      "0 2 4 6 8 "
     ]
    }
   ],
   "source": [
    "in_list = [x for x in range(10)] # List Comprehension\n",
    "print(in_list)\n",
    "out_gen = (x for x in in_list if x%2 == 0) # Generator Comprehension\n",
    "print(out_gen) # Returns a Generator Object\n",
    "for ele in out_gen:\n",
    "    print(ele, end=\" \")"
   ]
  },
  {
   "cell_type": "code",
   "execution_count": null,
   "id": "4220f76a",
   "metadata": {},
   "outputs": [],
   "source": []
  }
 ],
 "metadata": {
  "kernelspec": {
   "display_name": "Python 3 (ipykernel)",
   "language": "python",
   "name": "python3"
  },
  "language_info": {
   "codemirror_mode": {
    "name": "ipython",
    "version": 3
   },
   "file_extension": ".py",
   "mimetype": "text/x-python",
   "name": "python",
   "nbconvert_exporter": "python",
   "pygments_lexer": "ipython3",
   "version": "3.9.12"
  }
 },
 "nbformat": 4,
 "nbformat_minor": 5
}
