{
 "cells": [
  {
   "cell_type": "markdown",
   "id": "229730ca",
   "metadata": {},
   "source": [
    "# 1.\n",
    "Write a Python Program to find sum of array?"
   ]
  },
  {
   "cell_type": "code",
   "execution_count": 2,
   "id": "dabacc14",
   "metadata": {},
   "outputs": [
    {
     "name": "stdout",
     "output_type": "stream",
     "text": [
      "Enter the Array: 1,2,3,4,5,6\n",
      "The sum of (1, 2, 3, 4, 5, 6) is 21\n"
     ]
    }
   ],
   "source": [
    "def sumOfArray():\n",
    "    in_arr = eval(input(\"Enter the Array: \"))\n",
    "    print(f'The sum of {in_arr} is {sum(in_arr)}')\n",
    "\n",
    "sumOfArray()"
   ]
  },
  {
   "cell_type": "markdown",
   "id": "3a669f12",
   "metadata": {},
   "source": [
    "# 2.\n",
    "Write a Python Program to find largest element in an array?"
   ]
  },
  {
   "cell_type": "code",
   "execution_count": 3,
   "id": "7204792d",
   "metadata": {},
   "outputs": [
    {
     "name": "stdout",
     "output_type": "stream",
     "text": [
      "Enter the Array: 487,45,666,8554\n",
      "The Largest Element in (487, 45, 666, 8554) is 8554\n"
     ]
    }
   ],
   "source": [
    "def largestElement():\n",
    "    in_arr = eval(input(\"Enter the Array: \"))\n",
    "    print(f\"The Largest Element in {in_arr} is {sorted(in_arr, reverse=True)[0]}\")\n",
    "    \n",
    "largestElement()"
   ]
  },
  {
   "cell_type": "markdown",
   "id": "75da0556",
   "metadata": {},
   "source": [
    "# 3.\n",
    "Write a Python Program for array rotation?"
   ]
  },
  {
   "cell_type": "code",
   "execution_count": 4,
   "id": "467981ac",
   "metadata": {},
   "outputs": [
    {
     "name": "stdout",
     "output_type": "stream",
     "text": [
      "Enter the Array: 1,2,4,8,9,6\n",
      "The Reverse of Array (1, 2, 4, 8, 9, 6) is (6, 9, 8, 4, 2, 1)\n"
     ]
    }
   ],
   "source": [
    "def reverseOfArray():\n",
    "    in_arr = eval(input(\"Enter the Array: \"))\n",
    "    print(f\"The Reverse of Array {in_arr} is {in_arr[::-1]}\")\n",
    "    \n",
    "reverseOfArray()"
   ]
  },
  {
   "cell_type": "markdown",
   "id": "b4b81114",
   "metadata": {},
   "source": [
    "# 4.\n",
    "Write a Python Program to Split the array and add the first part to the end?"
   ]
  },
  {
   "cell_type": "code",
   "execution_count": 5,
   "id": "6e105767",
   "metadata": {},
   "outputs": [
    {
     "name": "stdout",
     "output_type": "stream",
     "text": [
      "Enter the Array: 10,15,20,45,26\n",
      "The Sum of First and Last Elements of Array (10, 15, 20, 45, 26) is 36\n"
     ]
    }
   ],
   "source": [
    "def sumOfSplits():\n",
    "    in_arr = eval(input(\"Enter the Array: \"))\n",
    "    print(f\"The Sum of First and Last Elements of Array {in_arr} is {in_arr[0]+in_arr[-1]}\")\n",
    "    \n",
    "sumOfSplits()"
   ]
  },
  {
   "cell_type": "markdown",
   "id": "80cbc392",
   "metadata": {},
   "source": [
    "# 5.\n",
    "Write a Python Program to check if given array is Monotonic?"
   ]
  },
  {
   "cell_type": "code",
   "execution_count": 6,
   "id": "70c82931",
   "metadata": {},
   "outputs": [
    {
     "name": "stdout",
     "output_type": "stream",
     "text": [
      "Enter the Array: 15,30,25,65,45,87\n",
      "Array (15, 30, 25, 65, 45, 87) is Not Monotonic\n",
      "Enter the Array: 15,30,45,60,90\n",
      "Array (15, 30, 45, 60, 90) is Monotonic\n"
     ]
    }
   ],
   "source": [
    "def checkMonotonic():\n",
    "    in_arr = eval(input(\"Enter the Array: \"))\n",
    "    if(all(in_arr[i]<=in_arr[i+1] for i in range(len(in_arr)-1)) or all(in_arr[i]>=in_arr[i+1] for i in range(len(in_arr)-1))):\n",
    "        print(f'Array {in_arr} is Monotonic')\n",
    "    else:\n",
    "        print(f'Array {in_arr} is Not Monotonic')\n",
    "\n",
    "checkMonotonic()\n",
    "checkMonotonic()"
   ]
  }
 ],
 "metadata": {
  "kernelspec": {
   "display_name": "Python 3 (ipykernel)",
   "language": "python",
   "name": "python3"
  },
  "language_info": {
   "codemirror_mode": {
    "name": "ipython",
    "version": 3
   },
   "file_extension": ".py",
   "mimetype": "text/x-python",
   "name": "python",
   "nbconvert_exporter": "python",
   "pygments_lexer": "ipython3",
   "version": "3.9.12"
  }
 },
 "nbformat": 4,
 "nbformat_minor": 5
}
