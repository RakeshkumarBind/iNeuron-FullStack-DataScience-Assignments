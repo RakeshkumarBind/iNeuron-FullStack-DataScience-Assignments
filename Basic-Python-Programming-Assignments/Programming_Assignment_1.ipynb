{
 "cells": [
  {
   "cell_type": "markdown",
   "id": "41fa0445",
   "metadata": {},
   "source": [
    "# 1.\n",
    "Write a Python program to print &quot;Hello Python&quot;?"
   ]
  },
  {
   "cell_type": "code",
   "execution_count": 1,
   "id": "9b56f1aa",
   "metadata": {},
   "outputs": [
    {
     "name": "stdout",
     "output_type": "stream",
     "text": [
      "Hello Python\n"
     ]
    }
   ],
   "source": [
    "print('Hello Python')"
   ]
  },
  {
   "cell_type": "markdown",
   "id": "5ff9e22e",
   "metadata": {},
   "source": [
    "# 2.\n",
    "Write a Python program to do arithmetical operations addition and division.?"
   ]
  },
  {
   "cell_type": "code",
   "execution_count": 9,
   "id": "cf471960",
   "metadata": {},
   "outputs": [
    {
     "name": "stdout",
     "output_type": "stream",
     "text": [
      "Select a Arithmetic Operation:         \n",
      "1.Addition(+)        \n",
      "2.Substraction(-)        \n",
      "3.Multiplication(*)        \n",
      "4.Division(/)        \n",
      "5.Stop(0)\n",
      "\n",
      "Enter a arithmetic operation -> -\n",
      "\n",
      "Enter 1st Number: 45454\n",
      "Enter 2nd Number: 45\n",
      "45454-45=45409\n",
      "\n",
      "Enter a arithmetic operation -> 0\n",
      "Program Stopped successfully\n"
     ]
    }
   ],
   "source": [
    "import operator\n",
    "\n",
    "operations = { \"+\": operator.add, \"-\": operator.sub, \"*\":operator.mul, \"/\":operator.truediv } \n",
    "\n",
    "print('Select a Arithmetic Operation: \\\n",
    "        \\n1.Addition(+)\\\n",
    "        \\n2.Substraction(-)\\\n",
    "        \\n3.Multiplication(*)\\\n",
    "        \\n4.Division(/)\\\n",
    "        \\n5.Stop(0)\\n')\n",
    "   \n",
    "\n",
    "while True:\n",
    "    operator = input('Enter a arithmetic operation -> ')\n",
    "    if operator == '0':\n",
    "        print(\"Program Stopped successfully\")\n",
    "        break\n",
    "    elif operator not in ['+','-','*','/']:\n",
    "        print(\"Please enter a valid operator\")\n",
    "    else:\n",
    "        num_1 = int(input('\\nEnter 1st Number: '))\n",
    "        num_2 = int(input('Enter 2nd Number: '))\n",
    "        print('{}{}{}={}\\n'.format(num_1, operator, num_2, operations[operator](num_1,num_2)))"
   ]
  },
  {
   "cell_type": "markdown",
   "id": "c32770d3",
   "metadata": {},
   "source": [
    "# 3.\n",
    "Write a Python program to find the area of a triangle?"
   ]
  },
  {
   "cell_type": "code",
   "execution_count": 5,
   "id": "f3e154e7",
   "metadata": {},
   "outputs": [
    {
     "name": "stdout",
     "output_type": "stream",
     "text": [
      "Enter height of the triangle: 45\n",
      "Enter base of the triangle: 46\n",
      "\n",
      "Area of triangle is  1035.0\n"
     ]
    }
   ],
   "source": [
    "height = int(input('Enter height of the triangle: '))\n",
    "base = int(input('Enter base of the triangle: '))\n",
    "\n",
    "def AreaOfTriangle(height, base):\n",
    "    print('\\nArea of triangle is ', 0.5*height*base)\n",
    "\n",
    "AreaOfTriangle(height,base)"
   ]
  },
  {
   "cell_type": "markdown",
   "id": "7460659b",
   "metadata": {},
   "source": [
    "# 4.\n",
    "Write a Python program to swap two variables?"
   ]
  },
  {
   "cell_type": "code",
   "execution_count": null,
   "id": "5a185c72",
   "metadata": {},
   "outputs": [],
   "source": [
    "<b>Answer:</b><br>"
   ]
  },
  {
   "cell_type": "code",
   "execution_count": 7,
   "id": "58425046",
   "metadata": {},
   "outputs": [
    {
     "name": "stdout",
     "output_type": "stream",
     "text": [
      "Enter First Number: 454\n",
      "Enter Second Number: 4554\n",
      "Before swapping ----  454 4554\n",
      "After swapping ----  4554 454\n"
     ]
    }
   ],
   "source": [
    "num_1 = int(input(\"Enter First Number: \"))\n",
    "num_2 = int(input(\"Enter Second Number: \"))\n",
    "\n",
    "def swapNumbers(x,y):\n",
    "    temp = x\n",
    "    x = y\n",
    "    y = temp\n",
    "    return x,y\n",
    "\n",
    "print('Before swapping ---- ',num_1, num_2)\n",
    "num_1, num_2 = swapNumbers(num_1, num_2)\n",
    "print('After swapping ---- ',num_1,num_2)\n"
   ]
  },
  {
   "cell_type": "markdown",
   "id": "2c852200",
   "metadata": {},
   "source": [
    "# 5.\n",
    "Write a Python program to generate a random number?"
   ]
  },
  {
   "cell_type": "code",
   "execution_count": 8,
   "id": "8f332cfd",
   "metadata": {},
   "outputs": [
    {
     "name": "stdout",
     "output_type": "stream",
     "text": [
      "Random number ->  8269398\n",
      "Random number ->  77\n"
     ]
    }
   ],
   "source": [
    "from random import randint # The randint() method returns an integer number selected element from the specified range.\n",
    "\n",
    "def generateRandomNumber(start=0, end=10000000):\n",
    "    print('Random number -> ',randint(start,end))\n",
    "\n",
    "# Generating random numbers without arguments    \n",
    "generateRandomNumber()\n",
    "\n",
    "# Generating random numbers with arguments    \n",
    "generateRandomNumber(0,1000)"
   ]
  }
 ],
 "metadata": {
  "kernelspec": {
   "display_name": "Python 3 (ipykernel)",
   "language": "python",
   "name": "python3"
  },
  "language_info": {
   "codemirror_mode": {
    "name": "ipython",
    "version": 3
   },
   "file_extension": ".py",
   "mimetype": "text/x-python",
   "name": "python",
   "nbconvert_exporter": "python",
   "pygments_lexer": "ipython3",
   "version": "3.9.12"
  }
 },
 "nbformat": 4,
 "nbformat_minor": 5
}
