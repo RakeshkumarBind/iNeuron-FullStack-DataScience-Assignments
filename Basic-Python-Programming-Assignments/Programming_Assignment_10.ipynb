{
 "cells": [
  {
   "cell_type": "markdown",
   "id": "78f7266f",
   "metadata": {},
   "source": [
    "# 1.\n",
    "Write a Python program to find sum of elements in list?"
   ]
  },
  {
   "cell_type": "code",
   "execution_count": 2,
   "id": "996671fd",
   "metadata": {},
   "outputs": [
    {
     "name": "stdout",
     "output_type": "stream",
     "text": [
      "Enter the No of Entries in a List: 5\n",
      "Enter a element: 45\n",
      "Enter a element: 4\n",
      "Enter a element: 5\n",
      "Enter a element: 56\n",
      "Enter a element: 5\n",
      "[45, 4, 5, 56, 5]\n",
      "Sum of Elements: 115\n"
     ]
    }
   ],
   "source": [
    "def sumofList():\n",
    "    in_ele = int(input('Enter the No of Entries in a List: '))\n",
    "    in_list = []\n",
    "    for itr in range(in_ele):\n",
    "        in_list.append(int(input('Enter a element: ')))\n",
    "    print(in_list)\n",
    "    print(f'Sum of Elements: {sum(in_list)}')\n",
    "    \n",
    "\n",
    "sumofList()"
   ]
  },
  {
   "cell_type": "markdown",
   "id": "5959ea18",
   "metadata": {},
   "source": [
    "# 2.\n",
    "Write a Python program to Multiply all numbers in the list?"
   ]
  },
  {
   "cell_type": "code",
   "execution_count": 3,
   "id": "f27e8ee3",
   "metadata": {},
   "outputs": [
    {
     "name": "stdout",
     "output_type": "stream",
     "text": [
      "Enter the No of Entries in a List: 4\n",
      "Enter a element: 54\n",
      "Enter a element: 65\n",
      "Enter a element: 6\n",
      "Enter a element: 4\n",
      "list is :  [54, 65, 6, 4]\n",
      "multiplication of all number in the list is : 84240\n"
     ]
    }
   ],
   "source": [
    "def mulofList():\n",
    "    in_ele = int(input('Enter the No of Entries in a List: '))\n",
    "    in_list = []\n",
    "    mul = 1\n",
    "    for itr in range(in_ele):\n",
    "        in_list.append(int(input('Enter a element: ')))\n",
    "    for ele in in_list:\n",
    "        mul = mul * ele\n",
    "    print(\"list is : \" , in_list)\n",
    "    print(\"multiplication of all number in the list is :\" ,mul)\n",
    "\n",
    "mulofList()\n"
   ]
  },
  {
   "cell_type": "markdown",
   "id": "ac4eb304",
   "metadata": {},
   "source": [
    "# 3. \n",
    "Write a Python program to find smallest number in a list?"
   ]
  },
  {
   "cell_type": "code",
   "execution_count": 4,
   "id": "22da051d",
   "metadata": {},
   "outputs": [
    {
     "name": "stdout",
     "output_type": "stream",
     "text": [
      "Enter the No of elements in a list: 5\n",
      "Enter a Element: 4\n",
      "Enter a Element: 5\n",
      "Enter a Element: 6\n",
      "Enter a Element: 7\n",
      "Enter a Element: 8\n",
      "list is  [4, 5, 6, 7, 8]\n",
      "The Smallest Element in [4, 5, 6, 7, 8] is 4\n"
     ]
    }
   ],
   "source": [
    "def smallEleInList():\n",
    "    in_ele = int(input('Enter the No of elements in a list: '))\n",
    "    in_list = []\n",
    "    for ele in range(in_ele):\n",
    "        in_list.append(int(input('Enter a Element: ')))\n",
    "    print(\"list is \", in_list)\n",
    "    print(f'The Smallest Element in {in_list} is {sorted(in_list)[0]}')\n",
    "smallEleInList()"
   ]
  },
  {
   "cell_type": "markdown",
   "id": "b9805801",
   "metadata": {},
   "source": [
    "# 4.\n",
    "Write a Python program to find largest number in a list?"
   ]
  },
  {
   "cell_type": "code",
   "execution_count": 5,
   "id": "c385e9e0",
   "metadata": {},
   "outputs": [
    {
     "name": "stdout",
     "output_type": "stream",
     "text": [
      "Enter the No of elements in a list: 4\n",
      "Enter a Element: 65\n",
      "Enter a Element: 54\n",
      "Enter a Element: 62\n",
      "Enter a Element: 85\n",
      "list is  [65, 54, 62, 85]\n",
      "The Largest Element in [65, 54, 62, 85] is 85\n"
     ]
    }
   ],
   "source": [
    "def largestInList():\n",
    "    in_ele = int(input('Enter the No of elements in a list: '))\n",
    "    in_list = []\n",
    "    for ele in range(in_ele):\n",
    "        in_list.append(int(input('Enter a Element: ')))\n",
    "    print(\"list is \", in_list)\n",
    "    print(f'The Largest Element in {in_list} is {sorted(in_list, reverse=True)[0]}')\n",
    "\n",
    "largestInList()"
   ]
  },
  {
   "cell_type": "markdown",
   "id": "781ecad0",
   "metadata": {},
   "source": [
    "# 5.\n",
    "Write a Python program to find second largest number in a list?"
   ]
  },
  {
   "cell_type": "code",
   "execution_count": 6,
   "id": "d3bc6365",
   "metadata": {},
   "outputs": [
    {
     "name": "stdout",
     "output_type": "stream",
     "text": [
      "Enter the No of elements in a list: 6\n",
      "Enter a Element: 54\n",
      "Enter a Element: 5421\n",
      "Enter a Element: 65\n",
      "Enter a Element: 54\n",
      "Enter a Element: 63\n",
      "Enter a Element: 45\n",
      "list is  [54, 5421, 65, 54, 63, 45]\n",
      "The Second Largest Element in [54, 5421, 65, 54, 63, 45] is 65\n"
     ]
    }
   ],
   "source": [
    "def secondLargestInList():\n",
    "    in_ele = int(input('Enter the No of elements in a list: '))\n",
    "    in_list = []\n",
    "    for ele in range(in_ele):\n",
    "        in_list.append(int(input('Enter a Element: ')))\n",
    "    print(\"list is \", in_list)\n",
    "    print(f'The Second Largest Element in {in_list} is {sorted(in_list, reverse=True)[1]}')\n",
    "\n",
    "secondLargestInList()"
   ]
  },
  {
   "cell_type": "markdown",
   "id": "c78888fc",
   "metadata": {},
   "source": [
    "# 6.\n",
    "Write a Python program to find N largest elements from a list?"
   ]
  },
  {
   "cell_type": "code",
   "execution_count": 8,
   "id": "628b3705",
   "metadata": {},
   "outputs": [
    {
     "name": "stdout",
     "output_type": "stream",
     "text": [
      "Enter the No of elements in a list: 8\n",
      "Enter a Element: 45\n",
      "Enter a Element: 64\n",
      "Enter a Element: 542\n",
      "Enter a Element: 6544\n",
      "Enter a Element: 652\n",
      "Enter a Element: 635\n",
      "Enter a Element: 6522\n",
      "Enter a Element: 546\n",
      "The 6 Largest Element in [45, 64, 542, 6544, 652, 635, 6522, 546] is [6544, 6522, 652, 635, 546, 542]\n"
     ]
    }
   ],
   "source": [
    "def nLargestEleInList(k):\n",
    "    in_ele = int(input('Enter the No of elements in a list: '))\n",
    "    in_list = []\n",
    "    for ele in range(in_ele):\n",
    "        in_list.append(int(input('Enter a Element: ')))\n",
    "    print(f'The {k} Largest Element in {in_list} is {sorted(in_list, reverse=True)[0:k]}')\n",
    "\n",
    "nLargestEleInList(6)"
   ]
  },
  {
   "cell_type": "markdown",
   "id": "b25bc319",
   "metadata": {},
   "source": [
    "# 7.\n",
    "Write a Python program to print even numbers in a list?"
   ]
  },
  {
   "cell_type": "code",
   "execution_count": 9,
   "id": "39025116",
   "metadata": {},
   "outputs": [
    {
     "name": "stdout",
     "output_type": "stream",
     "text": [
      "Enter the No of elements in a list: 9\n",
      "Enter a Element: 566\n",
      "Enter a Element: 654\n",
      "Enter a Element: 26\n",
      "Enter a Element: 32\n",
      "Enter a Element: 63\n",
      "Enter a Element: 53\n",
      "Enter a Element: 2643\n",
      "Enter a Element: 26\n",
      "Enter a Element: 93\n",
      "list is  [566, 654, 26, 32, 63, 53, 2643, 26, 93]\n",
      "The Even Elements in [566, 654, 26, 32, 63, 53, 2643, 26, 93] are [566, 654, 26, 32, 26]\n"
     ]
    }
   ],
   "source": [
    "def evenNoInList():\n",
    "    in_ele = int(input('Enter the No of elements in a list: '))\n",
    "    in_list = []\n",
    "    even_list = []\n",
    "    for ele in range(in_ele):\n",
    "        in_list.append(int(input('Enter a Element: ')))\n",
    "    for ele in in_list:\n",
    "        if ele%2 == 0:\n",
    "            even_list.append(ele)\n",
    "    print(\"list is \", in_list)\n",
    "    print(f'The Even Elements in {in_list} are {even_list}')\n",
    "\n",
    "evenNoInList()"
   ]
  },
  {
   "cell_type": "markdown",
   "id": "861ddfcf",
   "metadata": {},
   "source": [
    "# 8. \n",
    "Write a Python program to print odd numbers in a List?"
   ]
  },
  {
   "cell_type": "code",
   "execution_count": 10,
   "id": "33f9768d",
   "metadata": {},
   "outputs": [
    {
     "name": "stdout",
     "output_type": "stream",
     "text": [
      "Enter the No of elements in a list: 5\n",
      "Enter a Element: 2\n",
      "Enter a Element: 3\n",
      "Enter a Element: 6\n",
      "Enter a Element: 54\n",
      "Enter a Element: 9\n",
      "list is  [2, 3, 6, 54, 9]\n",
      "The Even Elements in [2, 3, 6, 54, 9] are [3, 9]\n"
     ]
    }
   ],
   "source": [
    "def Oddnoinlist():\n",
    "    in_ele = int(input('Enter the No of elements in a list: '))\n",
    "    in_list = []\n",
    "    odd_list = []\n",
    "    for ele in range(in_ele):\n",
    "        in_list.append(int(input('Enter a Element: ')))\n",
    "    for ele in in_list:\n",
    "        if ele%2 != 0:\n",
    "            odd_list.append(ele)\n",
    "    print(\"list is \", in_list)\n",
    "    print(f'The Even Elements in {in_list} are {odd_list}')\n",
    "\n",
    "Oddnoinlist()"
   ]
  },
  {
   "cell_type": "markdown",
   "id": "d4c56aab",
   "metadata": {},
   "source": [
    "# 9.\n",
    "Write a Python program to Remove empty List from List?"
   ]
  },
  {
   "cell_type": "code",
   "execution_count": 13,
   "id": "523ec1d1",
   "metadata": {},
   "outputs": [
    {
     "name": "stdout",
     "output_type": "stream",
     "text": [
      "Enter all elements of the list: [ 1,2,3,5,6,6,[],21 ]\n",
      "There is an Empty list in [1, 2, 3, 5, 6, 6, [], 21] at Position 6\n",
      "The List after removing [] is [1, 2, 3, 5, 6, 6, 21]\n"
     ]
    }
   ],
   "source": [
    "def checkEmptyList():\n",
    "    in_list = eval(input('Enter all elements of the list: '))\n",
    "    if [] in in_list:\n",
    "        print(f'There is an Empty list in {in_list} at Position {in_list.index([])}')\n",
    "        in_list.remove([])\n",
    "        print(f'The List after removing [] is {in_list}')\n",
    "    else:\n",
    "        print(f'There is no [] List in the list {in_list}')\n",
    "        \n",
    "checkEmptyList()"
   ]
  },
  {
   "cell_type": "markdown",
   "id": "2c8651f7",
   "metadata": {},
   "source": [
    "# 10.\n",
    "Write a Python program to Cloning or Copying a list?"
   ]
  },
  {
   "cell_type": "code",
   "execution_count": 14,
   "id": "9c08315c",
   "metadata": {},
   "outputs": [
    {
     "name": "stdout",
     "output_type": "stream",
     "text": [
      "Enter a list[ 12,21,23,2,65]\n",
      "[12, 21, 23, 2, 65] 1959970391360\n",
      "[12, 21, 23, 2, 65] 1959998536128\n"
     ]
    }
   ],
   "source": [
    "import copy\n",
    "\n",
    "def cloneList():\n",
    "    in_list = eval(input('Enter a list'))\n",
    "    print(in_list, id(in_list))\n",
    "    cloned_list = in_list.copy()\n",
    "    print(cloned_list, id(cloned_list))\n",
    "\n",
    "cloneList()"
   ]
  },
  {
   "cell_type": "markdown",
   "id": "0e42c78c",
   "metadata": {},
   "source": [
    "# 11.\n",
    "Write a Python program to Count occurrences of an element in a list?"
   ]
  },
  {
   "cell_type": "code",
   "execution_count": 16,
   "id": "a1b79195",
   "metadata": {},
   "outputs": [
    {
     "name": "stdout",
     "output_type": "stream",
     "text": [
      "Enter the elements of the list: [2,3,2,3,1,23,2,12]\n",
      "Enter the element to find: 2\n",
      "There are 3 occurences of 2 in [2, 3, 2, 3, 1, 23, 2, 12]\n"
     ]
    }
   ],
   "source": [
    "def checkOccurence():\n",
    "    in_list = eval(input('Enter the elements of the list: '))\n",
    "    in_num = eval(input('Enter the element to find: '))\n",
    "    count = 0\n",
    "    if in_num in in_list:\n",
    "        for ele in in_list:\n",
    "            if ele == in_num:\n",
    "                count = count+1\n",
    "    print(f'There are {count} occurences of {in_num} in {in_list}')\n",
    "    \n",
    "checkOccurence()"
   ]
  }
 ],
 "metadata": {
  "kernelspec": {
   "display_name": "Python 3 (ipykernel)",
   "language": "python",
   "name": "python3"
  },
  "language_info": {
   "codemirror_mode": {
    "name": "ipython",
    "version": 3
   },
   "file_extension": ".py",
   "mimetype": "text/x-python",
   "name": "python",
   "nbconvert_exporter": "python",
   "pygments_lexer": "ipython3",
   "version": "3.9.12"
  }
 },
 "nbformat": 4,
 "nbformat_minor": 5
}
