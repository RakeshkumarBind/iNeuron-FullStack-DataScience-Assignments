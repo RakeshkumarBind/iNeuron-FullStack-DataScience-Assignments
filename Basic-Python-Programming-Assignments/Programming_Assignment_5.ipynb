{
 "cells": [
  {
   "cell_type": "markdown",
   "id": "d080d82f",
   "metadata": {},
   "source": [
    "# 1.\n",
    "Write a Python Program to Find LCM?"
   ]
  },
  {
   "cell_type": "code",
   "execution_count": 1,
   "id": "2097479f",
   "metadata": {},
   "outputs": [
    {
     "name": "stdout",
     "output_type": "stream",
     "text": [
      "The LCM of 30,36 is 180\n",
      "The LCM of 8,30 is 120\n",
      "The LCM of 28,54 is 756\n"
     ]
    }
   ],
   "source": [
    "def findTheLcm(x_term,y_term):\n",
    "    if x_term > y_term:\n",
    "        greater = x_term\n",
    "    else:\n",
    "        greater = x_term\n",
    "    while True:\n",
    "        if((greater%x_term == 0) and (greater%y_term == 0)):\n",
    "            lcm = greater\n",
    "            break\n",
    "        else:\n",
    "            greater +=1\n",
    "    print(f'The LCM of {x_term},{y_term} is {lcm}')\n",
    "\n",
    "findTheLcm(30,36)\n",
    "findTheLcm(8,30)\n",
    "findTheLcm(28,54)"
   ]
  },
  {
   "cell_type": "markdown",
   "id": "1372ddcf",
   "metadata": {},
   "source": [
    "# 2.\n",
    "Write a Python Program to Find HCF?"
   ]
  },
  {
   "cell_type": "code",
   "execution_count": 2,
   "id": "b3167842",
   "metadata": {},
   "outputs": [
    {
     "name": "stdout",
     "output_type": "stream",
     "text": [
      "The HCF of 30,66 is 6\n",
      "The HCF of 20,45 is 5\n",
      "The HCF of 87,4 is 1\n"
     ]
    }
   ],
   "source": [
    "def findTheHcf(x_term,y_term):\n",
    "    if x_term>y_term:\n",
    "        smaller = y_term\n",
    "    else:\n",
    "        smaller = x_term\n",
    "    for ele in range(1,smaller+1):\n",
    "        if((x_term%ele == 0) and (y_term%ele == 0)):\n",
    "            hcf = ele\n",
    "    print(f'The HCF of {x_term},{y_term} is {hcf}')\n",
    "\n",
    "findTheHcf(30,66)\n",
    "findTheHcf(20,45)\n",
    "findTheHcf(87,4)"
   ]
  },
  {
   "cell_type": "markdown",
   "id": "7099d726",
   "metadata": {},
   "source": [
    "# 3.\n",
    "Write a Python Program to Convert Decimal to Binary, Octal and Hexadecimal?"
   ]
  },
  {
   "cell_type": "code",
   "execution_count": 3,
   "id": "92d35e88",
   "metadata": {},
   "outputs": [
    {
     "name": "stdout",
     "output_type": "stream",
     "text": [
      "Enter a decimal number: 451.45\n",
      "Decimal: 451.45\n",
      "Binary: 111000011\n",
      "Octal: 0o703\n",
      "Hexadecimal: 0x1c3\n"
     ]
    }
   ],
   "source": [
    "decimal_num = float(input(\"Enter a decimal number: \"))\n",
    "\n",
    "binary_num = bin(int(decimal_num))\n",
    "octal_num = oct(int(decimal_num))\n",
    "hexadecimal_num = hex(int(decimal_num))\n",
    "\n",
    "binary_num = binary_num[2:]\n",
    "\n",
    "print(f\"Decimal: {decimal_num}\")\n",
    "print(f\"Binary: {binary_num}\")\n",
    "print(f\"Octal: {octal_num}\")\n",
    "print(f\"Hexadecimal: {hexadecimal_num}\")"
   ]
  },
  {
   "cell_type": "markdown",
   "id": "5cdcec73",
   "metadata": {},
   "source": [
    "# 4.\n",
    "Write a Python Program To Find ASCII value of a character?"
   ]
  },
  {
   "cell_type": "code",
   "execution_count": 4,
   "id": "f7e4856e",
   "metadata": {},
   "outputs": [
    {
     "name": "stdout",
     "output_type": "stream",
     "text": [
      "Enter a Character: @\n",
      "Ascii Character of @ is 64\n"
     ]
    }
   ],
   "source": [
    "def CharToAscii():\n",
    "    char = input('Enter a Character: ')\n",
    "    if len(char) > 1:\n",
    "        print('Please Enter a Single Character')\n",
    "    else:\n",
    "        print(f'Ascii Character of {char} is {ord(char)}')\n",
    "\n",
    "CharToAscii()"
   ]
  },
  {
   "cell_type": "markdown",
   "id": "7d9efaaa",
   "metadata": {},
   "source": [
    "# 5.\n",
    "Write a Python Program to Make a Simple Calculator with 4 basic mathematical operations?"
   ]
  },
  {
   "cell_type": "code",
   "execution_count": 5,
   "id": "881cfa16",
   "metadata": {},
   "outputs": [
    {
     "name": "stdout",
     "output_type": "stream",
     "text": [
      "Select a Arithmetic Operation:         \n",
      "1.Addition(+)        \n",
      "2.Substraction(-)        \n",
      "3.Multiplication(*)        \n",
      "4.Division(/)        \n",
      "5.Stop(0)\n",
      "\n",
      "Enter a arithmetic operation -> -\n",
      "\n",
      "Enter 1st Number: 56546\n",
      "Enter 2nd Number: 45\n",
      "56546-45=56501\n",
      "\n",
      "Enter a arithmetic operation -> +466\n",
      "Please enter a valid operator\n",
      "Enter a arithmetic operation -> +\n",
      "\n",
      "Enter 1st Number: 56456\n",
      "Enter 2nd Number: 56\n",
      "56456+56=56512\n",
      "\n",
      "Enter a arithmetic operation -> *\n",
      "\n",
      "Enter 1st Number: 454\n",
      "Enter 2nd Number: 45\n",
      "454*45=20430\n",
      "\n",
      "Enter a arithmetic operation -> /\n",
      "\n",
      "Enter 1st Number: 5445\n",
      "Enter 2nd Number: 4\n",
      "5445/4=1361.25\n",
      "\n",
      "Enter a arithmetic operation -> 0\n",
      "Program Stopped successfully\n"
     ]
    }
   ],
   "source": [
    "import operator\n",
    "\n",
    "operations = { \"+\": operator.add, \"-\": operator.sub, \"*\":operator.mul, \"/\":operator.truediv } \n",
    "\n",
    "print('Select a Arithmetic Operation: \\\n",
    "        \\n1.Addition(+)\\\n",
    "        \\n2.Substraction(-)\\\n",
    "        \\n3.Multiplication(*)\\\n",
    "        \\n4.Division(/)\\\n",
    "        \\n5.Stop(0)\\n')\n",
    "   \n",
    "\n",
    "while True:\n",
    "    operator = input('Enter a arithmetic operation -> ')\n",
    "    if operator == '0':\n",
    "        print(\"Program Stopped successfully\")\n",
    "        break\n",
    "    elif operator not in ['+','-','*','/']:\n",
    "        print(\"Please enter a valid operator\")\n",
    "    else:\n",
    "        num_1 = int(input('\\nEnter 1st Number: '))\n",
    "        num_2 = int(input('Enter 2nd Number: '))\n",
    "        print('{}{}{}={}\\n'.format(num_1, operator, num_2, operations[operator](num_1,num_2)))"
   ]
  }
 ],
 "metadata": {
  "kernelspec": {
   "display_name": "Python 3 (ipykernel)",
   "language": "python",
   "name": "python3"
  },
  "language_info": {
   "codemirror_mode": {
    "name": "ipython",
    "version": 3
   },
   "file_extension": ".py",
   "mimetype": "text/x-python",
   "name": "python",
   "nbconvert_exporter": "python",
   "pygments_lexer": "ipython3",
   "version": "3.9.12"
  }
 },
 "nbformat": 4,
 "nbformat_minor": 5
}
