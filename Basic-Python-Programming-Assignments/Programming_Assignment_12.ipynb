{
 "cells": [
  {
   "cell_type": "markdown",
   "id": "64cc798e",
   "metadata": {},
   "source": [
    "# 1. \n",
    "Write a Python program to Extract Unique values dictionary values?"
   ]
  },
  {
   "cell_type": "code",
   "execution_count": 1,
   "id": "f4291978",
   "metadata": {},
   "outputs": [
    {
     "name": "stdout",
     "output_type": "stream",
     "text": [
      "dict_values(['Rakesh', 'Harit', 'Vineet', 'Rakesh', 'Vineet', 'Harit', 'Vivek'])\n",
      "Unique Values: ['Vineet', 'Vivek', 'Harit', 'Rakesh']\n"
     ]
    }
   ],
   "source": [
    "in_dict = {1:'Rakesh',2:'Harit',3:'Vineet',4:'Rakesh',5:'Vineet',6:'Harit',7:'Vivek'}\n",
    "print(in_dict.values())\n",
    "print(f'Unique Values: {list(set(in_dict.values()))}')"
   ]
  },
  {
   "cell_type": "markdown",
   "id": "675f6a4d",
   "metadata": {},
   "source": [
    "# 2.\n",
    "Write a Python program to find the sum of all items in a dictionary?"
   ]
  },
  {
   "cell_type": "code",
   "execution_count": 2,
   "id": "1dd88b82",
   "metadata": {},
   "outputs": [
    {
     "name": "stdout",
     "output_type": "stream",
     "text": [
      "Sum of all items:  102\n"
     ]
    }
   ],
   "source": [
    "dict = {'a' : 23 , 'b' : 34 , 'c' : 45}\n",
    "print('Sum of all items: ',sum(dict.values()))"
   ]
  },
  {
   "cell_type": "markdown",
   "id": "d46aa7b8",
   "metadata": {},
   "source": [
    "# 3.\n",
    "Write a Python program to Merging two Dictionaries?"
   ]
  },
  {
   "cell_type": "code",
   "execution_count": 3,
   "id": "40fb2062",
   "metadata": {},
   "outputs": [
    {
     "name": "stdout",
     "output_type": "stream",
     "text": [
      "{'name': 'rakesh', 'age': 23, 'height': 170, 'education': 'B.E', 'City': 'Ankleshwar'}\n"
     ]
    }
   ],
   "source": [
    "dict1= { \"name\" : 'rakesh' , 'age' : 23 , 'height' : 170 }\n",
    "dict2= {\"education\" : \"B.E\" , 'City' : 'Ankleshwar'}\n",
    "dict1.update(dict2)\n",
    "print(dict1)"
   ]
  },
  {
   "cell_type": "markdown",
   "id": "ea251711",
   "metadata": {},
   "source": [
    "# 4.\n",
    "Write a Python program to convert key-values list to flat dictionary?"
   ]
  },
  {
   "cell_type": "code",
   "execution_count": 4,
   "id": "93485583",
   "metadata": {},
   "outputs": [
    {
     "name": "stdout",
     "output_type": "stream",
     "text": [
      "{'RAKESH': 23, 'HARIT': 25, 'VINEET': 26}\n"
     ]
    }
   ],
   "source": [
    "list1 = [ ('RAKESH' , 23) , ('HARIT' , 25) , ('VINEET' , 26)]\n",
    "flat_dict = {}\n",
    "\n",
    "for key, value in list1:\n",
    "    flat_dict[key] = value\n",
    "\n",
    "print(flat_dict)"
   ]
  },
  {
   "cell_type": "markdown",
   "id": "b4eb794b",
   "metadata": {},
   "source": [
    "# 5.\n",
    "Write a Python program to insertion at the beginning in OrderedDict?"
   ]
  },
  {
   "cell_type": "code",
   "execution_count": 5,
   "id": "23006289",
   "metadata": {},
   "outputs": [
    {
     "name": "stdout",
     "output_type": "stream",
     "text": [
      "dict_one OrderedDict([('Apple', 'Iphone'), ('Microsoft', 'Windows'), ('Google', 'chrome')])\n",
      "dict_one OrderedDict([('Apple', 'Iphone'), ('Microsoft', 'Windows'), ('Google', 'chrome'), ('Tesla', 'SpaceX')])\n",
      "dict_one OrderedDict([('Tesla', 'SpaceX'), ('Apple', 'Iphone'), ('Microsoft', 'Windows'), ('Google', 'chrome')])\n"
     ]
    }
   ],
   "source": [
    "from collections import OrderedDict\n",
    "dict_one = OrderedDict({'Apple':'Iphone','Microsoft':'Windows','Google':'chrome'})\n",
    "print('dict_one',dict_one)\n",
    "dict_two = {'Tesla':'SpaceX'}\n",
    "dict_one.update(dict_two)\n",
    "print('dict_one',dict_one)\n",
    "dict_one.move_to_end('Tesla',last=False)\n",
    "print('dict_one',dict_one)"
   ]
  },
  {
   "cell_type": "markdown",
   "id": "46f640d9",
   "metadata": {},
   "source": [
    "# 6. \n",
    "Write a Python program to check order of character in string using OrderedDict()?"
   ]
  },
  {
   "cell_type": "code",
   "execution_count": 6,
   "id": "35b2444c",
   "metadata": {},
   "outputs": [
    {
     "name": "stdout",
     "output_type": "stream",
     "text": [
      "{'a': 1000, 'f': 200, 'd': 300, 'c': 400, 'b': 500, 'e': 600}\n",
      "OrderedDict([('a', 1000), ('b', 500), ('c', 400), ('d', 300), ('e', 600), ('f', 200)])\n"
     ]
    }
   ],
   "source": [
    "from collections import OrderedDict\n",
    "\n",
    "initial_list = {'a': 1000, 'f': 200, 'd': 300, 'c': 400, 'b': 500, 'e': 600}\n",
    "print(initial_list)\n",
    "\n",
    "final_list = OrderedDict(sorted(initial_list.items()))\n",
    "print(final_list)"
   ]
  },
  {
   "cell_type": "markdown",
   "id": "e5d2a32f",
   "metadata": {},
   "source": [
    "# 7.\n",
    "Write a Python program to sort Python Dictionaries by Key or Value?"
   ]
  },
  {
   "cell_type": "code",
   "execution_count": 7,
   "id": "455b8a2f",
   "metadata": {},
   "outputs": [
    {
     "name": "stdout",
     "output_type": "stream",
     "text": [
      "{'Mango': 1000, 'PineApple': 200, 'Banana': 60, 'Grape': 13}\n",
      "OrderedDict([('Banana', 60), ('Grape', 13), ('Mango', 1000), ('PineApple', 200)])\n",
      "OrderedDict([('Grape', 13), ('Banana', 60), ('PineApple', 200), ('Mango', 1000)])\n"
     ]
    }
   ],
   "source": [
    "from collections import OrderedDict\n",
    "\n",
    "d_items = {'Mango': 1000, 'PineApple': 200, 'Banana': 60, 'Grape': 13}\n",
    "print(d_items)\n",
    "\n",
    "def sort_dict(in_dict, sort_type):\n",
    "    if sort_type == 'key':\n",
    "        print(OrderedDict(sorted(in_dict.items(), key=lambda x: x[0], reverse=False)))\n",
    "    else:\n",
    "        print(OrderedDict(sorted(in_dict.items(), key=lambda x: x[1], reverse=False)))\n",
    "\n",
    "sort_dict(d_items, 'key')\n",
    "sort_dict(d_items, 'value')\n"
   ]
  }
 ],
 "metadata": {
  "kernelspec": {
   "display_name": "Python 3 (ipykernel)",
   "language": "python",
   "name": "python3"
  },
  "language_info": {
   "codemirror_mode": {
    "name": "ipython",
    "version": 3
   },
   "file_extension": ".py",
   "mimetype": "text/x-python",
   "name": "python",
   "nbconvert_exporter": "python",
   "pygments_lexer": "ipython3",
   "version": "3.9.12"
  }
 },
 "nbformat": 4,
 "nbformat_minor": 5
}
