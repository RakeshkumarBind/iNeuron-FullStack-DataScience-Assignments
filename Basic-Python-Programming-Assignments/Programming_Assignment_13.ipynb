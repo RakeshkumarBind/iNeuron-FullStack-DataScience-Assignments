{
 "cells": [
  {
   "cell_type": "markdown",
   "id": "0442c12a",
   "metadata": {},
   "source": [
    "# Question 1:\n",
    "Write a program that calculates and prints the value according to the given formula:<br>\n",
    "Q = Square root of [(2 * C * D)/H]<br>\n",
    "Following are the fixed values of C and H:\n",
    "C is 50. H is 30.<br>\n",
    "D is the variable whose values should be input to your program in a comma-separated\n",
    "sequence.<br>\n",
    "Example<br>\n",
    "Let us assume the following comma separated input sequence is given to the program:<br>\n",
    "100,150,180<br>\n",
    "The output of the program should be:<br>\n",
    "18,22,24<br>"
   ]
  },
  {
   "cell_type": "code",
   "execution_count": 1,
   "id": "2cdcca8d",
   "metadata": {},
   "outputs": [
    {
     "name": "stdout",
     "output_type": "stream",
     "text": [
      "Enter the Input: 100,150,180\n",
      "Output: 18,22,24\n"
     ]
    }
   ],
   "source": [
    "from math import sqrt\n",
    "def calculateProgram():\n",
    "    in_num = eval(input(\"Enter the Input: \"))\n",
    "    out_num = []\n",
    "    C = 50 \n",
    "    H = 30\n",
    "    for ele in in_num:\n",
    "        Q = str(int(sqrt((2*C*ele)/H)))\n",
    "        out_num.append(Q)\n",
    "    print(\"Output: {}\".format(','.join(out_num)))\n",
    "    \n",
    "calculateProgram()"
   ]
  },
  {
   "cell_type": "markdown",
   "id": "01493da1",
   "metadata": {},
   "source": [
    "# Question 2:\n",
    "Write a program which takes 2 digits, X,Y as input and generates a 2-dimensional array. The<br>\n",
    "element value in the i-th row and j-th column of the array should be i*j.<br>\n",
    "Note: i=0,1.., X-1; j=0,1,¡Y-1.<br>\n",
    "Example<br>\n",
    "Suppose the following inputs are given to the program:<br>\n",
    "3,5<br>\n",
    "Then, the output of the program should be:<br>\n",
    "[[0, 0, 0, 0, 0], [0, 1, 2, 3, 4], [0, 2, 4, 6, 8]]<br>"
   ]
  },
  {
   "cell_type": "code",
   "execution_count": 2,
   "id": "1b66d1b4",
   "metadata": {},
   "outputs": [
    {
     "name": "stdout",
     "output_type": "stream",
     "text": [
      "Enter the No of Rows:3\n",
      "Enter the No of Columns:5\n",
      "[[0, 0, 0, 0, 0], [0, 1, 2, 3, 4], [0, 2, 4, 6, 8]]\n"
     ]
    }
   ],
   "source": [
    "import array as arr\n",
    "def generateArray():\n",
    "    in_x = int(input('Enter the No of Rows:'))\n",
    "    in_y = int(input('Enter the No of Columns:')) \n",
    "    out_array = []\n",
    "    for ele in range(in_x):\n",
    "        out_array.insert(in_x,[])\n",
    "        for sub_ele in range(in_y):\n",
    "            out_array[ele].append(ele*sub_ele)\n",
    "    print(out_array)\n",
    "    \n",
    "generateArray()"
   ]
  },
  {
   "cell_type": "markdown",
   "id": "20ca23f0",
   "metadata": {},
   "source": [
    "# Question 3:\n",
    "Write a program that accepts a comma separated sequence of words as input and prints the<br>\n",
    "words in a comma-separated sequence after sorting them alphabetically.<br>\n",
    "Suppose the following input is supplied to the program:<br>\n",
    "without,hello,bag,world<br>\n",
    "Then, the output should be:<br>\n",
    "bag,hello,without,world<br>"
   ]
  },
  {
   "cell_type": "code",
   "execution_count": 3,
   "id": "ff6e814f",
   "metadata": {},
   "outputs": [
    {
     "name": "stdout",
     "output_type": "stream",
     "text": [
      "Enter the Input String: without,hello,bag,world\n",
      "Output: bag,hello,without,world\n"
     ]
    }
   ],
   "source": [
    "def sortString():\n",
    "    in_string = input(\"Enter the Input String: \")\n",
    "    out_string = ','.join(sorted(in_string.split(',')))\n",
    "    print(f'Output: {out_string}')\n",
    "    \n",
    "sortString()"
   ]
  },
  {
   "cell_type": "markdown",
   "id": "f7707bd7",
   "metadata": {},
   "source": [
    "# Question 4:\n",
    "Write a program that accepts a sequence of whitespace separated words as input and prints<br>\n",
    "the words after removing all duplicate words and sorting them alphanumerically.<br>\n",
    "Suppose the following input is supplied to the program:<br>\n",
    "hello world and practice makes perfect and hello world again<br>\n",
    "Then, the output should be:<br>\n",
    "again and hello makes perfect practice world<br>"
   ]
  },
  {
   "cell_type": "code",
   "execution_count": 4,
   "id": "ed8cdf80",
   "metadata": {},
   "outputs": [
    {
     "name": "stdout",
     "output_type": "stream",
     "text": [
      "Enter the Input String: hello world and practice makes perfect and hello world again\n",
      "Output: again and hello makes perfect practice world\n"
     ]
    }
   ],
   "source": [
    "def sortAlphaNumerically():\n",
    "    in_string = input(\"Enter the Input String: \")\n",
    "    out_string = ' '.join(sorted(sorted(list(set(in_string.split(\" \"))))))\n",
    "    print(f'Output: {out_string}')\n",
    "    \n",
    "sortAlphaNumerically()"
   ]
  },
  {
   "cell_type": "markdown",
   "id": "b3f3c3ea",
   "metadata": {},
   "source": [
    "# Question 5:\n",
    "Write a program that accepts a sentence and calculate the number of letters and digits.<br>\n",
    "Suppose the following input is supplied to the program:<br>\n",
    "hello world! 123<br>\n",
    "Then, the output should be:<br>\n",
    "LETTERS 10<br>\n",
    "<br>\n",
    "DIGITS 3<br>"
   ]
  },
  {
   "cell_type": "code",
   "execution_count": 5,
   "id": "ec518602",
   "metadata": {},
   "outputs": [
    {
     "name": "stdout",
     "output_type": "stream",
     "text": [
      "Enter the Input String: hello world! 123\n",
      "LETTERS 10 \n",
      "DIGITS 3\n"
     ]
    }
   ],
   "source": [
    "def countLetterAndDigits():\n",
    "    in_string = input(\"Enter the Input String: \")\n",
    "    lettersList = 'ABCDEFGHIJKLMNOPQRSTUVWXYZabcdefghijklmnopqrstuvwxyz'\n",
    "    digitsList = '0123456789'\n",
    "    letters = 0\n",
    "    digits = 0\n",
    "    for ele in in_string:\n",
    "        if ele in lettersList:\n",
    "            letters += 1\n",
    "        if ele in digitsList:\n",
    "            digits += 1\n",
    "    print(f'LETTERS {letters} \\nDIGITS {digits}')\n",
    "        \n",
    "countLetterAndDigits()"
   ]
  },
  {
   "cell_type": "markdown",
   "id": "12a88d1a",
   "metadata": {},
   "source": [
    "# Question 6:\n",
    "A website requires the users to input username and password to register. Write a program to<br>\n",
    "check the validity of password input by users.<br>\n",
    "Following are the criteria for checking the password:<br>\n",
    "1. At least 1 letter between [a-z]<br>\n",
    "2. At least 1 number between [0-9]<br>\n",
    "1. At least 1 letter between [A-Z]<br>\n",
    "3. At least 1 character from [$#@]<br>\n",
    "4. Minimum length of transaction password: 6<br>\n",
    "5. Maximum length of transaction password: 12<br>\n",
    "Your program should accept a sequence of comma separated passwords and will check them<br>\n",
    "according to the above criteria. Passwords that match the criteria are to be printed, each<br>\n",
    "separated by a comma.<br>\n",
    "Example<br>\n",
    "If the following passwords are given as input to the program:<br>\n",
    "ABd1234@1,a F1#,2w3E*,2We3345<br>\n",
    "Then, the output of the program should be:<br>\n",
    "ABd1234@1<br>"
   ]
  },
  {
   "cell_type": "code",
   "execution_count": 6,
   "id": "8c3916b3",
   "metadata": {},
   "outputs": [
    {
     "name": "stdout",
     "output_type": "stream",
     "text": [
      "Enter the Input String: ABd1234@1,a F1#,2w3E*,2We3345\n",
      "ABd1234@1\n"
     ]
    }
   ],
   "source": [
    "def checkPassword():\n",
    "    in_string = input(\"Enter the Input String: \")\n",
    "    small_list = \"abcdefghijklmnopqrstuvwxyz\"\n",
    "    cap_list = \"ABCDEFGHIJKLMNOPQRSTUVWXYZ\"\n",
    "    num_list = \"0123456789\"\n",
    "    special_list = \"$#@\"\n",
    "    for ele in in_string.split(\",\"):\n",
    "        if len(ele) <= 12 and len(ele) >=6 :\n",
    "            if any(i.isupper() for i in ele):\n",
    "                if any(i.islower() for i in ele):\n",
    "                    if any(i for i in ele if i in special_list):\n",
    "                        print(ele)\n",
    "                               \n",
    "checkPassword() "
   ]
  },
  {
   "cell_type": "code",
   "execution_count": null,
   "id": "1a668354",
   "metadata": {},
   "outputs": [],
   "source": []
  },
  {
   "cell_type": "code",
   "execution_count": null,
   "id": "85ef282f",
   "metadata": {},
   "outputs": [],
   "source": []
  }
 ],
 "metadata": {
  "kernelspec": {
   "display_name": "Python 3 (ipykernel)",
   "language": "python",
   "name": "python3"
  },
  "language_info": {
   "codemirror_mode": {
    "name": "ipython",
    "version": 3
   },
   "file_extension": ".py",
   "mimetype": "text/x-python",
   "name": "python",
   "nbconvert_exporter": "python",
   "pygments_lexer": "ipython3",
   "version": "3.9.12"
  }
 },
 "nbformat": 4,
 "nbformat_minor": 5
}
